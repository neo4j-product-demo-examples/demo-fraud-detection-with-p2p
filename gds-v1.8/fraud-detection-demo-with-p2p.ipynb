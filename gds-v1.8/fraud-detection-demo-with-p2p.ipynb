{
 "cells": [
  {
   "cell_type": "markdown",
   "metadata": {
    "collapsed": true
   },
   "source": [
    "# Exploring Fraud Detection With Neo4j & Graph Data Science\n",
    "\n",
    "This analysis uses [Neo4j and Graph Data Science (GDS)](https://neo4j.com/docs/graph-data-science/current/) to explore an anonymized data sample from a Peer-to-Peer (P2P) payment platform.  The notebook is split up into the following sections to cover various stages of the graph data science workflow:\n",
    "\n",
    "- Notebook Setup\n",
    "- Part 1: Exploring Connected Fraud Data\n",
    "- Part 2: Resolving Fraud Communities using Entity Resolution and Community Detection\n",
    "- Part 3: Recommending Suspicious Accounts With Centrality & Node Similarity\n",
    "- Part 4: Predicting Fraud Risk Accounts with Machine Learning"
   ]
  },
  {
   "cell_type": "markdown",
   "source": [
    "## Notebook Setup <a name=\"p0\"></a>"
   ],
   "metadata": {
    "collapsed": false
   }
  },
  {
   "cell_type": "code",
   "execution_count": 1,
   "outputs": [],
   "source": [
    "from neo4j import GraphDatabase\n",
    "import pandas as pd\n",
    "import configparser\n",
    "import os\n",
    "pd.set_option('display.width', 0)\n",
    "pd.set_option('display.max_colwidth', 500)\n",
    "pd.set_option('display.max_rows', 50)"
   ],
   "metadata": {
    "collapsed": false
   }
  },
  {
   "cell_type": "markdown",
   "source": [
    "### Neo4j Settings\n",
    "The `NEO4J_PROPERTIES_FILE` is an ini configuration file for Neo4j properties so this notebook can connect to\n",
    "your Neo4j instance and load data. The ini file should be formatted as follows\n",
    "```\n",
    "[NEO4J]\n",
    "PASSWORD=<password>\n",
    "USERNAME=<database name, is 'neo4j' by default>\n",
    "HOST=<host uri>\n",
    "```\n",
    "\n",
    "Set `NEO4J_PROPERTIES_FILE` to None or any non-existent location to use the below defaults\n",
    "```\n",
    "HOST = 'neo4j://localhost'\n",
    "USERNAME = 'neo4j'\n",
    "PASSWORD = 'password'\n",
    "```"
   ],
   "metadata": {
    "collapsed": false
   }
  },
  {
   "cell_type": "code",
   "execution_count": 2,
   "outputs": [],
   "source": [
    "NEO4J_PROPERTIES_FILE = '/Users/zachblumenfeld/devtools/auth/aura-p2p-fd.ini'"
   ],
   "metadata": {
    "collapsed": false
   }
  },
  {
   "cell_type": "code",
   "execution_count": 3,
   "outputs": [
    {
     "name": "stdout",
     "output_type": "stream",
     "text": [
      "Using custom database properties\n"
     ]
    }
   ],
   "source": [
    "## Using an ini file for credentials, otherwise providing defaults\n",
    "HOST = 'neo4j://localhost'\n",
    "USERNAME = 'neo4j'\n",
    "PASSWORD = 'password'\n",
    "\n",
    "if NEO4J_PROPERTIES_FILE is not None and os.path.exists(NEO4J_PROPERTIES_FILE):\n",
    "    config = configparser.RawConfigParser()\n",
    "    config.read(NEO4J_PROPERTIES_FILE)\n",
    "    HOST = config['NEO4J']['HOST']\n",
    "    USERNAME = config['NEO4J']['USERNAME']\n",
    "    PASSWORD = config['NEO4J']['PASSWORD']\n",
    "    print('Using custom database properties')\n",
    "else:\n",
    "    print('Could not find database properties file, using defaults')"
   ],
   "metadata": {
    "collapsed": false
   }
  },
  {
   "cell_type": "code",
   "execution_count": 4,
   "outputs": [],
   "source": [
    "driver = GraphDatabase.driver(HOST, auth=(USERNAME, PASSWORD))"
   ],
   "metadata": {
    "collapsed": false
   }
  },
  {
   "cell_type": "markdown",
   "source": [
    "### Helper Functions"
   ],
   "metadata": {
    "collapsed": false
   }
  },
  {
   "cell_type": "code",
   "execution_count": 5,
   "outputs": [],
   "source": [
    "def run(driver, query, params=None):\n",
    "    with driver.session() as session:\n",
    "        if params is not None:\n",
    "            return [r for r in session.run(query, params)]\n",
    "        else:\n",
    "            return [r for r in session.run(query)]\n",
    "\n",
    "def clear_graph(driver, graph_name):\n",
    "    if run(driver, f\"CALL gds.graph.exists('{graph_name}') YIELD exists RETURN exists\")[0].get(\"exists\"):\n",
    "        run(driver, f\"CALL gds.graph.drop('{graph_name}')\")\n",
    "\n",
    "def clear_all_graphs(driver):\n",
    "    graphs = run(driver, 'CALL gds.graph.list() YIELD graphName RETURN collect(graphName) as graphs')[0].get('graphs')\n",
    "    for g in graphs:\n",
    "        run(driver, f\"CALL gds.graph.drop('{g}')\")\n",
    "\n",
    "def identifier_degrees(user_label, degree_property):\n",
    "    params = {'userLabel': user_label, 'property': degree_property}\n",
    "    clear_graph(driver, 'id-projection')\n",
    "    run(driver, '''\n",
    "        CALL gds.graph.create('id-projection',\n",
    "            [$userLabel, 'Card', 'Device', 'IP'],\n",
    "            {\n",
    "                HAS_CC: {orientation: 'REVERSE'},\n",
    "                HAS_IP: {orientation: 'REVERSE'},\n",
    "                USED: {orientation: 'REVERSE'}\n",
    "            }\n",
    "        )\n",
    "    ''', params=params)\n",
    "\n",
    "    run(driver, '''\n",
    "        CALL gds.degree.mutate('id-projection', {\n",
    "            mutateProperty: $property\n",
    "        })\n",
    "    ''', params=params)\n",
    "\n",
    "    run(driver, '''\n",
    "        CALL gds.graph.writeNodeProperties('id-projection',\n",
    "            [$property],\n",
    "            ['Card', 'Device', 'IP']\n",
    "        )\n",
    "    ''', params=params)\n",
    "    clear_graph(driver, 'id-projection')"
   ],
   "metadata": {
    "collapsed": false
   }
  },
  {
   "cell_type": "markdown",
   "source": [
    "## Part 1: Exploring Connected Fraud Data"
   ],
   "metadata": {
    "collapsed": false
   }
  },
  {
   "cell_type": "markdown",
   "source": [
    "### Dataset Introduction\n",
    "\n",
    "We will be using an anonymized sample of user accounts and transactions from a real-world Peer-to-Peer (P2P) platform. Prior to ingesting the data into graph, the original identification numbers were removed and categorical values were masked. Each user account has a unique 128-bit identifier, while the other nodes, representing unique credit cards, devices, and ip addresses have been assigned random UUIDs. These identifier are stored as the guid property in the graph schema.\n",
    "\n",
    "Below is a visualization of the graph schema:\n",
    "\n",
    "<img src=\"img/schema.png\" width=\"500\" >\n",
    "\n",
    "Each user node has an indicator variable for money transfer fraud (named MoneyTransferFraud) that is 1 for known fraud and 0 otherwise. This indicator is determined by a combination of credit card chargeback events and manual review. A chargeback is an action taken by a bank to reverse electronic payments. It involves reversing a payment and triggering a dispute resolution process, often for billing errors and unauthorized credit use. In short, a user must have at least one chargeback to be considered fraudulent. Only a small proportion of the user accounts, roughly 0.7 %, are flagged for fraud.\n",
    "\n",
    "Each user node has an indicator variable for money transfer fraud (named `MoneyTransferFraud`) that is 1 for known fraud and 0 otherwise. This indicator is determined by a combination of credit card chargeback events and manual review. A chargeback is an action taken by a bank to reverse electronic payments. It involves reversing a payment and triggering a dispute resolution process, often for billing errors and unauthorized credit use. In short, a user must have at least one chargeback to be considered fraudulent. Only a small proportion of the user accounts, roughly 0.7 %, are flagged for fraud."
   ],
   "metadata": {
    "collapsed": false
   }
  },
  {
   "cell_type": "markdown",
   "source": [
    "\n",
    "Below is a breakdown of high-level counts by labels and relationships as well as the flagged accounts."
   ],
   "metadata": {
    "collapsed": false
   }
  },
  {
   "cell_type": "code",
   "execution_count": 6,
   "outputs": [
    {
     "data": {
      "text/plain": "              Card  Device      IP   User\nnodeCounts  118818   51451  585855  33732",
      "text/html": "<div>\n<style scoped>\n    .dataframe tbody tr th:only-of-type {\n        vertical-align: middle;\n    }\n\n    .dataframe tbody tr th {\n        vertical-align: top;\n    }\n\n    .dataframe thead th {\n        text-align: right;\n    }\n</style>\n<table border=\"1\" class=\"dataframe\">\n  <thead>\n    <tr style=\"text-align: right;\">\n      <th></th>\n      <th>Card</th>\n      <th>Device</th>\n      <th>IP</th>\n      <th>User</th>\n    </tr>\n  </thead>\n  <tbody>\n    <tr>\n      <th>nodeCounts</th>\n      <td>118818</td>\n      <td>51451</td>\n      <td>585855</td>\n      <td>33732</td>\n    </tr>\n  </tbody>\n</table>\n</div>"
     },
     "execution_count": 6,
     "metadata": {},
     "output_type": "execute_result"
    }
   ],
   "source": [
    "# total node counts\n",
    "result = run(driver, 'CALL apoc.meta.stats() YIELD labels AS nodeCounts')\n",
    "pd.DataFrame(dict(result[0])).transpose()"
   ],
   "metadata": {
    "collapsed": false
   }
  },
  {
   "cell_type": "code",
   "execution_count": 7,
   "outputs": [
    {
     "data": {
      "text/plain": "                    HAS_CC   HAS_IP     P2P  REFERRED   USED\nrelationshipCounts  128066  1488949  102832      1870  55026",
      "text/html": "<div>\n<style scoped>\n    .dataframe tbody tr th:only-of-type {\n        vertical-align: middle;\n    }\n\n    .dataframe tbody tr th {\n        vertical-align: top;\n    }\n\n    .dataframe thead th {\n        text-align: right;\n    }\n</style>\n<table border=\"1\" class=\"dataframe\">\n  <thead>\n    <tr style=\"text-align: right;\">\n      <th></th>\n      <th>HAS_CC</th>\n      <th>HAS_IP</th>\n      <th>P2P</th>\n      <th>REFERRED</th>\n      <th>USED</th>\n    </tr>\n  </thead>\n  <tbody>\n    <tr>\n      <th>relationshipCounts</th>\n      <td>128066</td>\n      <td>1488949</td>\n      <td>102832</td>\n      <td>1870</td>\n      <td>55026</td>\n    </tr>\n  </tbody>\n</table>\n</div>"
     },
     "execution_count": 7,
     "metadata": {},
     "output_type": "execute_result"
    }
   ],
   "source": [
    "# total relationship counts\n",
    "result = run(driver, 'CALL apoc.meta.stats() YIELD relTypesCount as relationshipCounts')\n",
    "pd.DataFrame(dict(result[0])).transpose()"
   ],
   "metadata": {
    "collapsed": false
   }
  },
  {
   "cell_type": "code",
   "execution_count": 8,
   "outputs": [
    {
     "data": {
      "text/plain": "   fraudMoneyTransfer    cnt\n0                   0  33491\n1                   1    241",
      "text/html": "<div>\n<style scoped>\n    .dataframe tbody tr th:only-of-type {\n        vertical-align: middle;\n    }\n\n    .dataframe tbody tr th {\n        vertical-align: top;\n    }\n\n    .dataframe thead th {\n        text-align: right;\n    }\n</style>\n<table border=\"1\" class=\"dataframe\">\n  <thead>\n    <tr style=\"text-align: right;\">\n      <th></th>\n      <th>fraudMoneyTransfer</th>\n      <th>cnt</th>\n    </tr>\n  </thead>\n  <tbody>\n    <tr>\n      <th>0</th>\n      <td>0</td>\n      <td>33491</td>\n    </tr>\n    <tr>\n      <th>1</th>\n      <td>1</td>\n      <td>241</td>\n    </tr>\n  </tbody>\n</table>\n</div>"
     },
     "execution_count": 8,
     "metadata": {},
     "output_type": "execute_result"
    }
   ],
   "source": [
    "result = run(driver, 'MATCH(u:User) RETURN u.fraudMoneyTransfer AS fraudMoneyTransfer, count(u) AS cnt')\n",
    "pd.DataFrame(dict(record) for record in result)"
   ],
   "metadata": {
    "collapsed": false
   }
  },
  {
   "cell_type": "markdown",
   "source": [
    "### A Closer Look at Cards and Devices\n",
    "\n",
    "Upon an initial investigation of aggregate statistics, the labeled fraud accounts do not look well connected which would naturally make one skeptical of a graph based approach.  This is exemplified well by the lack of discrimination in key identifiers.\n",
    "\n",
    "As a first step, I break out the ratio of fraud vs non-fraud users connected to credit cards and devices below. I find that very few cards or devices are centered well around flagged accounts. This is a bit surprising for me. If a card or device is used by a flagged account, I would expect the other accounts that use the card/device to also be mostly flagged for fraud as well."
   ],
   "metadata": {
    "collapsed": false
   }
  },
  {
   "cell_type": "code",
   "execution_count": 9,
   "outputs": [
    {
     "data": {
      "text/plain": "[<Record count(u)=241>]"
     },
     "execution_count": 9,
     "metadata": {},
     "output_type": "execute_result"
    }
   ],
   "source": [
    "# Setting a label for flagged users will enable faster lookups in cypher and faster gds projections\n",
    "run(driver, 'MATCH(u:User) WHERE u.fraudMoneyTransfer=1 SET u:FlaggedUser RETURN count(u)')"
   ],
   "metadata": {
    "collapsed": false
   }
  },
  {
   "cell_type": "code",
   "execution_count": 10,
   "outputs": [
    {
     "data": {
      "text/plain": "[]"
     },
     "execution_count": 10,
     "metadata": {},
     "output_type": "execute_result"
    }
   ],
   "source": [
    "# Use GDS degree centrality to count the number of Users connected to each identifier type - Card, Device, IP\n",
    "identifier_degrees('User', 'degree')\n",
    "# Use GDS degree centrality to count the number of FLAGGED Users connected to each identifier type - Card, Device, IP\n",
    "identifier_degrees('FlaggedUser', 'flaggedDegree')\n",
    "\n",
    "# Calculate the ratio of flagged users to total users\n",
    "run(driver, '''\n",
    "        MATCH(n) WHERE n:Card OR n:Device OR n:IP\n",
    "        SET n.flaggedRatio = toFloat(n.flaggedDegree)/toFloat(n.degree)\n",
    "''')"
   ],
   "metadata": {
    "collapsed": false
   }
  },
  {
   "cell_type": "code",
   "execution_count": 11,
   "outputs": [
    {
     "name": "stdout",
     "output_type": "stream",
     "text": [
      "Flagged User Ratio for Card Count\n"
     ]
    },
    {
     "data": {
      "text/plain": "  flaggedUserRatio  count  percentCount\n0                0   8185         0.964\n1                1     31         0.004\n2      Between 0-1    274         0.032",
      "text/html": "<div>\n<style scoped>\n    .dataframe tbody tr th:only-of-type {\n        vertical-align: middle;\n    }\n\n    .dataframe tbody tr th {\n        vertical-align: top;\n    }\n\n    .dataframe thead th {\n        text-align: right;\n    }\n</style>\n<table border=\"1\" class=\"dataframe\">\n  <thead>\n    <tr style=\"text-align: right;\">\n      <th></th>\n      <th>flaggedUserRatio</th>\n      <th>count</th>\n      <th>percentCount</th>\n    </tr>\n  </thead>\n  <tbody>\n    <tr>\n      <th>0</th>\n      <td>0</td>\n      <td>8185</td>\n      <td>0.964</td>\n    </tr>\n    <tr>\n      <th>1</th>\n      <td>1</td>\n      <td>31</td>\n      <td>0.004</td>\n    </tr>\n    <tr>\n      <th>2</th>\n      <td>Between 0-1</td>\n      <td>274</td>\n      <td>0.032</td>\n    </tr>\n  </tbody>\n</table>\n</div>"
     },
     "execution_count": 11,
     "metadata": {},
     "output_type": "execute_result"
    }
   ],
   "source": [
    "result = run(driver, '''\n",
    "    MATCH(n:Card) WHERE n.degree > 1\n",
    "    WITH toFloat(count(n)) AS total\n",
    "    MATCH(n:Card) WHERE n.degree > 1\n",
    "    WITH n, total, CASE\n",
    "        WHEN n.flaggedRatio=0 THEN '0'\n",
    "        WHEN n.flaggedRatio=1  THEN '1'\n",
    "        ELSE 'Between 0-1' END AS flaggedUserRatio\n",
    "    RETURN flaggedUserRatio, count(n) AS count, round(toFloat(count(n))/total,3) AS percentCount ORDER BY flaggedUserRatio\n",
    "''')\n",
    "print('Flagged User Ratio for Card Count')\n",
    "pd.DataFrame([dict(record) for record in result])"
   ],
   "metadata": {
    "collapsed": false
   }
  },
  {
   "cell_type": "code",
   "execution_count": 12,
   "outputs": [
    {
     "name": "stdout",
     "output_type": "stream",
     "text": [
      "Flagged User Ratio for Device Count\n"
     ]
    },
    {
     "data": {
      "text/plain": "  flaggedUserRatio  count  percentCount\n0                0   2655         0.967\n1                1      2         0.001\n2      Between 0-1     88         0.032",
      "text/html": "<div>\n<style scoped>\n    .dataframe tbody tr th:only-of-type {\n        vertical-align: middle;\n    }\n\n    .dataframe tbody tr th {\n        vertical-align: top;\n    }\n\n    .dataframe thead th {\n        text-align: right;\n    }\n</style>\n<table border=\"1\" class=\"dataframe\">\n  <thead>\n    <tr style=\"text-align: right;\">\n      <th></th>\n      <th>flaggedUserRatio</th>\n      <th>count</th>\n      <th>percentCount</th>\n    </tr>\n  </thead>\n  <tbody>\n    <tr>\n      <th>0</th>\n      <td>0</td>\n      <td>2655</td>\n      <td>0.967</td>\n    </tr>\n    <tr>\n      <th>1</th>\n      <td>1</td>\n      <td>2</td>\n      <td>0.001</td>\n    </tr>\n    <tr>\n      <th>2</th>\n      <td>Between 0-1</td>\n      <td>88</td>\n      <td>0.032</td>\n    </tr>\n  </tbody>\n</table>\n</div>"
     },
     "execution_count": 12,
     "metadata": {},
     "output_type": "execute_result"
    }
   ],
   "source": [
    "result = run(driver, '''\n",
    "    MATCH(n:Device) WHERE n.degree > 1\n",
    "    WITH toFloat(count(n)) AS total\n",
    "    MATCH(n:Device) WHERE n.degree > 1\n",
    "    WITH n, total, CASE\n",
    "        WHEN n.flaggedRatio=0 THEN '0'\n",
    "        WHEN n.flaggedRatio=1  THEN '1'\n",
    "        ELSE 'Between 0-1' END AS flaggedUserRatio\n",
    "    RETURN flaggedUserRatio, count(n) AS count, round(toFloat(count(n))/total,3) AS percentCount ORDER BY flaggedUserRatio\n",
    "''')\n",
    "print('Flagged User Ratio for Device Count')\n",
    "pd.DataFrame([dict(record) for record in result])"
   ],
   "metadata": {
    "collapsed": false
   }
  },
  {
   "cell_type": "markdown",
   "source": [
    "#### Exploring Potential Fraud Patterns with Community Detection\n",
    "\n",
    "In this example, it is unclear to me what exactly is taking place, and I have a hunch that the fraud activity is not completely labeled given the lack of connectivity and the limited chargeback logic used to flag fraud. At the same time I do not want to simply label every user that shares a card or device with another flagged account, since it is possible that a benign user's device and or card was used fraudulently by another. Since fraudsters are actively avoiding being identified, actors committing fraud are often not just represented by a single user account, but rather by multiple accounts and identifiers which, hopefully for us, share some connections and similarities.\n",
    "\n",
    "In a graph, we can attempt to roughly identify these fragmented identities with Community Detection, a large set of methods that attempt to partition graphs into well connected groups a.k.a. Communities, where the connectivity in the communities is significantly higher than outside the community. There are multiple forms of community detection. We will use a couple in this post, starting with Louvain."
   ],
   "metadata": {
    "collapsed": false
   }
  },
  {
   "cell_type": "markdown",
   "source": [
    "#### Using Louvain Community Detection\n",
    "\n",
    "[Louvain](https://neo4j.com/docs/graph-data-science/current/algorithms/louvain/) is useful for exploratory analysis of communities because it uses a form of modularity scoring to split up the graph into hierarchical clusters. This means that your theories around fraud patterns and graph structure don't need to be exact for it to provide informative communities and insights.\n",
    "\n",
    "I will leverage P2P transactions, cards, and devices for Louvain. We will leave out IP addresses for now since they have some super node issues (we will leverage IP addresses in subsequent parts ). Below are the queries for running Louvain in Neo4j GDS and aggregating community statistics. The last query below orders communities by the count of flagged users so we can further examine some of the more concentrated flagged communities.\n"
   ],
   "metadata": {
    "collapsed": false
   }
  },
  {
   "cell_type": "code",
   "execution_count": 13,
   "outputs": [
    {
     "data": {
      "text/plain": "[<Record writeMillis=388 nodePropertiesWritten=204001 modularity=0.9678958548119845 modularities=[0.8462865692462395, 0.9539336470849678, 0.9678958548119845] ranLevels=3 communityCount=13624 communityDistribution={'p99': 89, 'min': 1, 'max': 3418, 'mean': 14.973649442160893, 'p90': 26, 'p50': 10, 'p999': 443, 'p95': 36, 'p75': 16} postProcessingMillis=18 preProcessingMillis=0 computeMillis=1740 configuration={'maxIterations': 10, 'writeConcurrency': 4, 'seedProperty': None, 'consecutiveIds': False, 'maxLevels': 10, 'relationshipWeightProperty': None, 'concurrency': 4, 'writeProperty': 'louvainCommunityId', 'includeIntermediateCommunities': False, 'nodeLabels': ['*'], 'sudo': False, 'relationshipTypes': ['*'], 'tolerance': 0.0001, 'username': None}>]"
     },
     "execution_count": 13,
     "metadata": {},
     "output_type": "execute_result"
    }
   ],
   "source": [
    "clear_graph(driver,'comm-projection')\n",
    "\n",
    "run(driver, '''\n",
    "    CALL gds.graph.create('comm-projection', ['User','Card', 'Device'], {\n",
    "        HAS_CC: {orientation: 'UNDIRECTED'},\n",
    "        USED: {orientation: 'UNDIRECTED'},\n",
    "        P2P: {orientation: 'NATURAL', aggregation: 'SINGLE'}\n",
    "        }\n",
    "    )\n",
    "''')\n",
    "\n",
    "run(driver, '''\n",
    "    CALL gds.louvain.write('comm-projection', {\n",
    "            writeProperty: 'louvainCommunityId'\n",
    "    })\n",
    "''')"
   ],
   "metadata": {
    "collapsed": false
   }
  },
  {
   "cell_type": "code",
   "execution_count": 14,
   "outputs": [
    {
     "name": "stdout",
     "output_type": "stream",
     "text": [
      "Louvain Communities Ordered by count of Flagged Users\n"
     ]
    },
    {
     "data": {
      "text/plain": "    community  cnt  flaggedCount  flaggedRatio\n0       30105   42             6      0.142857\n1      182733    7             4      0.571429\n2      188313    6             3      0.500000\n3      197014    7             3      0.428571\n4      179565    3             3      1.000000\n..        ...  ...           ...           ...\n95     157850    5             1      0.200000\n96     198436    5             1      0.200000\n97     172960    2             1      0.500000\n98     175585    8             1      0.125000\n99      22068    4             1      0.250000\n\n[100 rows x 4 columns]",
      "text/html": "<div>\n<style scoped>\n    .dataframe tbody tr th:only-of-type {\n        vertical-align: middle;\n    }\n\n    .dataframe tbody tr th {\n        vertical-align: top;\n    }\n\n    .dataframe thead th {\n        text-align: right;\n    }\n</style>\n<table border=\"1\" class=\"dataframe\">\n  <thead>\n    <tr style=\"text-align: right;\">\n      <th></th>\n      <th>community</th>\n      <th>cnt</th>\n      <th>flaggedCount</th>\n      <th>flaggedRatio</th>\n    </tr>\n  </thead>\n  <tbody>\n    <tr>\n      <th>0</th>\n      <td>30105</td>\n      <td>42</td>\n      <td>6</td>\n      <td>0.142857</td>\n    </tr>\n    <tr>\n      <th>1</th>\n      <td>182733</td>\n      <td>7</td>\n      <td>4</td>\n      <td>0.571429</td>\n    </tr>\n    <tr>\n      <th>2</th>\n      <td>188313</td>\n      <td>6</td>\n      <td>3</td>\n      <td>0.500000</td>\n    </tr>\n    <tr>\n      <th>3</th>\n      <td>197014</td>\n      <td>7</td>\n      <td>3</td>\n      <td>0.428571</td>\n    </tr>\n    <tr>\n      <th>4</th>\n      <td>179565</td>\n      <td>3</td>\n      <td>3</td>\n      <td>1.000000</td>\n    </tr>\n    <tr>\n      <th>...</th>\n      <td>...</td>\n      <td>...</td>\n      <td>...</td>\n      <td>...</td>\n    </tr>\n    <tr>\n      <th>95</th>\n      <td>157850</td>\n      <td>5</td>\n      <td>1</td>\n      <td>0.200000</td>\n    </tr>\n    <tr>\n      <th>96</th>\n      <td>198436</td>\n      <td>5</td>\n      <td>1</td>\n      <td>0.200000</td>\n    </tr>\n    <tr>\n      <th>97</th>\n      <td>172960</td>\n      <td>2</td>\n      <td>1</td>\n      <td>0.500000</td>\n    </tr>\n    <tr>\n      <th>98</th>\n      <td>175585</td>\n      <td>8</td>\n      <td>1</td>\n      <td>0.125000</td>\n    </tr>\n    <tr>\n      <th>99</th>\n      <td>22068</td>\n      <td>4</td>\n      <td>1</td>\n      <td>0.250000</td>\n    </tr>\n  </tbody>\n</table>\n<p>100 rows × 4 columns</p>\n</div>"
     },
     "execution_count": 14,
     "metadata": {},
     "output_type": "execute_result"
    }
   ],
   "source": [
    "result  = run(driver, '''\n",
    "    MATCH (u:User)\n",
    "    WITH u.louvainCommunityId AS community,\n",
    "        count(u) AS cnt,\n",
    "        sum(u.fraudMoneyTransfer) as flaggedCount\n",
    "    RETURN community,\n",
    "        cnt,\n",
    "        flaggedCount,\n",
    "        toFloat(flaggedCount)/toFloat(cnt) AS flaggedRatio\n",
    "    ORDER BY flaggedCount DESC LIMIT 100\n",
    "''')\n",
    "print(\"Louvain Communities Ordered by count of Flagged Users\")\n",
    "pd.DataFrame([dict(record) for record in result])"
   ],
   "metadata": {
    "collapsed": false
   }
  },
  {
   "cell_type": "markdown",
   "source": [
    "We can view communities of users and connecting identifiers in [Neo4j Bloom](https://neo4j.com/docs/bloom-user-guide/current/) or Neo4j Browser with queries of the form:\n",
    "\n",
    "```cypher\n",
    "MATCH(u1:User{louvainCommunityId: $id})-[r1:HAS_CC|HAS_IP|USED]->(n)<-[r2:HAS_CC|HAS_IP|USED]-(u2:User{louvainCommunityId: $id})\n",
    "WITH *\n",
    "OPTIONAL MATCH (u1)-[:P2P]-(u2)\n",
    "RETURN *\n",
    "```\n",
    "Below are a couple examples of these communities. Flagged users are colored red with caption=1, while other users are colored orange with caption=0. We will see an interesting pattern of flagged users sending money to non-flagged users with which they share devices, cards, and IPs. This behavior is suspicious because it suggests that the same individual or group of individuals may be using multiple accounts to withdraw cash from credit transactions prior to a chargeback being executed on the cards. The shared credit card examples (such as example 2 below) are some of the most indicative.\n",
    "\n",
    "Example 1:\n",
    "<img src=\"img/louvain-community-11.png\" width=\"900\" >\n",
    "\n",
    "Example 2:\n",
    "<img src=\"img/louvain-community-12.png\" width=\"900\" >"
   ],
   "metadata": {
    "collapsed": false
   }
  },
  {
   "cell_type": "markdown",
   "source": [
    "This pattern indicates that the receiving user accounts are fraud risk accounts. In the next section we will use these patterns to inform resolution of fraud communities and the labeling of additional fraud risk accounts."
   ],
   "metadata": {
    "collapsed": false
   }
  },
  {
   "cell_type": "markdown",
   "source": [
    "## Part 2: Resolving Fraud Communities using Entity Resolution and Community Detection\n",
    "\n",
    "Identifying communities that reflect underlying groups of individuals is often a key step to fraud detection.  We already explored with Louvain; in this section, in this part, we will provide more formal definitions for resolving entities that will allow us to partition well defined communities in a scalable manner.\n",
    "\n",
    "To accomplish this, we will define some Entity Resolution (ER) rules that will allow us to draw relationships between users which we believe belong to the same underlying community. We will then use the [Weakly Connected Components (WCC)](https://neo4j.com/docs/graph-data-science/current/algorithms/wcc/) algorithm to resolve the communities. Lastly, we will label all users in communities that include flagged accounts as fraud risks."
   ],
   "metadata": {
    "collapsed": false
   }
  },
  {
   "cell_type": "markdown",
   "source": [
    "### Entity Resolution Business Rules\n",
    "\n",
    "We will now use Entity Resolution (ER) to resolve groups of individuals behind sets of user accounts. For this analysis, we will use some pretty straightforward ER business logic. If either of the two below conditions are true, we will resolve two user accounts by linking them together with a new relationship type.\n",
    "\n",
    "1. One user sent money to another user that shares the same credit card\n",
    "2. Two users share a card or device connected to less than or equal to 10 total accounts, and those two users also share at least two other identifiers of type credit card, device, or IP address\n",
    "\n",
    "You could switch out or add different rules to the above, these are just examples. In a real-world scenario these business rules would pass by SMEs and possibly be backed by further supervised machine learning on manually labeled data. More advanced techniques for this type of ER are possible in graph and we describe them in [this whitepaper](https://neo4j.com/whitepapers/graph-data-science-use-cases-entity-resolution/) and [this blog](https://neo4j.com/developer-blog/exploring-supervised-entity-resolution-in-neo4j/).\n",
    "\n",
    "For a P2P dataset, we do not necessarily want to label all senders/receivers of flagged user transactions as fraudulent since some fraud schemes involve transactions with victims. Furthermore, additional identifiers such as IP may be inexact and cards + devices can be fraudulently controlled/used without the owners permission. Hence I used somewhat stringent rules that aligned with the patterns noted in part 1. We can apply relationships to reflect these business rules using cypher:\n"
   ],
   "metadata": {
    "collapsed": false
   }
  },
  {
   "cell_type": "code",
   "execution_count": 15,
   "outputs": [
    {
     "data": {
      "text/plain": "[<Record cnt=6240>]"
     },
     "execution_count": 15,
     "metadata": {},
     "output_type": "execute_result"
    }
   ],
   "source": [
    "# P2P with shared card rule\n",
    "run(driver, '''\n",
    "    MATCH (u1:User)-[r:P2P]->(u2)\n",
    "    WITH u1, u2, count(r) AS cnt\n",
    "    MATCH (u1)-[:HAS_CC]->(n)<-[:HAS_CC]-(u2)\n",
    "    WITH u1, u2, count(DISTINCT n) AS cnt\n",
    "    MERGE(u1)-[s:P2P_WITH_SHARED_CARD]->(u2)\n",
    "    RETURN count(DISTINCT s) AS cnt\n",
    "''')"
   ],
   "metadata": {
    "collapsed": false
   }
  },
  {
   "cell_type": "code",
   "execution_count": 16,
   "outputs": [
    {
     "data": {
      "text/plain": "[<Record count(DISTINCT s)=5316>]"
     },
     "execution_count": 16,
     "metadata": {},
     "output_type": "execute_result"
    }
   ],
   "source": [
    "# Shared ids rule\n",
    "run(driver, '''\n",
    "    MATCH (u1:User)-[:HAS_CC|USED]->(n)<-[:HAS_CC|USED]-(u2)\n",
    "    WHERE n.degree <= 10 AND id(u1) < id(u2)\n",
    "    WITH u1, u2, count(DISTINCT n) as cnt\n",
    "    MATCH (u1)-[:HAS_CC|USED|HAS_IP]->(m)<-[:HAS_CC|USED|HAS_IP]-(u2)\n",
    "    WITH u1, u2, count(DISTINCT m) as cnt\n",
    "    WHERE cnt > 2\n",
    "    MERGE(u1)-[s:SHARED_IDS]->(u2)\n",
    "    RETURN count(DISTINCT s)\n",
    "''')"
   ],
   "metadata": {
    "collapsed": false
   }
  },
  {
   "cell_type": "markdown",
   "source": [
    "### Using Weakly Connected Components (WCC) to Resolve Communities\n",
    "\n",
    "[Weakly Connected Components (WCC)](https://neo4j.com/docs/graph-data-science/current/algorithms/wcc/) is a practical and highly scalable community detection algorithm. It is also deterministic and very explainable. It defines a community simply as a set of nodes connected by a subset of relationship types in the graph. This makes WCC a good choice for formal community assignment in production fraud detection settings.\n",
    "\n",
    "Below we run WCC on users via the ER relationships created above:\n"
   ],
   "metadata": {
    "collapsed": false
   }
  },
  {
   "cell_type": "code",
   "execution_count": 17,
   "outputs": [
    {
     "data": {
      "text/plain": "[<Record writeMillis=69 nodePropertiesWritten=33732 componentCount=28203 componentDistribution={'p99': 3, 'min': 1, 'max': 175, 'mean': 1.196042974151686, 'p90': 2, 'p50': 1, 'p999': 8, 'p95': 2, 'p75': 1}>]"
     },
     "execution_count": 17,
     "metadata": {},
     "output_type": "execute_result"
    }
   ],
   "source": [
    "clear_graph(driver, 'comm-projection')\n",
    "run(driver, '''\n",
    "    CALL gds.graph.create('comm-projection',\n",
    "        ['User'],\n",
    "        {\n",
    "            SHARED_IDS: {orientation: 'UNDIRECTED'},\n",
    "            P2P_WITH_SHARED_CARD: {orientation: 'UNDIRECTED'}\n",
    "        }\n",
    "    )\n",
    "''')\n",
    "\n",
    "run(driver, '''\n",
    "    CALL gds.wcc.write('comm-projection', {\n",
    "        writeProperty: 'wccId'\n",
    "    }) YIELD writeMillis,\n",
    "        nodePropertiesWritten,\n",
    "        componentCount,\n",
    "        componentDistribution\n",
    "''')"
   ],
   "metadata": {
    "collapsed": false
   }
  },
  {
   "cell_type": "markdown",
   "source": [
    "### Labeling Fraud Risk User Accounts\n",
    "\n",
    "As these communities are meant to label underlying groups of individuals, if even one flagged account is in the community, we will label all user accounts in the group as fraud risks:\n"
   ],
   "metadata": {
    "collapsed": false
   }
  },
  {
   "cell_type": "code",
   "execution_count": 18,
   "outputs": [
    {
     "data": {
      "text/plain": "[<Record count(u)=452>]"
     },
     "execution_count": 18,
     "metadata": {},
     "output_type": "execute_result"
    }
   ],
   "source": [
    "run(driver, '''\n",
    "    MATCH (f:FlaggedUser)\n",
    "    WITH collect(DISTINCT f.wccId) AS flaggedCommunities\n",
    "    MATCH(u:User) WHERE u.wccId IN flaggedCommunities\n",
    "    SET u:FraudRiskUser\n",
    "    SET u.fraudRisk=1\n",
    "    RETURN count(u)\n",
    "''')"
   ],
   "metadata": {
    "collapsed": false
   }
  },
  {
   "cell_type": "code",
   "execution_count": 19,
   "outputs": [
    {
     "data": {
      "text/plain": "[<Record count(u)=33280>]"
     },
     "execution_count": 19,
     "metadata": {},
     "output_type": "execute_result"
    }
   ],
   "source": [
    "run(driver, '''\n",
    "    MATCH (u:User) WHERE NOT u:FraudRiskUser\n",
    "    SET u.fraudRisk=0\n",
    "    RETURN count(u)\n",
    "''')"
   ],
   "metadata": {
    "collapsed": false
   }
  },
  {
   "cell_type": "markdown",
   "source": [
    "### WCC Community Statistics\n",
    "\n",
    "The breakdown of communities by size is listed below. The majority are single user communities. Only a small portion have multiple users and of those, community sizes are mostly 2 and 3. Larger communities are rare. However, if we look at the fraudUser accounts we will see that the majority reside in multi-user communities. The 118 fraud accounts in single user communities are flagged users (via original chargeback logic) that have yet to be resolved to a community."
   ],
   "metadata": {
    "collapsed": false
   }
  },
  {
   "cell_type": "code",
   "execution_count": 20,
   "outputs": [
    {
     "data": {
      "text/plain": "  componentSize  numberOfComponents  totalUserCount  fraudUserCount\n0             1               24283           24283             118\n1             2                3165            6330             144\n2             3                 481            1443              63\n3          4-10                 258            1246              68\n4         11-50                  15             255              59\n5           >50                   1             175               0",
      "text/html": "<div>\n<style scoped>\n    .dataframe tbody tr th:only-of-type {\n        vertical-align: middle;\n    }\n\n    .dataframe tbody tr th {\n        vertical-align: top;\n    }\n\n    .dataframe thead th {\n        text-align: right;\n    }\n</style>\n<table border=\"1\" class=\"dataframe\">\n  <thead>\n    <tr style=\"text-align: right;\">\n      <th></th>\n      <th>componentSize</th>\n      <th>numberOfComponents</th>\n      <th>totalUserCount</th>\n      <th>fraudUserCount</th>\n    </tr>\n  </thead>\n  <tbody>\n    <tr>\n      <th>0</th>\n      <td>1</td>\n      <td>24283</td>\n      <td>24283</td>\n      <td>118</td>\n    </tr>\n    <tr>\n      <th>1</th>\n      <td>2</td>\n      <td>3165</td>\n      <td>6330</td>\n      <td>144</td>\n    </tr>\n    <tr>\n      <th>2</th>\n      <td>3</td>\n      <td>481</td>\n      <td>1443</td>\n      <td>63</td>\n    </tr>\n    <tr>\n      <th>3</th>\n      <td>4-10</td>\n      <td>258</td>\n      <td>1246</td>\n      <td>68</td>\n    </tr>\n    <tr>\n      <th>4</th>\n      <td>11-50</td>\n      <td>15</td>\n      <td>255</td>\n      <td>59</td>\n    </tr>\n    <tr>\n      <th>5</th>\n      <td>&gt;50</td>\n      <td>1</td>\n      <td>175</td>\n      <td>0</td>\n    </tr>\n  </tbody>\n</table>\n</div>"
     },
     "execution_count": 20,
     "metadata": {},
     "output_type": "execute_result"
    }
   ],
   "source": [
    "result = run(driver, '''\n",
    "    MATCH (u:User)\n",
    "    WITH u.wccId AS community, count(u) AS cSize, sum(u.fraudRisk) AS cFraudSize\n",
    "    WITH community, cSize, cFraudSize,\n",
    "    CASE\n",
    "        WHEN cSize=1 THEN ' 1'\n",
    "        WHEN cSize=2 THEN ' 2'\n",
    "        WHEN cSize=3 THEN ' 3'\n",
    "        WHEN cSize>3 AND cSize<=10 THEN ' 4-10'\n",
    "        WHEN cSize>10 AND cSize<=50 THEN '11-50'\n",
    "        WHEN cSize>10 THEN '>50' END AS componentSize\n",
    "    RETURN componentSize, count(*) as numberOfComponents, sum(cSize) AS totalUserCount, sum(cFraudSize) AS fraudUserCount ORDER BY componentSize\n",
    "''')\n",
    "pd.DataFrame([dict(record) for record in result])"
   ],
   "metadata": {
    "collapsed": false
   }
  },
  {
   "cell_type": "markdown",
   "source": [
    "Similar to Louvain we can view communities of users and connecting identifiers in [Neo4j Bloom](https://neo4j.com/docs/bloom-user-guide/current/) or Browser with queries of the form:\n",
    "\n",
    "```cypher\n",
    "MATCH(u1:User{wccId: $id})-[r1:HAS_CC|HAS_IP|USED]->(n)<-[r2:HAS_CC|HAS_IP|USED]-(u2:User{wccId: $id})\n",
    "WITH *\n",
    "OPTIONAL MATCH (u1)-[r3:P2P]-(u2)\n",
    "RETURN *\n",
    "```\n",
    "Below are a couple examples. Users that were flagged via initial chargeback logic are colored red with caption=1, while other users are colored orange with caption=0. Overall, you will notice a high degree of overlapping connectivity of identifiers and P2P transactions between users, which we should expect given our ER rules.\n",
    "\n",
    "Example 1:\n",
    "<img src=\"img/wcc-community-12.png\" width=\"900\" >\n",
    "\n",
    "Example 2:\n",
    "<img src=\"img/wcc-community-11.png\" width=\"900\" >"
   ],
   "metadata": {
    "collapsed": false
   }
  },
  {
   "cell_type": "markdown",
   "source": [
    "### Outcomes of Fraud Risk Labeling\n",
    "Fraud Risk labeling helped identify an additional 211 new fraud risk user accounts, nearly doubling the number of known fraud users (87.5% increase). We also see that 65% of the money going to/from previously flagged accounts and other users can be attributed to the newly identified risk accounts:"
   ],
   "metadata": {
    "collapsed": false
   }
  },
  {
   "cell_type": "code",
   "execution_count": 21,
   "outputs": [
    {
     "data": {
      "text/plain": "0.652"
     },
     "execution_count": 21,
     "metadata": {},
     "output_type": "execute_result"
    }
   ],
   "source": [
    "run(driver, '''\n",
    "   MATCH (:FlaggedUser)-[r:P2P]-(u)  WHERE NOT u:FlaggedUser\n",
    "   WITH toFloat(sum(r.totalAmount)) AS p2pTotal\n",
    "   MATCH (u:FraudRiskUser)-[r:P2P]-(:FlaggedUser) WHERE NOT u:FlaggedUser\n",
    "   WITH p2pTotal,  toFloat(sum(r.totalAmount)) AS fraudRiskP2pTotal\n",
    "   RETURN round((fraudRiskP2pTotal)/p2pTotal,3) AS p\n",
    "''')[0].get('p')"
   ],
   "metadata": {
    "collapsed": false
   }
  },
  {
   "cell_type": "markdown",
   "source": [
    "Additionally, while the newly identified 211 accounts represents less than 1% of total users in the sample, 12.7% of the total P2P amount in the sample involved the newly identified accounts as senders or receivers:"
   ],
   "metadata": {
    "collapsed": false
   }
  },
  {
   "cell_type": "code",
   "execution_count": 22,
   "outputs": [
    {
     "data": {
      "text/plain": "[<Record p=0.127>]"
     },
     "execution_count": 22,
     "metadata": {},
     "output_type": "execute_result"
    }
   ],
   "source": [
    "run(driver, '''\n",
    "   MATCH (:User)-[r:P2P]->()\n",
    "   WITH toFloat(sum(r.totalAmount)) AS p2pTotal\n",
    "   MATCH (u:FraudRiskUser)-[r:P2P]-() WHERE NOT u:FlaggedUser\n",
    "   WITH p2pTotal, toFloat(sum(r.totalAmount)) AS fraudRiskP2pTotal\n",
    "   RETURN round((fraudRiskP2pTotal)/p2pTotal,3) AS p\n",
    "''')"
   ],
   "metadata": {
    "collapsed": false
   }
  },
  {
   "cell_type": "markdown",
   "source": [
    "Finally, we can see an improvement in card and device discrimination with many more cards and devices being used by fraud risk accounts exclusively."
   ],
   "metadata": {
    "collapsed": false
   }
  },
  {
   "cell_type": "code",
   "execution_count": 23,
   "outputs": [
    {
     "data": {
      "text/plain": "[]"
     },
     "execution_count": 23,
     "metadata": {},
     "output_type": "execute_result"
    }
   ],
   "source": [
    "identifier_degrees('FraudRiskUser', 'fraudRiskDegree')\n",
    "\n",
    "run(driver, '''\n",
    "        MATCH(n) WHERE n:Card OR n:Device OR n:IP\n",
    "        SET n.fraudRiskRatio = toFloat(n.fraudRiskDegree)/toFloat(n.degree)\n",
    "''')"
   ],
   "metadata": {
    "collapsed": false
   }
  },
  {
   "cell_type": "code",
   "execution_count": 24,
   "outputs": [
    {
     "data": {
      "text/plain": "  fraudRiskRatio  count  percentCount\n0              0   8114         0.956\n1              1    351         0.041\n2    Between 0-1     25         0.003",
      "text/html": "<div>\n<style scoped>\n    .dataframe tbody tr th:only-of-type {\n        vertical-align: middle;\n    }\n\n    .dataframe tbody tr th {\n        vertical-align: top;\n    }\n\n    .dataframe thead th {\n        text-align: right;\n    }\n</style>\n<table border=\"1\" class=\"dataframe\">\n  <thead>\n    <tr style=\"text-align: right;\">\n      <th></th>\n      <th>fraudRiskRatio</th>\n      <th>count</th>\n      <th>percentCount</th>\n    </tr>\n  </thead>\n  <tbody>\n    <tr>\n      <th>0</th>\n      <td>0</td>\n      <td>8114</td>\n      <td>0.956</td>\n    </tr>\n    <tr>\n      <th>1</th>\n      <td>1</td>\n      <td>351</td>\n      <td>0.041</td>\n    </tr>\n    <tr>\n      <th>2</th>\n      <td>Between 0-1</td>\n      <td>25</td>\n      <td>0.003</td>\n    </tr>\n  </tbody>\n</table>\n</div>"
     },
     "execution_count": 24,
     "metadata": {},
     "output_type": "execute_result"
    }
   ],
   "source": [
    "result = run(driver, '''\n",
    "    MATCH(n:Card) WHERE n.degree > 1\n",
    "    WITH toFloat(count(n)) AS total\n",
    "    MATCH(n:Card) WHERE n.degree > 1\n",
    "    WITH n, total, CASE\n",
    "        WHEN n.fraudRiskRatio=0 THEN '0'\n",
    "        WHEN n.fraudRiskRatio=1  THEN '1'\n",
    "        ELSE 'Between 0-1' END AS fraudRiskRatio\n",
    "    RETURN fraudRiskRatio, count(n) AS count, round(toFloat(count(n))/total,3) AS percentCount ORDER BY fraudRiskRatio\n",
    "''')\n",
    "pd.DataFrame([dict(record) for record in result])"
   ],
   "metadata": {
    "collapsed": false
   }
  },
  {
   "cell_type": "code",
   "execution_count": 25,
   "outputs": [
    {
     "data": {
      "text/plain": "  fraudRiskRatio  count  percentCount\n0              0   2605         0.949\n1              1     92         0.034\n2    Between 0-1     48         0.017",
      "text/html": "<div>\n<style scoped>\n    .dataframe tbody tr th:only-of-type {\n        vertical-align: middle;\n    }\n\n    .dataframe tbody tr th {\n        vertical-align: top;\n    }\n\n    .dataframe thead th {\n        text-align: right;\n    }\n</style>\n<table border=\"1\" class=\"dataframe\">\n  <thead>\n    <tr style=\"text-align: right;\">\n      <th></th>\n      <th>fraudRiskRatio</th>\n      <th>count</th>\n      <th>percentCount</th>\n    </tr>\n  </thead>\n  <tbody>\n    <tr>\n      <th>0</th>\n      <td>0</td>\n      <td>2605</td>\n      <td>0.949</td>\n    </tr>\n    <tr>\n      <th>1</th>\n      <td>1</td>\n      <td>92</td>\n      <td>0.034</td>\n    </tr>\n    <tr>\n      <th>2</th>\n      <td>Between 0-1</td>\n      <td>48</td>\n      <td>0.017</td>\n    </tr>\n  </tbody>\n</table>\n</div>"
     },
     "execution_count": 25,
     "metadata": {},
     "output_type": "execute_result"
    }
   ],
   "source": [
    "result = run(driver, '''\n",
    "    MATCH(n:Device) WHERE n.degree > 1\n",
    "    WITH toFloat(count(n)) AS total\n",
    "    MATCH(n:Device) WHERE n.degree > 1\n",
    "    WITH n, total, CASE\n",
    "        WHEN n.fraudRiskRatio=0 THEN '0'\n",
    "        WHEN n.fraudRiskRatio=1  THEN '1'\n",
    "        ELSE 'Between 0-1' END AS fraudRiskRatio\n",
    "    RETURN fraudRiskRatio, count(n) AS count, round(toFloat(count(n))/total,3) AS percentCount ORDER BY fraudRiskRatio\n",
    "''')\n",
    "pd.DataFrame([dict(record) for record in result])"
   ],
   "metadata": {
    "collapsed": false
   }
  },
  {
   "cell_type": "markdown",
   "source": [
    "The aggregate P2P statistics combined with improvements in Card and Device metrics are significant given the limited scope of the previously flagged fraud which focused on chargebacks.  These results strongly imply that there are more sophisticated networks of fraudulent money flows behind the chargebacks rather than the chargebacks being isolated occurrences."
   ],
   "metadata": {
    "collapsed": false
   }
  },
  {
   "cell_type": "markdown",
   "source": [
    "## Part 3: Recommending Suspicious Accounts With Centrality & Node Similarity\n",
    "\n",
    "In parts 1 & 2 we explored the graph and identified high risk fraud communities. At this stage, we may want to expand beyond our business logic to automatically identify other users that are suspiciously similar to the fraud risks already identified. Neo4j and GDS makes it simple to triage and recommend such suspect users in a matter of seconds. We can leverage both centrality and similarity algorithms for this.\n"
   ],
   "metadata": {
    "collapsed": false
   }
  },
  {
   "cell_type": "markdown",
   "source": [
    "### Using Weighted Degree Centrality to Recommend Potential High Risk Accounts\n",
    "\n",
    "We can quickly and easily generate a ranked list of suspicious user accounts with weighted degree centrality. Specifically, we can calculate the degree centrality of users in respect to their identifiers (Devices, Cards, and IPs) weighted by the fraudRiskRatios we made in part 2. In this case, a simple Cypher query suffices.\n"
   ],
   "metadata": {
    "collapsed": false
   }
  },
  {
   "cell_type": "code",
   "execution_count": 26,
   "outputs": [
    {
     "data": {
      "text/plain": "        uid  totalIdFraudRisk  numberFraudRiskIds  averageFraudIdRisk\n0  50fd11c0          7.405512                  28            0.264483\n1  b41b9e3b          6.487978                  22            0.294908\n2  a982e8fc          3.928543                  13            0.302196\n3  60b71ab9          2.020481                   7            0.288640\n4  bc1eb835          2.010309                   5            0.402062\n5  1b1a78a9          1.925455                   5            0.385091\n6  f2b8a068          1.693794                   6            0.282299\n7  1c773976          1.594978                   5            0.318996\n8  a2f748e3          1.570455                   4            0.392614\n9  7524a090          1.527338                   5            0.305468",
      "text/html": "<div>\n<style scoped>\n    .dataframe tbody tr th:only-of-type {\n        vertical-align: middle;\n    }\n\n    .dataframe tbody tr th {\n        vertical-align: top;\n    }\n\n    .dataframe thead th {\n        text-align: right;\n    }\n</style>\n<table border=\"1\" class=\"dataframe\">\n  <thead>\n    <tr style=\"text-align: right;\">\n      <th></th>\n      <th>uid</th>\n      <th>totalIdFraudRisk</th>\n      <th>numberFraudRiskIds</th>\n      <th>averageFraudIdRisk</th>\n    </tr>\n  </thead>\n  <tbody>\n    <tr>\n      <th>0</th>\n      <td>50fd11c0</td>\n      <td>7.405512</td>\n      <td>28</td>\n      <td>0.264483</td>\n    </tr>\n    <tr>\n      <th>1</th>\n      <td>b41b9e3b</td>\n      <td>6.487978</td>\n      <td>22</td>\n      <td>0.294908</td>\n    </tr>\n    <tr>\n      <th>2</th>\n      <td>a982e8fc</td>\n      <td>3.928543</td>\n      <td>13</td>\n      <td>0.302196</td>\n    </tr>\n    <tr>\n      <th>3</th>\n      <td>60b71ab9</td>\n      <td>2.020481</td>\n      <td>7</td>\n      <td>0.288640</td>\n    </tr>\n    <tr>\n      <th>4</th>\n      <td>bc1eb835</td>\n      <td>2.010309</td>\n      <td>5</td>\n      <td>0.402062</td>\n    </tr>\n    <tr>\n      <th>5</th>\n      <td>1b1a78a9</td>\n      <td>1.925455</td>\n      <td>5</td>\n      <td>0.385091</td>\n    </tr>\n    <tr>\n      <th>6</th>\n      <td>f2b8a068</td>\n      <td>1.693794</td>\n      <td>6</td>\n      <td>0.282299</td>\n    </tr>\n    <tr>\n      <th>7</th>\n      <td>1c773976</td>\n      <td>1.594978</td>\n      <td>5</td>\n      <td>0.318996</td>\n    </tr>\n    <tr>\n      <th>8</th>\n      <td>a2f748e3</td>\n      <td>1.570455</td>\n      <td>4</td>\n      <td>0.392614</td>\n    </tr>\n    <tr>\n      <th>9</th>\n      <td>7524a090</td>\n      <td>1.527338</td>\n      <td>5</td>\n      <td>0.305468</td>\n    </tr>\n  </tbody>\n</table>\n</div>"
     },
     "execution_count": 26,
     "metadata": {},
     "output_type": "execute_result"
    }
   ],
   "source": [
    "result = run(driver,'''\n",
    "    MATCH(f:FraudRiskUser)-[:HAS_CC|HAS_IP|USED]->(n)\n",
    "    WITH DISTINCT n\n",
    "    MATCH(u:User)-[:HAS_CC|HAS_IP|USED]->(n) WHERE NOT u:FraudRiskUser\n",
    "    WITH left(u.guid,8) as uid,\n",
    "        sum(n.fraudRiskRatio) AS totalIdFraudRisk,\n",
    "        count(n) AS numberFraudRiskIds\n",
    "    WITH uid, totalIdFraudRisk,\n",
    "        numberFraudRiskIds,\n",
    "        totalIdFraudRisk/toFloat(numberFraudRiskIds) AS averageFraudIdRisk\n",
    "    WHERE averageFraudIdRisk >= 0.25\n",
    "    RETURN uid, totalIdFraudRisk, numberFraudRiskIds, averageFraudIdRisk\n",
    "    ORDER BY totalIdFraudRisk DESC LIMIT 10\n",
    "''')\n",
    "\n",
    "pd.DataFrame([dict(record) for record in result])"
   ],
   "metadata": {
    "collapsed": false
   }
  },
  {
   "cell_type": "markdown",
   "source": [
    "Users in the above result list are sorted by how much identifying information they share with previously labeled fraud risks, the ones with the most being at the top. Technically speaking, these users are ranked by their total Id fraud risk, which is equal to the sum of the fraudRiskRatios from the Identifiers they are connected to. In the query I also implement a limit on the average fraud risk to avoid users that just have a lot of high-degree identifiers (likely proxy ip addresses shared by only a small fraction of fraud risk users). This sort of filtering can be tweaked by use case to get the right balance between total risk vs average risk.\n",
    "\n",
    "In a real-world fraud detection use case, these results can be triaged by analysts to label more fraud accounts and grow labeled fraud communities."
   ],
   "metadata": {
    "collapsed": false
   }
  },
  {
   "cell_type": "markdown",
   "source": [
    "### Using Node Similarity to Expand on Fraud Communities\n",
    "\n",
    "Simple calculations like weighted degree centrality work well for identifying suspicious users over the whole graph, but what if we are interested in how users are related to a specific fraud risk community or set of communities? Perhaps we hypothesize that communities of fraud risk users are actually bigger than currently represented but we don't have exact business rules to apply. We can leverage similarity algorithms to help us score and recommend users for this.\n",
    "\n",
    "GDS offers multiple algorithms for similarity. In this analysis I will focus on the aptly named  Node Similarity algorithm – you can read more about it [here](https://neo4j.com/docs/graph-data-science/current/algorithms/node-similarity/). Node similarity parallelizes well and is explainable. It identifies pairs of similar nodes based on a straightforward Jaccard similarity calculation. So while other ML-based similarity approaches like FastRP + KNN covered [in this post](https://neo4j.com/developer-blog/exploring-practical-recommendation-systems-in-neo4j/) scale well for running globally on very large graphs, Node Similarity is a good choice where explainability is important and you can narrow down the universe of comparisons to a subset of your data. Examples of narrowing down include focusing on just single communities, newly added users, or users within a specific proximity to suspect accounts. In this analysis we will take the third approach, filtering to just those Cards, Devices, and IP addresses that connect to at least one fraud risk account from part 2.\n",
    "\n",
    "\n",
    "Below I apply three queries to calculate node similarity. The first query enables the identifier filtering via setting a new label on the Card, Device, and IP address nodes that connect to fraud risk accounts. The first query also weights relationships by the inverse of degree centrality, essentially downplaying the importance of identifiers proportional to the number of other users they connect to. This is important as some identifiers, particularly IP addresses, can connect to hundreds or thousands of users, in which case the identifier may be very generic (like a proxy IP address) and not as relevant to true user identity. The second and third query project the graph and write relationships back to the database with a score to represent similarity strength between user node pairs. You will notice that I use a similarity cutoff of 0.01 in the third query, which is intended to rule out weak associations and keep the similarities relevant.\n"
   ],
   "metadata": {
    "collapsed": false
   }
  },
  {
   "cell_type": "code",
   "execution_count": 27,
   "outputs": [
    {
     "data": {
      "text/plain": "[<Record count(DISTINCT n)=18182>]"
     },
     "execution_count": 27,
     "metadata": {},
     "output_type": "execute_result"
    }
   ],
   "source": [
    "# label identifiers and users that are close to fraud risk users and assign inverse degree weight\n",
    "run(driver,'''\n",
    "    MATCH(f:FraudRiskUser)-[:HAS_CC|HAS_IP|USED]->(n)\n",
    "    WITH DISTINCT n\n",
    "    MATCH(n)<-[r:HAS_CC|HAS_IP|USED]-(u)\n",
    "    SET n:FraudSharedId\n",
    "    SET r.inverseDegreeWeight = 1.0/(n.degree-1.0)\n",
    "    RETURN count(DISTINCT n)\n",
    "''')"
   ],
   "metadata": {
    "collapsed": false
   }
  },
  {
   "cell_type": "code",
   "execution_count": 28,
   "outputs": [
    {
     "data": {
      "text/plain": "[<Record nodeCount=51914 relationshipCount=692806 createMillis=248>]"
     },
     "execution_count": 28,
     "metadata": {},
     "output_type": "execute_result"
    }
   ],
   "source": [
    "clear_graph(driver, 'similarity-projection')\n",
    "run(driver, '''\n",
    "    CALL gds.graph.create('similarity-projection',\n",
    "        ['User', 'FraudSharedId'],\n",
    "        ['HAS_CC', 'USED', 'HAS_IP'],\n",
    "        {relationshipProperties: ['inverseDegreeWeight']}\n",
    "    ) YIELD nodeCount, relationshipCount, createMillis\n",
    "''')"
   ],
   "metadata": {
    "collapsed": false
   }
  },
  {
   "cell_type": "code",
   "execution_count": 29,
   "outputs": [
    {
     "data": {
      "text/plain": "[<Record computeMillis=72340 writeMillis=6782 relationshipsWritten=314493 similarityDistribution={'p1': 0.023892104625701904, 'max': 1.0000075697898865, 'p5': 0.06617635488510132, 'p90': 0.5132293105125427, 'p50': 0.188321053981781, 'p95': 0.8225058913230896, 'p10': 0.08743232488632202, 'p75': 0.31004518270492554, 'p99': 1.0000075697898865, 'p25': 0.12364810705184937, 'p100': 1.0000075697898865, 'min': 0.010002970695495605, 'mean': 0.2599377321462281, 'stdDev': 0.21765748719408626}>]"
     },
     "execution_count": 29,
     "metadata": {},
     "output_type": "execute_result"
    }
   ],
   "source": [
    "run(driver, '''\n",
    "    CALL gds.nodeSimilarity.write('similarity-projection',{\n",
    "        writeRelationshipType: 'SIMILAR_IDS',\n",
    "        writeProperty: 'score',\n",
    "        similarityCutoff: 0.01,\n",
    "        relationshipWeightProperty: 'inverseDegreeWeight'\n",
    "    }) YIELD computeMillis, writeMillis, relationshipsWritten, similarityDistribution\n",
    "''')"
   ],
   "metadata": {
    "collapsed": false
   }
  },
  {
   "cell_type": "markdown",
   "source": [
    "From there, we can run a Cypher query to rank users by how similar they are to known fraud risk communities."
   ],
   "metadata": {
    "collapsed": false
   }
  },
  {
   "cell_type": "code",
   "execution_count": 30,
   "outputs": [
    {
     "data": {
      "text/plain": "                              userId  totalScore closeToCommunityIds\n0   0b3f278ff6b348fb1a599479d9321cd9    0.427332        [4616, 4932]\n1   c0d80bb57c0bbb0b68f647c7adc83274    0.298319              [4932]\n2   99d857cf888723db4ab2c19e42ac2b4c    0.260633              [4616]\n3   6b41e66c7667df06c10eab6c6b712fec    0.201825              [4932]\n4   55447b3000b48335d3b18557c43ba70a    0.136346              [4616]\n5   8c7fb38c22da0e7ad8d91a8551f62e4c    0.136169               [433]\n6   f0ec0c4c8cf74ebdf1ace4c366e58873    0.111970              [4616]\n7   f3c3fa16c8d095c257452f3287991cef    0.082760              [4616]\n8   48ab157818d5d6e31d4808e624a93846    0.077805              [4616]\n9   a2f748e3e52915b9aff50f9af628a9ee    0.075465               [433]\n10  6ab1e28cd734867b6533ecb88e076a63    0.068820              [4932]\n11  60fb2a28448dd7c445c95d0bd753ed6a    0.067419              [4932]\n12  9eb2b34590af0895010065f9442c02b6    0.066657              [4932]\n13  ac066690cdd0b366221fc994bf8e447f    0.066657              [4932]\n14  f76d815c0754d255b6f350c8304f83ea    0.066657              [4932]\n15  50248d7d3a3cfeec8b4cf7fb692f6061    0.066442              [4932]\n16  798e715bb86c758e7d524e06459ee607    0.066148              [4932]\n17  78d14471b7158be6c5bfa64afd11c317    0.062817               [433]\n18  c56baa4531f583130f2f70863436a0d6    0.062650               [433]\n19  576dbfad2ec4237bf2b702eeb9264374    0.062368               [433]\n20  0430d475a583353d935fc836810234c9    0.060690               [433]\n21  af6d286829353ec5d9caa0d51dd6f71c    0.058621               [433]\n22  99549170b6977f2a74e092e188d650b7    0.057703               [433]\n23  633c3879567088e3f241603a2fc5dcf4    0.057160               [433]\n24  73331fc3ac27ce4e60190b19311c417a    0.056775              [4616]\n25  1f070c1dddb70c0859c2befc1865b02e    0.056002              [4616]\n26  10fdc8365059f18487887bbe0ecedc73    0.055848               [433]\n27  9d428858704b6a1f4c618146ae4176da    0.053725              [4616]\n28  24431095fc157f1da870a8d44dbd63f8    0.053603               [433]\n29  d4809c7afb2413f5e245bea5bfb086c6    0.048996              [4616]\n30  ce506e3eee79867033640712679b332a    0.046605               [433]\n31  ccbc680c06f973d90153af0822758630    0.038643              [1189]\n32  d63ef30f4731cc7c261a0e0ee003d06e    0.033884              [1189]\n33  e44c064d39dbf0060887f63d75a82d7f    0.032981              [1189]\n34  b894d789371e310344ade21b889e2a78    0.026043              [1189]\n35  b5874f163dba44abaef09b5687c3ff74    0.025851              [1189]\n36  bdf90e92a3d13ba1124f1cf6d9b85d3f    0.017435              [1189]",
      "text/html": "<div>\n<style scoped>\n    .dataframe tbody tr th:only-of-type {\n        vertical-align: middle;\n    }\n\n    .dataframe tbody tr th {\n        vertical-align: top;\n    }\n\n    .dataframe thead th {\n        text-align: right;\n    }\n</style>\n<table border=\"1\" class=\"dataframe\">\n  <thead>\n    <tr style=\"text-align: right;\">\n      <th></th>\n      <th>userId</th>\n      <th>totalScore</th>\n      <th>closeToCommunityIds</th>\n    </tr>\n  </thead>\n  <tbody>\n    <tr>\n      <th>0</th>\n      <td>0b3f278ff6b348fb1a599479d9321cd9</td>\n      <td>0.427332</td>\n      <td>[4616, 4932]</td>\n    </tr>\n    <tr>\n      <th>1</th>\n      <td>c0d80bb57c0bbb0b68f647c7adc83274</td>\n      <td>0.298319</td>\n      <td>[4932]</td>\n    </tr>\n    <tr>\n      <th>2</th>\n      <td>99d857cf888723db4ab2c19e42ac2b4c</td>\n      <td>0.260633</td>\n      <td>[4616]</td>\n    </tr>\n    <tr>\n      <th>3</th>\n      <td>6b41e66c7667df06c10eab6c6b712fec</td>\n      <td>0.201825</td>\n      <td>[4932]</td>\n    </tr>\n    <tr>\n      <th>4</th>\n      <td>55447b3000b48335d3b18557c43ba70a</td>\n      <td>0.136346</td>\n      <td>[4616]</td>\n    </tr>\n    <tr>\n      <th>5</th>\n      <td>8c7fb38c22da0e7ad8d91a8551f62e4c</td>\n      <td>0.136169</td>\n      <td>[433]</td>\n    </tr>\n    <tr>\n      <th>6</th>\n      <td>f0ec0c4c8cf74ebdf1ace4c366e58873</td>\n      <td>0.111970</td>\n      <td>[4616]</td>\n    </tr>\n    <tr>\n      <th>7</th>\n      <td>f3c3fa16c8d095c257452f3287991cef</td>\n      <td>0.082760</td>\n      <td>[4616]</td>\n    </tr>\n    <tr>\n      <th>8</th>\n      <td>48ab157818d5d6e31d4808e624a93846</td>\n      <td>0.077805</td>\n      <td>[4616]</td>\n    </tr>\n    <tr>\n      <th>9</th>\n      <td>a2f748e3e52915b9aff50f9af628a9ee</td>\n      <td>0.075465</td>\n      <td>[433]</td>\n    </tr>\n    <tr>\n      <th>10</th>\n      <td>6ab1e28cd734867b6533ecb88e076a63</td>\n      <td>0.068820</td>\n      <td>[4932]</td>\n    </tr>\n    <tr>\n      <th>11</th>\n      <td>60fb2a28448dd7c445c95d0bd753ed6a</td>\n      <td>0.067419</td>\n      <td>[4932]</td>\n    </tr>\n    <tr>\n      <th>12</th>\n      <td>9eb2b34590af0895010065f9442c02b6</td>\n      <td>0.066657</td>\n      <td>[4932]</td>\n    </tr>\n    <tr>\n      <th>13</th>\n      <td>ac066690cdd0b366221fc994bf8e447f</td>\n      <td>0.066657</td>\n      <td>[4932]</td>\n    </tr>\n    <tr>\n      <th>14</th>\n      <td>f76d815c0754d255b6f350c8304f83ea</td>\n      <td>0.066657</td>\n      <td>[4932]</td>\n    </tr>\n    <tr>\n      <th>15</th>\n      <td>50248d7d3a3cfeec8b4cf7fb692f6061</td>\n      <td>0.066442</td>\n      <td>[4932]</td>\n    </tr>\n    <tr>\n      <th>16</th>\n      <td>798e715bb86c758e7d524e06459ee607</td>\n      <td>0.066148</td>\n      <td>[4932]</td>\n    </tr>\n    <tr>\n      <th>17</th>\n      <td>78d14471b7158be6c5bfa64afd11c317</td>\n      <td>0.062817</td>\n      <td>[433]</td>\n    </tr>\n    <tr>\n      <th>18</th>\n      <td>c56baa4531f583130f2f70863436a0d6</td>\n      <td>0.062650</td>\n      <td>[433]</td>\n    </tr>\n    <tr>\n      <th>19</th>\n      <td>576dbfad2ec4237bf2b702eeb9264374</td>\n      <td>0.062368</td>\n      <td>[433]</td>\n    </tr>\n    <tr>\n      <th>20</th>\n      <td>0430d475a583353d935fc836810234c9</td>\n      <td>0.060690</td>\n      <td>[433]</td>\n    </tr>\n    <tr>\n      <th>21</th>\n      <td>af6d286829353ec5d9caa0d51dd6f71c</td>\n      <td>0.058621</td>\n      <td>[433]</td>\n    </tr>\n    <tr>\n      <th>22</th>\n      <td>99549170b6977f2a74e092e188d650b7</td>\n      <td>0.057703</td>\n      <td>[433]</td>\n    </tr>\n    <tr>\n      <th>23</th>\n      <td>633c3879567088e3f241603a2fc5dcf4</td>\n      <td>0.057160</td>\n      <td>[433]</td>\n    </tr>\n    <tr>\n      <th>24</th>\n      <td>73331fc3ac27ce4e60190b19311c417a</td>\n      <td>0.056775</td>\n      <td>[4616]</td>\n    </tr>\n    <tr>\n      <th>25</th>\n      <td>1f070c1dddb70c0859c2befc1865b02e</td>\n      <td>0.056002</td>\n      <td>[4616]</td>\n    </tr>\n    <tr>\n      <th>26</th>\n      <td>10fdc8365059f18487887bbe0ecedc73</td>\n      <td>0.055848</td>\n      <td>[433]</td>\n    </tr>\n    <tr>\n      <th>27</th>\n      <td>9d428858704b6a1f4c618146ae4176da</td>\n      <td>0.053725</td>\n      <td>[4616]</td>\n    </tr>\n    <tr>\n      <th>28</th>\n      <td>24431095fc157f1da870a8d44dbd63f8</td>\n      <td>0.053603</td>\n      <td>[433]</td>\n    </tr>\n    <tr>\n      <th>29</th>\n      <td>d4809c7afb2413f5e245bea5bfb086c6</td>\n      <td>0.048996</td>\n      <td>[4616]</td>\n    </tr>\n    <tr>\n      <th>30</th>\n      <td>ce506e3eee79867033640712679b332a</td>\n      <td>0.046605</td>\n      <td>[433]</td>\n    </tr>\n    <tr>\n      <th>31</th>\n      <td>ccbc680c06f973d90153af0822758630</td>\n      <td>0.038643</td>\n      <td>[1189]</td>\n    </tr>\n    <tr>\n      <th>32</th>\n      <td>d63ef30f4731cc7c261a0e0ee003d06e</td>\n      <td>0.033884</td>\n      <td>[1189]</td>\n    </tr>\n    <tr>\n      <th>33</th>\n      <td>e44c064d39dbf0060887f63d75a82d7f</td>\n      <td>0.032981</td>\n      <td>[1189]</td>\n    </tr>\n    <tr>\n      <th>34</th>\n      <td>b894d789371e310344ade21b889e2a78</td>\n      <td>0.026043</td>\n      <td>[1189]</td>\n    </tr>\n    <tr>\n      <th>35</th>\n      <td>b5874f163dba44abaef09b5687c3ff74</td>\n      <td>0.025851</td>\n      <td>[1189]</td>\n    </tr>\n    <tr>\n      <th>36</th>\n      <td>bdf90e92a3d13ba1124f1cf6d9b85d3f</td>\n      <td>0.017435</td>\n      <td>[1189]</td>\n    </tr>\n  </tbody>\n</table>\n</div>"
     },
     "execution_count": 30,
     "metadata": {},
     "output_type": "execute_result"
    }
   ],
   "source": [
    "#get nodes similar to the high risk ones\n",
    "result = run(driver, '''\n",
    "    MATCH (f:FraudRiskUser)\n",
    "    WITH f.wccId AS componentId, count(*) AS numberOfUsers, collect(f) AS users\n",
    "    UNWIND users AS f\n",
    "    MATCH (f)-[s:SIMILAR_IDS]->(u:User) WHERE NOT u:FraudRiskUser AND numberOfUsers > 2\n",
    "    RETURN u.guid AS userId, sum(s.score) AS totalScore, collect(DISTINCT componentId) AS closeToCommunityIds ORDER BY totalScore DESC\n",
    "''')\n",
    "pd.DataFrame([dict(record) for record in result])"
   ],
   "metadata": {
    "collapsed": false
   }
  },
  {
   "cell_type": "markdown",
   "source": [
    "Let’s take a look at the first user in the list, user `0b3f278f`, in [Bloom](https://neo4j.com/docs/bloom-user-guide/current/) . This user account seems interesting in the sense that they connect to two different communities.\n",
    "\n",
    "<img src=\"img/node-similarity-1.png\" width=\"700\" >\n",
    "\n",
    "You can see how this user connects to the two fraud risk communities and how the similarity relationships were based on shared IP addresses. This user seems to act as a sort of bridge between the two communities, suggesting not only that the user is likely part of the fraud communities but also that the two communities may actually reflect one-in-the same."
   ],
   "metadata": {
    "collapsed": false
   }
  },
  {
   "cell_type": "markdown",
   "source": [
    "\n",
    "Overall, centrality and similarity metrics like these are fast and easy to implement with Neo4j and GDS. They can help advance your Data Science approach by introducing automated and semi-supervised processes to assist in targeted triage and identification of suspicious user accounts based on previously labeled data."
   ],
   "metadata": {
    "collapsed": false
   }
  },
  {
   "cell_type": "markdown",
   "source": [
    "## Part 4: Predicting Fraud Risk Accounts with Machine Learning\n",
    "\n",
    "In real-world scenarios we often don't know which user accounts are fraudulent ahead of time. There will be cases, like with this dataset, where some accounts get flagged due to business rules, for example chargeback history, or via user reporting mechanisms. However, as we saw in parts 1 & 2 above, those flags don't tell the whole story. The community detection and recommendation approaches we previously covered can go a very long way in helping us understand this story and label additional fraud risk users and patterns. That said, there are multiple reasons why we may want to add supervised Machine Learning to predict the additional fraud risks:\n",
    "\n",
    " - __Proactive Detection:__ We can train a model to identify fraudulent actors ahead of time (such as before additional chargebacks or system flags) and better identify new communities that aren't connected to older known fraud accounts.\n",
    " - __Measurable Performance:__ Supervised learning models produce clear performance metrics that enable us to evaluate and adjust as needed\n",
    " - __Automation:__ supervised Machine Learning automates the prediction of fraud risk accounts.\n",
    "\n",
    "In the below sections we will walk through how to engineer graph features for ML, export those features to python, then train and evaluate an ML model for fraud classification."
   ],
   "metadata": {
    "collapsed": false
   }
  },
  {
   "cell_type": "markdown",
   "source": [
    "### Feature Engineering\n",
    "If we want a machine learning model to successfully classify fraud risk user accounts, we need to supply features that will be informative for the task. The below commands engineer graph features using GDS.  This includes features from [WCC](https://neo4j.com/docs/graph-data-science/current/algorithms/wcc/) community sizes, [pageRank](https://neo4j.com/docs/graph-data-science/current/algorithms/page-rank/), and [degree centrality](https://neo4j.com/docs/graph-data-science/current/algorithms/degree-centrality/)."
   ],
   "metadata": {
    "collapsed": false
   }
  },
  {
   "cell_type": "markdown",
   "source": [
    "#### Community Features"
   ],
   "metadata": {
    "collapsed": false
   }
  },
  {
   "cell_type": "code",
   "execution_count": 31,
   "outputs": [
    {
     "data": {
      "text/plain": "[<Record count(u)=33732>]"
     },
     "execution_count": 31,
     "metadata": {},
     "output_type": "execute_result"
    }
   ],
   "source": [
    "run(driver, '''\n",
    "    MATCH (u:User)\n",
    "    WITH u.wccId AS componentId, count(*) AS communitySize, collect(u) AS users\n",
    "    WITH communitySize, toInteger(communitySize > 1) AS partOfCommunity, users\n",
    "    UNWIND users as u\n",
    "    SET u.communitySize = communitySize\n",
    "    SET u.partOfCommunity = partOfCommunity\n",
    "    RETURN count(u)\n",
    "''')"
   ],
   "metadata": {
    "collapsed": false
   }
  },
  {
   "cell_type": "markdown",
   "source": [
    "#### P2P With Cards and Id Sharing Centrality Features"
   ],
   "metadata": {
    "collapsed": false
   }
  },
  {
   "cell_type": "code",
   "execution_count": 32,
   "outputs": [
    {
     "data": {
      "text/plain": "[<Record nodeProjection={'User': {'label': 'User', 'properties': {}}} relationshipProjection={'P2P_WITH_SHARED_CARD': {'orientation': 'NATURAL', 'aggregation': 'DEFAULT', 'type': 'P2P_WITH_SHARED_CARD', 'properties': {}}, 'P2P_REVERSE': {'orientation': 'REVERSE', 'aggregation': 'SUM', 'type': 'P2P', 'properties': {'totalAmount': {'defaultValue': None, 'property': 'totalAmount', 'aggregation': 'SUM'}}}, 'P2P_WITH_SHARED_CARD_REVERSE': {'orientation': 'REVERSE', 'aggregation': 'DEFAULT', 'type': 'P2P_WITH_SHARED_CARD', 'properties': {}}, 'SHARED_IDS': {'orientation': 'UNDIRECTED', 'aggregation': 'DEFAULT', 'type': 'SHARED_IDS', 'properties': {}}, 'P2P': {'orientation': 'NATURAL', 'aggregation': 'SUM', 'type': 'P2P', 'properties': {'totalAmount': {'defaultValue': None, 'property': 'totalAmount', 'aggregation': 'SUM'}}}} graphName='user-feature-projection' nodeCount=33732 relationshipCount=109382 projectMillis=120 createMillis=120>]"
     },
     "execution_count": 32,
     "metadata": {},
     "output_type": "execute_result"
    }
   ],
   "source": [
    "clear_graph(driver,'user-feature-projection')\n",
    "run(driver, '''\n",
    "    CALL gds.graph.create('user-feature-projection', ['User'], {\n",
    "        P2P: {type: 'P2P', orientation: 'NATURAL', aggregation: 'SUM', properties: ['totalAmount']},\n",
    "        P2P_REVERSE: {type: 'P2P', orientation: 'REVERSE', aggregation: 'SUM', properties: ['totalAmount']},\n",
    "        SHARED_IDS: {type: 'SHARED_IDS', orientation: 'UNDIRECTED'},\n",
    "        P2P_WITH_SHARED_CARD: {type: 'P2P_WITH_SHARED_CARD', orientation: 'NATURAL'},\n",
    "        P2P_WITH_SHARED_CARD_REVERSE: {type: 'P2P_WITH_SHARED_CARD', orientation: 'REVERSE'}\n",
    "    })\n",
    "''')"
   ],
   "metadata": {
    "collapsed": false
   }
  },
  {
   "cell_type": "code",
   "execution_count": 33,
   "outputs": [
    {
     "data": {
      "text/plain": "[<Record nodePropertiesWritten=33732 centralityDistribution={'p99': 3.0000076293945312, 'min': 0.0, 'max': 40.00023651123047, 'mean': 0.3151907530117046, 'p90': 1.0, 'p50': 0.0, 'p999': 7.000022888183594, 'p95': 1.0, 'p75': 0.0} writeMillis=71 postProcessingMillis=39 preProcessingMillis=0 computeMillis=0 configuration={'orientation': 'NATURAL', 'writeConcurrency': 4, 'writeProperty': 'sharedIdsDegree', 'relationshipWeightProperty': None, 'nodeLabels': ['*'], 'sudo': False, 'relationshipTypes': ['SHARED_IDS'], 'username': None, 'concurrency': 4}>]"
     },
     "execution_count": 33,
     "metadata": {},
     "output_type": "execute_result"
    }
   ],
   "source": [
    "run(driver, '''\n",
    "    CALL gds.degree.write('user-feature-projection', {\n",
    "        relationshipTypes: ['SHARED_IDS'],\n",
    "        writeProperty: 'sharedIdsDegree'\n",
    "    })\n",
    "''')"
   ],
   "metadata": {
    "collapsed": false
   }
  },
  {
   "cell_type": "code",
   "execution_count": 34,
   "outputs": [
    {
     "data": {
      "text/plain": "[<Record nodePropertiesWritten=33732 centralityDistribution={'p99': 2.0000076293945312, 'min': 0.0, 'max': 8.000053405761719, 'mean': 0.18498768665662485, 'p90': 1.0, 'p50': 0.0, 'p999': 4.000022888183594, 'p95': 1.0, 'p75': 0.0} writeMillis=76 postProcessingMillis=25 preProcessingMillis=0 computeMillis=0 configuration={'orientation': 'NATURAL', 'writeConcurrency': 4, 'writeProperty': 'p2pReversedSharedCardDegree', 'relationshipWeightProperty': None, 'nodeLabels': ['*'], 'sudo': False, 'relationshipTypes': ['P2P_WITH_SHARED_CARD_REVERSE'], 'username': None, 'concurrency': 4}>]"
     },
     "execution_count": 34,
     "metadata": {},
     "output_type": "execute_result"
    }
   ],
   "source": [
    "run(driver, '''\n",
    "    CALL gds.pageRank.write('user-feature-projection', {\n",
    "        relationshipTypes: ['P2P_WITH_SHARED_CARD'],\n",
    "        maxIterations: 1000,\n",
    "        writeProperty: 'p2pSharedCardPageRank'\n",
    "    })\n",
    "''')\n",
    "\n",
    "run(driver, '''\n",
    "    CALL gds.degree.write('user-feature-projection', {\n",
    "        relationshipTypes: ['P2P_WITH_SHARED_CARD'],\n",
    "        writeProperty: 'p2pSharedCardDegree'\n",
    "    })\n",
    "''')\n",
    "\n",
    "run(driver, '''\n",
    "    CALL gds.pageRank.write('user-feature-projection', {\n",
    "        relationshipTypes: ['P2P_WITH_SHARED_CARD_REVERSE'],\n",
    "        maxIterations: 1000,\n",
    "        writeProperty: 'p2pReversedSharedCardPageRank'\n",
    "    })\n",
    "''')\n",
    "\n",
    "run(driver, '''\n",
    "    CALL gds.degree.write('user-feature-projection', {\n",
    "        relationshipTypes: ['P2P_WITH_SHARED_CARD_REVERSE'],\n",
    "        writeProperty: 'p2pReversedSharedCardDegree'\n",
    "    })\n",
    "''')"
   ],
   "metadata": {
    "collapsed": false
   }
  },
  {
   "cell_type": "code",
   "execution_count": 35,
   "outputs": [
    {
     "data": {
      "text/plain": "[<Record nodePropertiesWritten=33732 centralityDistribution={'p99': 11.000053405761719, 'min': 0.0, 'max': 837.0038986206055, 'mean': 1.2787587796752597, 'p90': 3.0000076293945312, 'p50': 1.0, 'p999': 54.00023651123047, 'p95': 4.000022888183594, 'p75': 1.0} writeMillis=89 postProcessingMillis=56 preProcessingMillis=0 computeMillis=0 configuration={'orientation': 'NATURAL', 'writeConcurrency': 4, 'writeProperty': 'p2pSentDegree', 'relationshipWeightProperty': None, 'nodeLabels': ['*'], 'sudo': False, 'relationshipTypes': ['P2P'], 'username': None, 'concurrency': 4}>]"
     },
     "execution_count": 35,
     "metadata": {},
     "output_type": "execute_result"
    }
   ],
   "source": [
    "run(driver, '''\n",
    "    CALL gds.pageRank.write('user-feature-projection', {\n",
    "        relationshipTypes: ['P2P'],\n",
    "        maxIterations: 1000,\n",
    "        writeProperty: 'p2pSentPageRank'\n",
    "    })\n",
    "''')\n",
    "\n",
    "run(driver, '''\n",
    "    CALL gds.pageRank.write('user-feature-projection', {\n",
    "        relationshipTypes: ['P2P'],\n",
    "        maxIterations: 1000,\n",
    "        relationshipWeightProperty: 'totalAmount',\n",
    "        writeProperty: 'p2pSentWeightedPageRank'\n",
    "    })\n",
    "''')\n",
    "\n",
    "run(driver, '''\n",
    "    CALL gds.degree.write('user-feature-projection', {\n",
    "        relationshipTypes: ['P2P'],\n",
    "        relationshipWeightProperty: 'totalAmount',\n",
    "        writeProperty: 'p2pSentWeightedDegree'\n",
    "    })\n",
    "''')\n",
    "\n",
    "run(driver, '''\n",
    "    CALL gds.degree.write('user-feature-projection', {\n",
    "        relationshipTypes: ['P2P'],\n",
    "        writeProperty: 'p2pSentDegree'\n",
    "    })\n",
    "''')"
   ],
   "metadata": {
    "collapsed": false
   }
  },
  {
   "cell_type": "code",
   "execution_count": 36,
   "outputs": [],
   "source": [
    "run(driver, '''\n",
    "    CALL gds.pageRank.write('user-feature-projection', {\n",
    "        relationshipTypes: ['P2P_REVERSE'],\n",
    "        maxIterations: 1000,\n",
    "        writeProperty: 'p2pReceivedPageRank'\n",
    "    })\n",
    "''')\n",
    "\n",
    "run(driver, '''\n",
    "    CALL gds.pageRank.write('user-feature-projection', {\n",
    "        relationshipTypes: ['P2P_REVERSE'],\n",
    "        maxIterations: 1000,\n",
    "        relationshipWeightProperty: 'totalAmount',\n",
    "        writeProperty: 'p2pReceivedWeightedPageRank'\n",
    "    })\n",
    "''')\n",
    "\n",
    "run(driver, '''\n",
    "    CALL gds.degree.write('user-feature-projection', {\n",
    "        relationshipTypes: ['P2P_REVERSE'],\n",
    "        relationshipWeightProperty: 'totalAmount',\n",
    "        writeProperty: 'p2pReceivedWeightedDegree'\n",
    "    })\n",
    "''')\n",
    "\n",
    "run(driver, '''\n",
    "    CALL gds.degree.write('user-feature-projection', {\n",
    "        relationshipTypes: ['P2P_REVERSE'],\n",
    "        writeProperty: 'p2pReceivedDegree'\n",
    "    })\n",
    "''')\n",
    "clear_graph(driver, 'user-feature-projection')"
   ],
   "metadata": {
    "collapsed": false
   }
  },
  {
   "cell_type": "markdown",
   "source": [
    "#### ID Centrality Features"
   ],
   "metadata": {
    "collapsed": false
   }
  },
  {
   "cell_type": "code",
   "execution_count": 37,
   "outputs": [],
   "source": [
    "clear_graph(driver, 'user-id-degree-projection')\n",
    "run(driver, '''\n",
    "    CALL gds.graph.create('user-id-degree-projection',\n",
    "        ['User', 'Card', 'Device', 'IP'],\n",
    "        ['HAS_CC', 'HAS_IP', 'USED']\n",
    "    )\n",
    "''')\n",
    "\n",
    "run(driver, '''\n",
    "    CALL gds.degree.mutate('user-id-degree-projection', {\n",
    "        nodeLabels: ['User', 'Card'],\n",
    "        relationshipTypes: ['HAS_CC'],\n",
    "        mutateProperty: 'cardDegree'\n",
    "    })\n",
    "''')\n",
    "\n",
    "run(driver, '''\n",
    "    CALL gds.degree.mutate('user-id-degree-projection', {\n",
    "        nodeLabels: ['User', 'Device'],\n",
    "        relationshipTypes: ['USED'],\n",
    "        mutateProperty: 'deviceDegree'\n",
    "    })\n",
    "''')\n",
    "\n",
    "run(driver, '''\n",
    "    CALL gds.degree.mutate('user-id-degree-projection', {\n",
    "        nodeLabels: ['User', 'IP'],\n",
    "        relationshipTypes: ['HAS_IP'],\n",
    "        mutateProperty: 'ipDegree'\n",
    "    })\n",
    "''')\n",
    "\n",
    "run(driver, '''\n",
    "    CALL gds.graph.writeNodeProperties('user-id-degree-projection',\n",
    "        ['cardDegree', 'deviceDegree', 'ipDegree'],\n",
    "        ['User']\n",
    "    )\n",
    "''')\n",
    "clear_graph(driver, 'user-id-degree-projection')"
   ],
   "metadata": {
    "collapsed": false
   }
  },
  {
   "cell_type": "markdown",
   "source": [
    "### Machine Learning Training & Evaluation"
   ],
   "metadata": {
    "collapsed": false
   }
  },
  {
   "cell_type": "markdown",
   "source": [
    "#### Get and Prepare Data"
   ],
   "metadata": {
    "collapsed": false
   }
  },
  {
   "cell_type": "code",
   "execution_count": 38,
   "outputs": [
    {
     "name": "stdout",
     "output_type": "stream",
     "text": [
      "CPU times: user 13.8 s, sys: 182 ms, total: 14 s\n",
      "Wall time: 22.3 s\n"
     ]
    },
    {
     "data": {
      "text/plain": "       p2pReceivedPageRank  fraudRisk  p2pReceivedWeightedPageRank  ipDegree  \\\n0                 0.688357          0                     0.414277      21.0   \n1                 0.376376          0                     0.150422       7.0   \n2                 0.150000          0                     0.150000       8.0   \n3                 0.320000          0                     0.319779     135.0   \n4                 0.150000          0                     0.150000     169.0   \n...                    ...        ...                          ...       ...   \n33727             0.573657          0                     0.451011      14.0   \n33728             0.965540          0                     1.632799       5.0   \n33729             0.277500          0                     0.277500      38.0   \n33730             0.196219          0                     0.170451       1.0   \n33731             2.144994          0                     0.401513       2.0   \n\n       p2pReversedSharedCardDegree  p2pReceivedWeightedDegree  p2pSentDegree  \\\n0                              0.0                       10.0            1.0   \n1                              0.0                       10.0            1.0   \n2                              0.0                      160.0            0.0   \n3                              0.0                      100.0            2.0   \n4                              0.0                     2703.6            0.0   \n...                            ...                        ...            ...   \n33727                          0.0                        5.0            1.0   \n33728                          1.0                      150.0            1.0   \n33729                          0.0                        0.0            1.0   \n33730                          0.0                       10.0            1.0   \n33731                          0.0                        5.0            2.0   \n\n       communitySize  moneyTransferErrorCancelAmount  p2pSentWeightedDegree  \\\n0                  1                          877.00                1200.00   \n1                  1                          718.00                   5.00   \n2                  1                          326.00                   0.00   \n3                  1                        30425.80                 598.75   \n4                  1                        43439.19                   0.00   \n...              ...                             ...                    ...   \n33727              1                          225.00                 280.00   \n33728              2                            0.00                 150.00   \n33729              1                          514.00                  10.00   \n33730              1                            0.00                 200.00   \n33731              1                            0.00                1000.00   \n\n       ... p2pReceivedDegree  p2pSharedCardPageRank  cardDegree  \\\n0      ...               1.0               0.150000         3.0   \n1      ...               2.0               0.150000         1.0   \n2      ...               1.0               0.150000         2.0   \n3      ...               1.0               0.150000        12.0   \n4      ...               2.0               0.150000         9.0   \n...    ...               ...                    ...         ...   \n33727  ...               1.0               0.150000         2.0   \n33728  ...               1.0               0.999999         4.0   \n33729  ...               0.0               0.150000         2.0   \n33730  ...               2.0               0.150000         1.0   \n33731  ...               1.0               0.150000         1.0   \n\n       partOfCommunity  p2pSharedCardDegree                              guid  \\\n0                    0                  0.0  be0222d26897046dc92ae2929d3427e7   \n1                    0                  0.0  59515432f0e2e79b83e9524c94f7f86e   \n2                    0                  0.0  ba1f4324c66ee093478d41a6826a3649   \n3                    0                  0.0  8a18e1625e35a9f66abfd7bd2d04f0b3   \n4                    0                  0.0  9f705a0107acc25a57f9e6aa8436a08e   \n...                ...                  ...                               ...   \n33727                0                  0.0  f3693169dcc9064114a171c5c2f485b5   \n33728                1                  1.0  10f7f048645c602de3fae7c2cf81b254   \n33729                0                  0.0  d3a4469957800636802a8de4874af1bc   \n33730                0                  0.0  4698ccb2e4b07b1974741f634115e49b   \n33731                0                  0.0  8eea038c1a3408651f5980631768deaf   \n\n       sharedIdsDegree  p2pSentPageRank  deviceDegree  \\\n0                  0.0         0.175456           4.0   \n1                  0.0         0.310548           1.0   \n2                  0.0         0.277500           1.0   \n3                  0.0         0.230174           2.0   \n4                  0.0         0.391426           2.0   \n...                ...              ...           ...   \n33727              0.0         0.297005           2.0   \n33728              1.0         0.371382           4.0   \n33729              0.0         0.150000           0.0   \n33730              0.0         0.181054           0.0   \n33731              0.0         0.185296           0.0   \n\n       p2pReversedSharedCardPageRank  \n0                           0.150000  \n1                           0.150000  \n2                           0.150000  \n3                           0.150000  \n4                           0.150000  \n...                              ...  \n33727                       0.150000  \n33728                       0.999999  \n33729                       0.150000  \n33730                       0.150000  \n33731                       0.150000  \n\n[33732 rows x 25 columns]",
      "text/html": "<div>\n<style scoped>\n    .dataframe tbody tr th:only-of-type {\n        vertical-align: middle;\n    }\n\n    .dataframe tbody tr th {\n        vertical-align: top;\n    }\n\n    .dataframe thead th {\n        text-align: right;\n    }\n</style>\n<table border=\"1\" class=\"dataframe\">\n  <thead>\n    <tr style=\"text-align: right;\">\n      <th></th>\n      <th>p2pReceivedPageRank</th>\n      <th>fraudRisk</th>\n      <th>p2pReceivedWeightedPageRank</th>\n      <th>ipDegree</th>\n      <th>p2pReversedSharedCardDegree</th>\n      <th>p2pReceivedWeightedDegree</th>\n      <th>p2pSentDegree</th>\n      <th>communitySize</th>\n      <th>moneyTransferErrorCancelAmount</th>\n      <th>p2pSentWeightedDegree</th>\n      <th>...</th>\n      <th>p2pReceivedDegree</th>\n      <th>p2pSharedCardPageRank</th>\n      <th>cardDegree</th>\n      <th>partOfCommunity</th>\n      <th>p2pSharedCardDegree</th>\n      <th>guid</th>\n      <th>sharedIdsDegree</th>\n      <th>p2pSentPageRank</th>\n      <th>deviceDegree</th>\n      <th>p2pReversedSharedCardPageRank</th>\n    </tr>\n  </thead>\n  <tbody>\n    <tr>\n      <th>0</th>\n      <td>0.688357</td>\n      <td>0</td>\n      <td>0.414277</td>\n      <td>21.0</td>\n      <td>0.0</td>\n      <td>10.0</td>\n      <td>1.0</td>\n      <td>1</td>\n      <td>877.00</td>\n      <td>1200.00</td>\n      <td>...</td>\n      <td>1.0</td>\n      <td>0.150000</td>\n      <td>3.0</td>\n      <td>0</td>\n      <td>0.0</td>\n      <td>be0222d26897046dc92ae2929d3427e7</td>\n      <td>0.0</td>\n      <td>0.175456</td>\n      <td>4.0</td>\n      <td>0.150000</td>\n    </tr>\n    <tr>\n      <th>1</th>\n      <td>0.376376</td>\n      <td>0</td>\n      <td>0.150422</td>\n      <td>7.0</td>\n      <td>0.0</td>\n      <td>10.0</td>\n      <td>1.0</td>\n      <td>1</td>\n      <td>718.00</td>\n      <td>5.00</td>\n      <td>...</td>\n      <td>2.0</td>\n      <td>0.150000</td>\n      <td>1.0</td>\n      <td>0</td>\n      <td>0.0</td>\n      <td>59515432f0e2e79b83e9524c94f7f86e</td>\n      <td>0.0</td>\n      <td>0.310548</td>\n      <td>1.0</td>\n      <td>0.150000</td>\n    </tr>\n    <tr>\n      <th>2</th>\n      <td>0.150000</td>\n      <td>0</td>\n      <td>0.150000</td>\n      <td>8.0</td>\n      <td>0.0</td>\n      <td>160.0</td>\n      <td>0.0</td>\n      <td>1</td>\n      <td>326.00</td>\n      <td>0.00</td>\n      <td>...</td>\n      <td>1.0</td>\n      <td>0.150000</td>\n      <td>2.0</td>\n      <td>0</td>\n      <td>0.0</td>\n      <td>ba1f4324c66ee093478d41a6826a3649</td>\n      <td>0.0</td>\n      <td>0.277500</td>\n      <td>1.0</td>\n      <td>0.150000</td>\n    </tr>\n    <tr>\n      <th>3</th>\n      <td>0.320000</td>\n      <td>0</td>\n      <td>0.319779</td>\n      <td>135.0</td>\n      <td>0.0</td>\n      <td>100.0</td>\n      <td>2.0</td>\n      <td>1</td>\n      <td>30425.80</td>\n      <td>598.75</td>\n      <td>...</td>\n      <td>1.0</td>\n      <td>0.150000</td>\n      <td>12.0</td>\n      <td>0</td>\n      <td>0.0</td>\n      <td>8a18e1625e35a9f66abfd7bd2d04f0b3</td>\n      <td>0.0</td>\n      <td>0.230174</td>\n      <td>2.0</td>\n      <td>0.150000</td>\n    </tr>\n    <tr>\n      <th>4</th>\n      <td>0.150000</td>\n      <td>0</td>\n      <td>0.150000</td>\n      <td>169.0</td>\n      <td>0.0</td>\n      <td>2703.6</td>\n      <td>0.0</td>\n      <td>1</td>\n      <td>43439.19</td>\n      <td>0.00</td>\n      <td>...</td>\n      <td>2.0</td>\n      <td>0.150000</td>\n      <td>9.0</td>\n      <td>0</td>\n      <td>0.0</td>\n      <td>9f705a0107acc25a57f9e6aa8436a08e</td>\n      <td>0.0</td>\n      <td>0.391426</td>\n      <td>2.0</td>\n      <td>0.150000</td>\n    </tr>\n    <tr>\n      <th>...</th>\n      <td>...</td>\n      <td>...</td>\n      <td>...</td>\n      <td>...</td>\n      <td>...</td>\n      <td>...</td>\n      <td>...</td>\n      <td>...</td>\n      <td>...</td>\n      <td>...</td>\n      <td>...</td>\n      <td>...</td>\n      <td>...</td>\n      <td>...</td>\n      <td>...</td>\n      <td>...</td>\n      <td>...</td>\n      <td>...</td>\n      <td>...</td>\n      <td>...</td>\n      <td>...</td>\n    </tr>\n    <tr>\n      <th>33727</th>\n      <td>0.573657</td>\n      <td>0</td>\n      <td>0.451011</td>\n      <td>14.0</td>\n      <td>0.0</td>\n      <td>5.0</td>\n      <td>1.0</td>\n      <td>1</td>\n      <td>225.00</td>\n      <td>280.00</td>\n      <td>...</td>\n      <td>1.0</td>\n      <td>0.150000</td>\n      <td>2.0</td>\n      <td>0</td>\n      <td>0.0</td>\n      <td>f3693169dcc9064114a171c5c2f485b5</td>\n      <td>0.0</td>\n      <td>0.297005</td>\n      <td>2.0</td>\n      <td>0.150000</td>\n    </tr>\n    <tr>\n      <th>33728</th>\n      <td>0.965540</td>\n      <td>0</td>\n      <td>1.632799</td>\n      <td>5.0</td>\n      <td>1.0</td>\n      <td>150.0</td>\n      <td>1.0</td>\n      <td>2</td>\n      <td>0.00</td>\n      <td>150.00</td>\n      <td>...</td>\n      <td>1.0</td>\n      <td>0.999999</td>\n      <td>4.0</td>\n      <td>1</td>\n      <td>1.0</td>\n      <td>10f7f048645c602de3fae7c2cf81b254</td>\n      <td>1.0</td>\n      <td>0.371382</td>\n      <td>4.0</td>\n      <td>0.999999</td>\n    </tr>\n    <tr>\n      <th>33729</th>\n      <td>0.277500</td>\n      <td>0</td>\n      <td>0.277500</td>\n      <td>38.0</td>\n      <td>0.0</td>\n      <td>0.0</td>\n      <td>1.0</td>\n      <td>1</td>\n      <td>514.00</td>\n      <td>10.00</td>\n      <td>...</td>\n      <td>0.0</td>\n      <td>0.150000</td>\n      <td>2.0</td>\n      <td>0</td>\n      <td>0.0</td>\n      <td>d3a4469957800636802a8de4874af1bc</td>\n      <td>0.0</td>\n      <td>0.150000</td>\n      <td>0.0</td>\n      <td>0.150000</td>\n    </tr>\n    <tr>\n      <th>33730</th>\n      <td>0.196219</td>\n      <td>0</td>\n      <td>0.170451</td>\n      <td>1.0</td>\n      <td>0.0</td>\n      <td>10.0</td>\n      <td>1.0</td>\n      <td>1</td>\n      <td>0.00</td>\n      <td>200.00</td>\n      <td>...</td>\n      <td>2.0</td>\n      <td>0.150000</td>\n      <td>1.0</td>\n      <td>0</td>\n      <td>0.0</td>\n      <td>4698ccb2e4b07b1974741f634115e49b</td>\n      <td>0.0</td>\n      <td>0.181054</td>\n      <td>0.0</td>\n      <td>0.150000</td>\n    </tr>\n    <tr>\n      <th>33731</th>\n      <td>2.144994</td>\n      <td>0</td>\n      <td>0.401513</td>\n      <td>2.0</td>\n      <td>0.0</td>\n      <td>5.0</td>\n      <td>2.0</td>\n      <td>1</td>\n      <td>0.00</td>\n      <td>1000.00</td>\n      <td>...</td>\n      <td>1.0</td>\n      <td>0.150000</td>\n      <td>1.0</td>\n      <td>0</td>\n      <td>0.0</td>\n      <td>8eea038c1a3408651f5980631768deaf</td>\n      <td>0.0</td>\n      <td>0.185296</td>\n      <td>0.0</td>\n      <td>0.150000</td>\n    </tr>\n  </tbody>\n</table>\n<p>33732 rows × 25 columns</p>\n</div>"
     },
     "execution_count": 38,
     "metadata": {},
     "output_type": "execute_result"
    }
   ],
   "source": [
    "%%time\n",
    "result = run(driver, 'MATCH(u:User) RETURN u')\n",
    "df = pd.DataFrame([dict(record.get('u')) for record in result])\n",
    "df"
   ],
   "metadata": {
    "collapsed": false
   }
  },
  {
   "cell_type": "code",
   "execution_count": 39,
   "outputs": [],
   "source": [
    "result = run(driver, 'MATCH(u:User) RETURN u')\n",
    "df = pd.DataFrame([dict(record.get('u')) for record in result])\n",
    "\n",
    "X = df[[\n",
    "    'sharedIdsDegree',\n",
    "    'p2pSharedCardPageRank',\n",
    "    'p2pSentPageRank',\n",
    "    'p2pReceivedWeightedPageRank',\n",
    "    'p2pReceivedWeightedDegree',\n",
    "    'ipDegree',\n",
    "    'cardDegree',\n",
    "    'deviceDegree',\n",
    "    'communitySize',\n",
    "    'partOfCommunity'\n",
    "]]\n",
    "\n",
    "y = df.fraudRisk - df.fraudMoneyTransfer"
   ],
   "metadata": {
    "collapsed": false
   }
  },
  {
   "cell_type": "code",
   "execution_count": 40,
   "outputs": [
    {
     "data": {
      "text/plain": "       sharedIdsDegree  p2pSharedCardPageRank  p2pSentPageRank  \\\n0                  0.0               0.150000         0.175456   \n1                  0.0               0.150000         0.310548   \n2                  0.0               0.150000         0.277500   \n3                  0.0               0.150000         0.230174   \n4                  0.0               0.150000         0.391426   \n...                ...                    ...              ...   \n33727              0.0               0.150000         0.297005   \n33728              1.0               0.999999         0.371382   \n33729              0.0               0.150000         0.150000   \n33730              0.0               0.150000         0.181054   \n33731              0.0               0.150000         0.185296   \n\n       p2pReceivedWeightedPageRank  p2pReceivedWeightedDegree  ipDegree  \\\n0                         0.414277                       10.0      21.0   \n1                         0.150422                       10.0       7.0   \n2                         0.150000                      160.0       8.0   \n3                         0.319779                      100.0     135.0   \n4                         0.150000                     2703.6     169.0   \n...                            ...                        ...       ...   \n33727                     0.451011                        5.0      14.0   \n33728                     1.632799                      150.0       5.0   \n33729                     0.277500                        0.0      38.0   \n33730                     0.170451                       10.0       1.0   \n33731                     0.401513                        5.0       2.0   \n\n       cardDegree  deviceDegree  communitySize  partOfCommunity  \n0             3.0           4.0              1                0  \n1             1.0           1.0              1                0  \n2             2.0           1.0              1                0  \n3            12.0           2.0              1                0  \n4             9.0           2.0              1                0  \n...           ...           ...            ...              ...  \n33727         2.0           2.0              1                0  \n33728         4.0           4.0              2                1  \n33729         2.0           0.0              1                0  \n33730         1.0           0.0              1                0  \n33731         1.0           0.0              1                0  \n\n[33732 rows x 10 columns]",
      "text/html": "<div>\n<style scoped>\n    .dataframe tbody tr th:only-of-type {\n        vertical-align: middle;\n    }\n\n    .dataframe tbody tr th {\n        vertical-align: top;\n    }\n\n    .dataframe thead th {\n        text-align: right;\n    }\n</style>\n<table border=\"1\" class=\"dataframe\">\n  <thead>\n    <tr style=\"text-align: right;\">\n      <th></th>\n      <th>sharedIdsDegree</th>\n      <th>p2pSharedCardPageRank</th>\n      <th>p2pSentPageRank</th>\n      <th>p2pReceivedWeightedPageRank</th>\n      <th>p2pReceivedWeightedDegree</th>\n      <th>ipDegree</th>\n      <th>cardDegree</th>\n      <th>deviceDegree</th>\n      <th>communitySize</th>\n      <th>partOfCommunity</th>\n    </tr>\n  </thead>\n  <tbody>\n    <tr>\n      <th>0</th>\n      <td>0.0</td>\n      <td>0.150000</td>\n      <td>0.175456</td>\n      <td>0.414277</td>\n      <td>10.0</td>\n      <td>21.0</td>\n      <td>3.0</td>\n      <td>4.0</td>\n      <td>1</td>\n      <td>0</td>\n    </tr>\n    <tr>\n      <th>1</th>\n      <td>0.0</td>\n      <td>0.150000</td>\n      <td>0.310548</td>\n      <td>0.150422</td>\n      <td>10.0</td>\n      <td>7.0</td>\n      <td>1.0</td>\n      <td>1.0</td>\n      <td>1</td>\n      <td>0</td>\n    </tr>\n    <tr>\n      <th>2</th>\n      <td>0.0</td>\n      <td>0.150000</td>\n      <td>0.277500</td>\n      <td>0.150000</td>\n      <td>160.0</td>\n      <td>8.0</td>\n      <td>2.0</td>\n      <td>1.0</td>\n      <td>1</td>\n      <td>0</td>\n    </tr>\n    <tr>\n      <th>3</th>\n      <td>0.0</td>\n      <td>0.150000</td>\n      <td>0.230174</td>\n      <td>0.319779</td>\n      <td>100.0</td>\n      <td>135.0</td>\n      <td>12.0</td>\n      <td>2.0</td>\n      <td>1</td>\n      <td>0</td>\n    </tr>\n    <tr>\n      <th>4</th>\n      <td>0.0</td>\n      <td>0.150000</td>\n      <td>0.391426</td>\n      <td>0.150000</td>\n      <td>2703.6</td>\n      <td>169.0</td>\n      <td>9.0</td>\n      <td>2.0</td>\n      <td>1</td>\n      <td>0</td>\n    </tr>\n    <tr>\n      <th>...</th>\n      <td>...</td>\n      <td>...</td>\n      <td>...</td>\n      <td>...</td>\n      <td>...</td>\n      <td>...</td>\n      <td>...</td>\n      <td>...</td>\n      <td>...</td>\n      <td>...</td>\n    </tr>\n    <tr>\n      <th>33727</th>\n      <td>0.0</td>\n      <td>0.150000</td>\n      <td>0.297005</td>\n      <td>0.451011</td>\n      <td>5.0</td>\n      <td>14.0</td>\n      <td>2.0</td>\n      <td>2.0</td>\n      <td>1</td>\n      <td>0</td>\n    </tr>\n    <tr>\n      <th>33728</th>\n      <td>1.0</td>\n      <td>0.999999</td>\n      <td>0.371382</td>\n      <td>1.632799</td>\n      <td>150.0</td>\n      <td>5.0</td>\n      <td>4.0</td>\n      <td>4.0</td>\n      <td>2</td>\n      <td>1</td>\n    </tr>\n    <tr>\n      <th>33729</th>\n      <td>0.0</td>\n      <td>0.150000</td>\n      <td>0.150000</td>\n      <td>0.277500</td>\n      <td>0.0</td>\n      <td>38.0</td>\n      <td>2.0</td>\n      <td>0.0</td>\n      <td>1</td>\n      <td>0</td>\n    </tr>\n    <tr>\n      <th>33730</th>\n      <td>0.0</td>\n      <td>0.150000</td>\n      <td>0.181054</td>\n      <td>0.170451</td>\n      <td>10.0</td>\n      <td>1.0</td>\n      <td>1.0</td>\n      <td>0.0</td>\n      <td>1</td>\n      <td>0</td>\n    </tr>\n    <tr>\n      <th>33731</th>\n      <td>0.0</td>\n      <td>0.150000</td>\n      <td>0.185296</td>\n      <td>0.401513</td>\n      <td>5.0</td>\n      <td>2.0</td>\n      <td>1.0</td>\n      <td>0.0</td>\n      <td>1</td>\n      <td>0</td>\n    </tr>\n  </tbody>\n</table>\n<p>33732 rows × 10 columns</p>\n</div>"
     },
     "execution_count": 40,
     "metadata": {},
     "output_type": "execute_result"
    }
   ],
   "source": [
    "X"
   ],
   "metadata": {
    "collapsed": false
   }
  },
  {
   "cell_type": "code",
   "execution_count": 41,
   "outputs": [
    {
     "name": "stdout",
     "output_type": "stream",
     "text": [
      "0        0\n",
      "1        0\n",
      "2        0\n",
      "3        0\n",
      "4        0\n",
      "        ..\n",
      "33727    0\n",
      "33728    0\n",
      "33729    0\n",
      "33730    0\n",
      "33731    0\n",
      "Length: 33732, dtype: int64\n"
     ]
    }
   ],
   "source": [
    "print(y)"
   ],
   "metadata": {
    "collapsed": false
   }
  },
  {
   "cell_type": "code",
   "execution_count": 42,
   "outputs": [],
   "source": [
    "from sklearn.model_selection import train_test_split\n",
    "\n",
    "X_train, X_test, y_train, y_test = train_test_split(X, y, test_size=0.2, random_state=0)"
   ],
   "metadata": {
    "collapsed": false
   }
  },
  {
   "cell_type": "markdown",
   "source": [
    "#### Model Training and Evaluation\n",
    "\n",
    "For purposes of this demo I am going to use a random forest classifier. Other classifiers including logistic regression, SVM, Neural Nets and Boosting variants could work as well. Going into the exact pros and cons of these models is out of scope here. Overall, I like exploring classification with Random Forests since they are relatively robust to feature scaling and collinearity issues and require minimal tuning to get working well."
   ],
   "metadata": {
    "collapsed": false
   }
  },
  {
   "cell_type": "code",
   "execution_count": 43,
   "outputs": [
    {
     "data": {
      "text/plain": "RandomForestClassifier(class_weight='balanced', max_depth=5, n_estimators=500,\n                       random_state=0)"
     },
     "execution_count": 43,
     "metadata": {},
     "output_type": "execute_result"
    }
   ],
   "source": [
    "from sklearn.ensemble import RandomForestClassifier\n",
    "\n",
    "clf = RandomForestClassifier(n_estimators=500, random_state=0, max_depth=5, bootstrap=True, class_weight='balanced')\n",
    "clf.fit(X_train, y_train)"
   ],
   "metadata": {
    "collapsed": false
   }
  },
  {
   "cell_type": "code",
   "execution_count": 44,
   "outputs": [
    {
     "name": "stdout",
     "output_type": "stream",
     "text": [
      "Accuracy of random forrest classifier on test set: 0.85\n",
      "\n",
      "Confusion Matrix: \n"
     ]
    },
    {
     "data": {
      "text/plain": "<Figure size 432x288 with 1 Axes>",
      "image/png": "[encoded data removed]"
     },
     "metadata": {
      "needs_background": "light"
     },
     "output_type": "display_data"
    }
   ],
   "source": [
    "from sklearn.metrics import ConfusionMatrixDisplay\n",
    "print('Accuracy of random forrest classifier on test set: {:.2f}'.format(clf.score(X_test, y_test)))\n",
    "print('\\nConfusion Matrix: ')\n",
    "disp = ConfusionMatrixDisplay.from_predictions(y_test, clf.predict(X_test), display_labels=clf.classes_,\n",
    "                                               normalize='true', cmap='Greys', colorbar=False)"
   ],
   "metadata": {
    "collapsed": false
   }
  },
  {
   "cell_type": "code",
   "execution_count": 45,
   "outputs": [
    {
     "data": {
      "text/plain": "<Figure size 432x288 with 1 Axes>",
      "image/png": "[encoded data removed]"
     },
     "metadata": {
      "needs_background": "light"
     },
     "output_type": "display_data"
    }
   ],
   "source": [
    "from sklearn.metrics import RocCurveDisplay\n",
    "\n",
    "display = RocCurveDisplay.from_estimator(clf, X_test, y_test, name=\"RF Model\")\n",
    "_ = display.ax_.set_title(\"ROC Curve\")"
   ],
   "metadata": {
    "collapsed": false
   }
  },
  {
   "cell_type": "code",
   "execution_count": 46,
   "outputs": [
    {
     "data": {
      "text/plain": "<Figure size 432x288 with 1 Axes>",
      "image/png": "[encoded data removed]"
     },
     "metadata": {
      "needs_background": "light"
     },
     "output_type": "display_data"
    }
   ],
   "source": [
    "from sklearn.metrics import PrecisionRecallDisplay\n",
    "\n",
    "y_prob = clf.predict_proba(X_test)\n",
    "display = PrecisionRecallDisplay.from_predictions(y_test, y_prob[:, 1], name=\"RF Model\")\n",
    "_ = display.ax_.set_title(\"Precision-Recall Curve\")"
   ],
   "metadata": {
    "collapsed": false
   }
  },
  {
   "cell_type": "markdown",
   "source": [
    "Below is a ranked list of the most influential features. Among the most important are the community sizes and the shared ids degree and p2p shared card pageRank."
   ],
   "metadata": {
    "collapsed": false
   }
  },
  {
   "cell_type": "code",
   "execution_count": 47,
   "outputs": [
    {
     "data": {
      "text/plain": "                                    0\ncommunitySize                0.106548\npartOfCommunity              0.096505\nsharedIdsDegree              0.019070\np2pSharedCardPageRank        0.017373\nipDegree                     0.008538\ncardDegree                   0.004306\ndeviceDegree                 0.002453\np2pReceivedWeightedPageRank  0.002379\np2pSentPageRank              0.001808\np2pReceivedWeightedDegree    0.001178",
      "text/html": "<div>\n<style scoped>\n    .dataframe tbody tr th:only-of-type {\n        vertical-align: middle;\n    }\n\n    .dataframe tbody tr th {\n        vertical-align: top;\n    }\n\n    .dataframe thead th {\n        text-align: right;\n    }\n</style>\n<table border=\"1\" class=\"dataframe\">\n  <thead>\n    <tr style=\"text-align: right;\">\n      <th></th>\n      <th>0</th>\n    </tr>\n  </thead>\n  <tbody>\n    <tr>\n      <th>communitySize</th>\n      <td>0.106548</td>\n    </tr>\n    <tr>\n      <th>partOfCommunity</th>\n      <td>0.096505</td>\n    </tr>\n    <tr>\n      <th>sharedIdsDegree</th>\n      <td>0.019070</td>\n    </tr>\n    <tr>\n      <th>p2pSharedCardPageRank</th>\n      <td>0.017373</td>\n    </tr>\n    <tr>\n      <th>ipDegree</th>\n      <td>0.008538</td>\n    </tr>\n    <tr>\n      <th>cardDegree</th>\n      <td>0.004306</td>\n    </tr>\n    <tr>\n      <th>deviceDegree</th>\n      <td>0.002453</td>\n    </tr>\n    <tr>\n      <th>p2pReceivedWeightedPageRank</th>\n      <td>0.002379</td>\n    </tr>\n    <tr>\n      <th>p2pSentPageRank</th>\n      <td>0.001808</td>\n    </tr>\n    <tr>\n      <th>p2pReceivedWeightedDegree</th>\n      <td>0.001178</td>\n    </tr>\n  </tbody>\n</table>\n</div>"
     },
     "execution_count": 47,
     "metadata": {},
     "output_type": "execute_result"
    }
   ],
   "source": [
    "from sklearn.inspection import permutation_importance\n",
    "result = permutation_importance(clf, X_train, y_train, random_state=0)\n",
    "pd.DataFrame(abs(result['importances_mean']),index=X_train.columns).sort_values(0, ascending=False)"
   ],
   "metadata": {
    "collapsed": false
   }
  },
  {
   "cell_type": "markdown",
   "source": [
    "### Investigating Unlabeled High-Probability Fraud Risk Predictions\n",
    "The labeling from part 2 wasn't perfect. Now that we have trained a machine learning model, investigating user accounts that were predicted as high probability fraud risks despite not being labeled as such by us (ostensible false positives), will bring further insights.\n",
    "\n",
    "The below commands will isolate some cases from the test set so we can visualize in [Neo4j Bloom](https://neo4j.com/product/bloom/)"
   ],
   "metadata": {
    "collapsed": false
   }
  },
  {
   "cell_type": "code",
   "execution_count": 48,
   "outputs": [
    {
     "data": {
      "text/plain": "       cls  predictedProbability                              guid  wccId  \\\n21326    0               0.89379  c4d3c05ebf06a6b7b2f10833a51a0b70  16635   \n\n       communitySize  \n21326              4  ",
      "text/html": "<div>\n<style scoped>\n    .dataframe tbody tr th:only-of-type {\n        vertical-align: middle;\n    }\n\n    .dataframe tbody tr th {\n        vertical-align: top;\n    }\n\n    .dataframe thead th {\n        text-align: right;\n    }\n</style>\n<table border=\"1\" class=\"dataframe\">\n  <thead>\n    <tr style=\"text-align: right;\">\n      <th></th>\n      <th>cls</th>\n      <th>predictedProbability</th>\n      <th>guid</th>\n      <th>wccId</th>\n      <th>communitySize</th>\n    </tr>\n  </thead>\n  <tbody>\n    <tr>\n      <th>21326</th>\n      <td>0</td>\n      <td>0.89379</td>\n      <td>c4d3c05ebf06a6b7b2f10833a51a0b70</td>\n      <td>16635</td>\n      <td>4</td>\n    </tr>\n  </tbody>\n</table>\n</div>"
     },
     "execution_count": 48,
     "metadata": {},
     "output_type": "execute_result"
    }
   ],
   "source": [
    "# Retrieve High Probability predictions for non-fraud risk labeled data in the testset\n",
    "y_test_df = y_test.to_frame(name='cls')\n",
    "y_test_df['predictedProbability']=y_prob[:, 1]\n",
    "test_prob_df = y_test_df[(y_test_df.predictedProbability > 0.88) & (y_test_df.cls == 0)].join(df[['guid','wccId', 'communitySize']])\n",
    "test_prob_df"
   ],
   "metadata": {
    "collapsed": false
   }
  },
  {
   "cell_type": "code",
   "execution_count": 49,
   "outputs": [],
   "source": [
    "#Write back to database for investigation in Bloom\n",
    "for index, row in test_prob_df.iterrows():\n",
    "    run(driver, '''\n",
    "        MATCH(u:User) WHERE u.guid = $guid\n",
    "        SET u.predictedProbability = $predictedProbability\n",
    "    ''', params = row.to_dict())"
   ],
   "metadata": {
    "collapsed": false
   }
  },
  {
   "cell_type": "markdown",
   "source": [
    "Below are a couple examples from the test set visualized in [Bloom](https://neo4j.com/docs/bloom-user-guide/current/) . The larger, leftmost, green nodes with user icons represent the high probability nodes of interest.\n",
    "\n",
    "Example 1\n",
    "<img src=\"img/predictions-in-bloom-1.png\" width=\"700\" >\\n\n",
    "\n",
    "Example 2\n",
    "<img src=\"img/predictions-in-bloom-2.png\" width=\"700\" >\n",
    "\n",
    "\n",
    "Perhaps unsurprisingly, they exhibit the P2P with shared card behavior, they also have a relatively large number of credit cards (the median degree centrality on cards is 3). This could potentially be a sign of fraud, though it is hard to know on an anonymized dataset like this. This is where subject matter expert review and iteration comes in. If this behavior turns out to be a clear indicator of fraud, it means we are predicting fraud more proactively before chargebacks take place which is the ideal. In this case, if we re-label these users appropriately and re-train our ML model as more data comes in, we will further improve predictive performance. If, on the other hand, it turns out that some of this behavior is benign, we can adjust the feature engineer and model so the ML learns to rule out such cases which will likewise improve predictive performance and increase our understanding of fraud patterns. Either way, it is a win."
   ],
   "metadata": {
    "collapsed": false
   }
  },
  {
   "cell_type": "markdown",
   "source": [
    "## Clean Up\n",
    "This section will help clean all the additional graph elements and properties created in the above workflow."
   ],
   "metadata": {
    "collapsed": false
   }
  },
  {
   "cell_type": "code",
   "execution_count": 50,
   "outputs": [
    {
     "data": {
      "text/plain": "[]"
     },
     "execution_count": 50,
     "metadata": {},
     "output_type": "execute_result"
    }
   ],
   "source": [
    "# delete created relationships\n",
    "run(driver,'MATCH (:User)-[r:SHARED_IDS]->() DELETE r')\n",
    "run(driver,'MATCH (:User)-[r:P2P_WITH_SHARED_CARD]->() DELETE r')\n",
    "run(driver,'MATCH (:User)-[r:SIMILAR_IDS]->() DELETE r')"
   ],
   "metadata": {
    "collapsed": false
   }
  },
  {
   "cell_type": "code",
   "execution_count": 51,
   "outputs": [
    {
     "data": {
      "text/plain": "[]"
     },
     "execution_count": 51,
     "metadata": {},
     "output_type": "execute_result"
    }
   ],
   "source": [
    "# remove created node Labels\n",
    "run(driver,'MATCH (u:FlaggedUser) REMOVE u:FlaggedUser')\n",
    "run(driver,'MATCH (u:FraudRiskUser) REMOVE u:FraudRiskUser')\n",
    "run(driver,'MATCH (u:FraudSharedId) REMOVE u:FraudSharedId')"
   ],
   "metadata": {
    "collapsed": false
   }
  },
  {
   "cell_type": "code",
   "execution_count": 52,
   "outputs": [
    {
     "data": {
      "text/plain": "[]"
     },
     "execution_count": 52,
     "metadata": {},
     "output_type": "execute_result"
    }
   ],
   "source": [
    "# remove created node properties\n",
    "run(driver,'''\n",
    "    MATCH (n)\n",
    "    REMOVE n.wccId,\n",
    "        n.sharedIdsDegree,\n",
    "        n.predictedProbability,\n",
    "        n.partOfCommunity,\n",
    "        n.p2pSharedCardPageRank,\n",
    "        n.p2pSharedCardDegree,\n",
    "        n.p2pSentWeightedPageRank,\n",
    "        n.p2pSentWeightedDegree,\n",
    "        n.p2pSentPageRank,\n",
    "        n.p2pSentDegree,\n",
    "        n.p2pReversedSharedCardPageRank,\n",
    "        n.p2pReversedSharedCardDegree,\n",
    "        n.p2pReceivedWeightedPageRank,\n",
    "        n.p2pReceivedWeightedDegree,\n",
    "        n.p2pReceivedPageRank,\n",
    "        n.p2pReceivedDegree,\n",
    "        n.louvainCommunityId,\n",
    "        n.ipDegree,\n",
    "        n.fraudRiskRatio,\n",
    "        n.fraudRiskDegree,\n",
    "        n.fraudRisk,\n",
    "        n.flaggedRatio,\n",
    "        n.flaggedDegree,\n",
    "        n.deviceDegree,\n",
    "        n.degree,\n",
    "        n.communitySize,\n",
    "        n.cardDegree\n",
    "''')"
   ],
   "metadata": {
    "collapsed": false
   }
  },
  {
   "cell_type": "code",
   "execution_count": 53,
   "outputs": [
    {
     "data": {
      "text/plain": "[]"
     },
     "execution_count": 53,
     "metadata": {},
     "output_type": "execute_result"
    }
   ],
   "source": [
    "# remove created relationship properties\n",
    "run(driver, 'MATCH ()-[r]->() REMOVE r.inverseDegreeWeight')"
   ],
   "metadata": {
    "collapsed": false
   }
  },
  {
   "cell_type": "code",
   "execution_count": 54,
   "outputs": [],
   "source": [
    "# Remove GDS graph projections\n",
    "clear_all_graphs(driver)"
   ],
   "metadata": {
    "collapsed": false
   }
  },
  {
   "cell_type": "code",
   "execution_count": 54,
   "outputs": [],
   "source": [],
   "metadata": {
    "collapsed": false
   }
  }
 ],
 "metadata": {
  "kernelspec": {
   "display_name": "Python 3",
   "language": "python",
   "name": "python3"
  },
  "language_info": {
   "codemirror_mode": {
    "name": "ipython",
    "version": 2
   },
   "file_extension": ".py",
   "mimetype": "text/x-python",
   "name": "python",
   "nbconvert_exporter": "python",
   "pygments_lexer": "ipython2",
   "version": "2.7.6"
  }
 },
 "nbformat": 4,
 "nbformat_minor": 0
}
