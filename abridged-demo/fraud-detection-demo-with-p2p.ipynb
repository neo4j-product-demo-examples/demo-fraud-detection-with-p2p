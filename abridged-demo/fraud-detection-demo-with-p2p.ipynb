{
 "cells": [
  {
   "cell_type": "markdown",
   "metadata": {
    "id": "x0p6d1KmxcT1"
   },
   "source": [
    "# Exploring Fraud Detection With Neo4j & Graph Data Science\n",
    "\n",
    "[![Open In Colab](https://colab.research.google.com/assets/colab-badge.svg)](https://colab.research.google.com/github/neo4j-product-examples/demo-fraud-detection-with-p2p/blob/main/abridged-demo/fraud-detection-demo-with-p2p.ipynb)\n",
    "![Neo4j version](https://img.shields.io/badge/Neo4j->=4.4.9-brightgreen)\n",
    "![GDS version](https://img.shields.io/badge/GDS->=2.1-brightgreen)\n",
    "![GDS Python Client version](https://img.shields.io/badge/GDS_Python_Client->=1.4-brightgreen)\n",
    "\n",
    "Using [Neo4j and Graph Data Science (GDS)](https://neo4j.com/docs/graph-data-science/current/) to explore an anonymized data sample from a Peer-to-Peer (P2P) payment platform.\n",
    "\n",
    "### __Goals__\n",
    "- Identify characteristics of fraud users and their network\n",
    "- Resolve fraud communities/rings\n",
    "- Predict the probability that an unlabeled user account is fraudulent or part of a fraud ring\n",
    " \n",
    "### __Outline__\n",
    "- Notebook setup\n",
    "- Review data model and high level statistics\n",
    "- Explore patterns & identify potential signals\n",
    "- Resolve fraud communities using Entity Resolution and Community Detection\n",
    "- Predict fraud risk accounts with Machine Learning\n",
    "\n",
    "### __Getting the Data__\n",
    "To run this notebook you will need a copy of the dataset which is available in the form of a neo4j dump file [in this folder](https://drive.google.com/drive/folders/1LaNFObKnZb1Ty8T7kPLCYlXDUlHU7FGa?usp=sharing). The folder also contains a readme with more details on the dataset and directions for how to load the data into neo4j if you are unfamiliar with the process. The folder contains the ODC-BY license for the dataset as well (separate from the license in this repository).\n",
    "\n",
    "### __Note__\n",
    "This notebook is meant to serve as a quick introductory demo and is an abridged version of the notebook located [here](https://github.com/neo4j-product-examples/demo-fraud-detection-with-p2p) which corresponds to [this blog series](https://neo4j.com/developer-blog/exploring-fraud-detection-neo4j-graph-data-science-summary/). If you are interested in more details and in-depth analysis for this type of approach I recommend taking a look."
   ]
  },
  {
   "cell_type": "markdown",
   "metadata": {
    "id": "P5dfycQlxcT3"
   },
   "source": [
    "## Notebook Setup <a name=\"p0\"></a>"
   ]
  },
  {
   "cell_type": "code",
   "execution_count": 9,
   "metadata": {
    "colab": {
     "base_uri": "https://localhost:8080/"
    },
    "id": "RqSS-Xr0xcT4",
    "outputId": "df1127d6-1325-41ae-c32f-88b3d515f1d6"
   },
   "outputs": [],
   "source": [
    "%%capture\n",
    "%pip install graphdatascience python-dotenv"
   ]
  },
  {
   "cell_type": "code",
   "execution_count": 10,
   "metadata": {
    "id": "DyE68YAZxcT4"
   },
   "outputs": [],
   "source": [
    "import pandas as pd\n",
    "from graphdatascience import GraphDataScience\n",
    "from dotenv import load_dotenv\n",
    "import os\n",
    "pd.set_option('display.width', 0)\n",
    "pd.set_option('display.max_colwidth', 500)\n",
    "pd.set_option('display.max_rows', 50)"
   ]
  },
  {
   "cell_type": "markdown",
   "metadata": {
    "id": "4cHCeEhhxcT5"
   },
   "source": [
    "### Connect to Neo4j Graph Data Science\n",
    "Create a `db-credentials.env` from template the template and fill in credentials as oppropriate.\n",
    "\n",
    "\n",
    "documentation: [https://neo4j.com/docs/graph-data-science-client/current/getting-started/#_import_and_setup](https://neo4j.com/docs/graph-data-science-client/current/getting-started/#_import_and_setup)"
   ]
  },
  {
   "cell_type": "code",
   "execution_count": 11,
   "metadata": {
    "id": "FhWggQlwxcT5"
   },
   "outputs": [],
   "source": [
    "load_dotenv('db-credentials.env', override=True)\n",
    "\n",
    "# Use Neo4j URI and credentials according to our setup\n",
    "gds = GraphDataScience(\n",
    "    os.getenv('NEO4J_URI'),\n",
    "    auth=(os.getenv('NEO4J_USERNAME'),\n",
    "          os.getenv('NEO4J_PASSWORD')),\n",
    "    aura_ds=eval(os.getenv('AURA_DS').title()))\n",
    "\n",
    "# Necessary if you enabled Arrow on the db - this is true for AuraDS\n",
    "gds.set_database(\"neo4j\")\n",
    "PROJ_NAME = 'proj'"
   ]
  },
  {
   "cell_type": "markdown",
   "metadata": {
    "id": "fcIna07pxcT6"
   },
   "source": [
    "### Helper Functions"
   ]
  },
  {
   "cell_type": "code",
   "execution_count": 12,
   "metadata": {
    "id": "lf6ahmC3xcT6"
   },
   "outputs": [],
   "source": [
    "def clear_graph_by_name(g_name):\n",
    "    if gds.graph.exists(g_name).exists:\n",
    "        gds.graph.get(g_name).drop()\n",
    "\n",
    "def clear_all_graphs():\n",
    "    g_names = gds.graph.list().graphName.tolist()\n",
    "    for g_name in g_names:\n",
    "        gds.graph.get(g_name).drop()"
   ]
  },
  {
   "cell_type": "markdown",
   "metadata": {
    "id": "G8BklYyMxcT7"
   },
   "source": [
    "## Review Data Model and High Level Statistics"
   ]
  },
  {
   "cell_type": "markdown",
   "metadata": {
    "id": "tV3gWNOKxcT7"
   },
   "source": [
    "### Dataset Introduction\n",
    "\n",
    "We will be using an anonymized sample of user accounts and transactions from a real-world Peer-to-Peer (P2P) platform. Prior to ingesting the data into graph, the original identification numbers were removed and categorical values were masked. Each user account has a unique 128-bit identifier, while the other nodes, representing unique credit cards, devices, and ip addresses have been assigned random UUIDs. These identifier are stored as the guid property in the graph schema.\n",
    "\n",
    "Below is a visualization of the graph schema:\n",
    "\n",
    "<img src=\"https://github.com/neo4j-product-examples/training-graph-data-science/blob/main/img/schema.png?raw=1\" width=\"500\" >\n",
    "\n",
    "\n",
    "Each user node has an indicator variable for money transfer fraud (named `MoneyTransferFraud`) that is 1 for known fraud and 0 otherwise. This indicator is determined by a combination of credit card chargeback events and manual review. A chargeback is an action taken by a bank to reverse electronic payments. It involves reversing a payment and triggering a dispute resolution process, often for billing errors and unauthorized credit use. In short, a user must have at least one chargeback to be considered fraudulent. Only a small proportion of the user accounts, roughly 0.7 %, are flagged for fraud."
   ]
  },
  {
   "cell_type": "markdown",
   "metadata": {
    "id": "BQVWYUJuxcT7"
   },
   "source": [
    "Below is a breakdown of node label, relationship type, and user flag counts."
   ]
  },
  {
   "cell_type": "code",
   "execution_count": 13,
   "metadata": {
    "colab": {
     "base_uri": "https://localhost:8080/",
     "height": 175
    },
    "id": "0AS4rDdCxcT7",
    "outputId": "92d55673-ed3f-46b3-84e4-078a789206ab"
   },
   "outputs": [
    {
     "data": {
      "text/plain": "  nodeLabel  nodeCount\n0      User      33732\n1    Device      51451\n2      Card     118818\n3        IP     585855",
      "text/html": "<div>\n<style scoped>\n    .dataframe tbody tr th:only-of-type {\n        vertical-align: middle;\n    }\n\n    .dataframe tbody tr th {\n        vertical-align: top;\n    }\n\n    .dataframe thead th {\n        text-align: right;\n    }\n</style>\n<table border=\"1\" class=\"dataframe\">\n  <thead>\n    <tr style=\"text-align: right;\">\n      <th></th>\n      <th>nodeLabel</th>\n      <th>nodeCount</th>\n    </tr>\n  </thead>\n  <tbody>\n    <tr>\n      <th>0</th>\n      <td>User</td>\n      <td>33732</td>\n    </tr>\n    <tr>\n      <th>1</th>\n      <td>Device</td>\n      <td>51451</td>\n    </tr>\n    <tr>\n      <th>2</th>\n      <td>Card</td>\n      <td>118818</td>\n    </tr>\n    <tr>\n      <th>3</th>\n      <td>IP</td>\n      <td>585855</td>\n    </tr>\n  </tbody>\n</table>\n</div>"
     },
     "execution_count": 13,
     "metadata": {},
     "output_type": "execute_result"
    }
   ],
   "source": [
    "# total node counts\n",
    "gds.run_cypher('''\n",
    "    CALL apoc.meta.stats()\n",
    "    YIELD labels\n",
    "    UNWIND keys(labels) AS nodeLabel\n",
    "    RETURN nodeLabel, labels[nodeLabel] AS nodeCount\n",
    "''')"
   ]
  },
  {
   "cell_type": "code",
   "execution_count": 14,
   "metadata": {
    "colab": {
     "base_uri": "https://localhost:8080/",
     "height": 206
    },
    "id": "uj-gn27TxcT8",
    "outputId": "68532a1d-c6c8-4d34-8587-936679ee1bf9"
   },
   "outputs": [
    {
     "data": {
      "text/plain": "  relationshipType  relationshipCount\n0             USED              55026\n1           HAS_IP            1488949\n2           HAS_CC             128066\n3         REFERRED               1870\n4              P2P             102832",
      "text/html": "<div>\n<style scoped>\n    .dataframe tbody tr th:only-of-type {\n        vertical-align: middle;\n    }\n\n    .dataframe tbody tr th {\n        vertical-align: top;\n    }\n\n    .dataframe thead th {\n        text-align: right;\n    }\n</style>\n<table border=\"1\" class=\"dataframe\">\n  <thead>\n    <tr style=\"text-align: right;\">\n      <th></th>\n      <th>relationshipType</th>\n      <th>relationshipCount</th>\n    </tr>\n  </thead>\n  <tbody>\n    <tr>\n      <th>0</th>\n      <td>USED</td>\n      <td>55026</td>\n    </tr>\n    <tr>\n      <th>1</th>\n      <td>HAS_IP</td>\n      <td>1488949</td>\n    </tr>\n    <tr>\n      <th>2</th>\n      <td>HAS_CC</td>\n      <td>128066</td>\n    </tr>\n    <tr>\n      <th>3</th>\n      <td>REFERRED</td>\n      <td>1870</td>\n    </tr>\n    <tr>\n      <th>4</th>\n      <td>P2P</td>\n      <td>102832</td>\n    </tr>\n  </tbody>\n</table>\n</div>"
     },
     "execution_count": 14,
     "metadata": {},
     "output_type": "execute_result"
    }
   ],
   "source": [
    "# total relationship counts\n",
    "gds.run_cypher('''\n",
    "    CALL apoc.meta.stats()\n",
    "    YIELD relTypesCount\n",
    "    UNWIND keys(relTypesCount) AS relationshipType\n",
    "    RETURN relationshipType, relTypesCount[relationshipType] AS relationshipCount\n",
    "''')"
   ]
  },
  {
   "cell_type": "code",
   "execution_count": 15,
   "metadata": {
    "colab": {
     "base_uri": "https://localhost:8080/",
     "height": 112
    },
    "id": "FJwR8oX3xcT8",
    "outputId": "728638aa-f598-490b-a049-bf7dd070c9cb"
   },
   "outputs": [
    {
     "data": {
      "text/plain": "   fraudMoneyTransfer    cnt\n0                   0  33491\n1                   1    241",
      "text/html": "<div>\n<style scoped>\n    .dataframe tbody tr th:only-of-type {\n        vertical-align: middle;\n    }\n\n    .dataframe tbody tr th {\n        vertical-align: top;\n    }\n\n    .dataframe thead th {\n        text-align: right;\n    }\n</style>\n<table border=\"1\" class=\"dataframe\">\n  <thead>\n    <tr style=\"text-align: right;\">\n      <th></th>\n      <th>fraudMoneyTransfer</th>\n      <th>cnt</th>\n    </tr>\n  </thead>\n  <tbody>\n    <tr>\n      <th>0</th>\n      <td>0</td>\n      <td>33491</td>\n    </tr>\n    <tr>\n      <th>1</th>\n      <td>1</td>\n      <td>241</td>\n    </tr>\n  </tbody>\n</table>\n</div>"
     },
     "execution_count": 15,
     "metadata": {},
     "output_type": "execute_result"
    }
   ],
   "source": [
    "#fraud money transfer flags\n",
    "gds.run_cypher('MATCH(u:User) RETURN u.fraudMoneyTransfer AS fraudMoneyTransfer, count(u) AS cnt')"
   ]
  },
  {
   "cell_type": "code",
   "execution_count": 16,
   "metadata": {
    "colab": {
     "base_uri": "https://localhost:8080/",
     "height": 81
    },
    "id": "aVf7zJ0IxcT8",
    "outputId": "64645646-5430-4b02-b498-2ae53c82492b"
   },
   "outputs": [
    {
     "data": {
      "text/plain": "   count(u)\n0       241",
      "text/html": "<div>\n<style scoped>\n    .dataframe tbody tr th:only-of-type {\n        vertical-align: middle;\n    }\n\n    .dataframe tbody tr th {\n        vertical-align: top;\n    }\n\n    .dataframe thead th {\n        text-align: right;\n    }\n</style>\n<table border=\"1\" class=\"dataframe\">\n  <thead>\n    <tr style=\"text-align: right;\">\n      <th></th>\n      <th>count(u)</th>\n    </tr>\n  </thead>\n  <tbody>\n    <tr>\n      <th>0</th>\n      <td>241</td>\n    </tr>\n  </tbody>\n</table>\n</div>"
     },
     "execution_count": 16,
     "metadata": {},
     "output_type": "execute_result"
    }
   ],
   "source": [
    "# Setting a label for flagged users will enable faster lookups in cypher and faster gds projections\n",
    "gds.run_cypher('MATCH(u:User) WHERE u.fraudMoneyTransfer=1 SET u:FlaggedUser RETURN count(u)')"
   ]
  },
  {
   "cell_type": "markdown",
   "metadata": {
    "id": "0nmWQ9yixcT9"
   },
   "source": [
    "## Explore Patterns & Identify Potential Signals with Louvain\n",
    "\n",
    "In a graph, we can attempt to roughly identify fragmented identities with Community Detection, a large set of methods that attempt to partition graphs into well connected groups a.k.a. Communities, where the connectivity in the communities is significantly higher than outside the community. There are multiple forms of community detection. We will use a couple in this post, starting with Louvain."
   ]
  },
  {
   "cell_type": "markdown",
   "metadata": {
    "id": "XlU0XgQPxcT9"
   },
   "source": [
    "#### Using Louvain Community Detection"
   ]
  },
  {
   "cell_type": "code",
   "execution_count": 53,
   "metadata": {
    "colab": {
     "base_uri": "https://localhost:8080/",
     "height": 493,
     "referenced_widgets": [
      "1a3bd3a5924f4e79a94721c320f6acf0",
      "4f4b8543266a4669af47d847c238c782",
      "7338d9b87c1b4e83957c43a4bca12c2b",
      "a088135c732f45cfacedbefd710cc81b",
      "dcf0665be4a64c4caaa466c542b8689a",
      "f287f0b6ef2943ffa2f73124eaa8ba90",
      "c414cd43373a461486a62ee3819397f2",
      "b2d1e17f953e4d62bdfe11a3cf152653",
      "b0ac46fa266948989e3a80ddf73989ef",
      "9cb3e6832b6d4b17b55e3ce1de128d25",
      "5bf44880ce2c43239141ef65861bd7e0"
     ]
    },
    "id": "Xy-kKyvUxcT9",
    "outputId": "16b752be-9d3d-47c5-f94a-b4e124b8dff6"
   },
   "outputs": [
    {
     "data": {
      "text/plain": "Louvain:   0%|          | 0/100 [00:00<?, ?%/s]",
      "application/vnd.jupyter.widget-view+json": {
       "version_major": 2,
       "version_minor": 0,
       "model_id": "e2a7dff2f4744be1bbc41a872fa5be41"
      }
     },
     "metadata": {},
     "output_type": "display_data"
    },
    {
     "data": {
      "text/plain": "writeMillis                                                                                                                                                                                                                                                                                                                                                                                    649\nnodePropertiesWritten                                                                                                                                                                                                                                                                                                                                                                       204001\nmodularity                                                                                                                                                                                                                                                                                                                                                                                0.981124\nmodularities                                                                                                                                                                                [0.8472071568643653, 0.9576093033093735, 0.974567450042101, 0.9785754572140672, 0.9797623607669675, 0.9803205714996315, 0.9806363219274796, 0.980827231231687, 0.9809780812239204, 0.9811235056705432]\nranLevels                                                                                                                                                                                                                                                                                                                                                                                       10\ncommunityCount                                                                                                                                                                                                                                                                                                                                                                               11666\ncommunityDistribution                                                                                                                                                                                                                                                     {'p99': 106, 'min': 1, 'max': 4060, 'mean': 17.486799245671182, 'p90': 27, 'p50': 10, 'p999': 987, 'p95': 38, 'p75': 17}\npostProcessingMillis                                                                                                                                                                                                                                                                                                                                                                            49\npreProcessingMillis                                                                                                                                                                                                                                                                                                                                                                              0\ncomputeMillis                                                                                                                                                                                                                                                                                                                                                                                 4784\nconfiguration            {'maxIterations': 10, 'writeConcurrency': 4, 'seedProperty': None, 'consecutiveIds': False, 'maxLevels': 10, 'concurrency': 4, 'jobId': 'b1b28cfc-dc17-4695-ba08-41666fd28f0a', 'writeProperty': 'louvainCommunityId', 'logProgress': True, 'includeIntermediateCommunities': False, 'nodeLabels': ['*'], 'sudo': False, 'relationshipTypes': ['*'], 'tolerance': 0.0001}\nName: 0, dtype: object"
     },
     "execution_count": 53,
     "metadata": {},
     "output_type": "execute_result"
    }
   ],
   "source": [
    "# clear the graph if it exists beforehand\n",
    "clear_graph_by_name('proj')\n",
    "\n",
    "# create graph projection\n",
    "g, _ = gds.graph.project('proj', ['User', 'Card', 'Device'], {\n",
    "    'HAS_CC': {'orientation': 'UNDIRECTED'},\n",
    "    'USED': {'orientation': 'UNDIRECTED'},\n",
    "    'AGGREGATED_P2P': {'type':'P2P', 'orientation': 'NATURAL',\n",
    "                      'properties': {\n",
    "                          'numberOfTransactions':{\n",
    "                              'property': '*',\n",
    "                              'aggregation': 'COUNT'\n",
    "                          }\n",
    "                      }}\n",
    "})\n",
    "\n",
    "# run Louvain Algorithm\n",
    "_ = gds.louvain.write(g, writeProperty='louvainCommunityId')\n",
    "\n",
    "# write aggregated relationships back for easier visualization\n",
    "gds.graph.relationship.write(g, relationship_type='AGGREGATED_P2P',\n",
    "                             relationship_property='numberOfTransactions')\n",
    "\n",
    "#drop the graph\n",
    "g.drop()\n",
    "_"
   ]
  },
  {
   "cell_type": "code",
   "execution_count": 18,
   "metadata": {
    "colab": {
     "base_uri": "https://localhost:8080/",
     "height": 441
    },
    "id": "8liBvxlaxcT-",
    "outputId": "8b9c5f01-cb5a-4f11-aa0d-da36a182e821"
   },
   "outputs": [
    {
     "name": "stdout",
     "output_type": "stream",
     "text": [
      "Louvain Communities Ordered by count of Flagged Users\n"
     ]
    },
    {
     "data": {
      "text/plain": "    communityId  userCount  flaggedCount  flaggedRatio\n0        181075        206             7      0.033981\n1        182733          7             4      0.571429\n2        140321        604             3      0.004967\n3        194893        478             3      0.006276\n4        188313          6             3      0.500000\n..          ...        ...           ...           ...\n95       102313          6             1      0.166667\n96         5799          4             1      0.250000\n97       170654          2             1      0.500000\n98       181758         53             1      0.018868\n99        36870         98             1      0.010204\n\n[100 rows x 4 columns]",
      "text/html": "<div>\n<style scoped>\n    .dataframe tbody tr th:only-of-type {\n        vertical-align: middle;\n    }\n\n    .dataframe tbody tr th {\n        vertical-align: top;\n    }\n\n    .dataframe thead th {\n        text-align: right;\n    }\n</style>\n<table border=\"1\" class=\"dataframe\">\n  <thead>\n    <tr style=\"text-align: right;\">\n      <th></th>\n      <th>communityId</th>\n      <th>userCount</th>\n      <th>flaggedCount</th>\n      <th>flaggedRatio</th>\n    </tr>\n  </thead>\n  <tbody>\n    <tr>\n      <th>0</th>\n      <td>181075</td>\n      <td>206</td>\n      <td>7</td>\n      <td>0.033981</td>\n    </tr>\n    <tr>\n      <th>1</th>\n      <td>182733</td>\n      <td>7</td>\n      <td>4</td>\n      <td>0.571429</td>\n    </tr>\n    <tr>\n      <th>2</th>\n      <td>140321</td>\n      <td>604</td>\n      <td>3</td>\n      <td>0.004967</td>\n    </tr>\n    <tr>\n      <th>3</th>\n      <td>194893</td>\n      <td>478</td>\n      <td>3</td>\n      <td>0.006276</td>\n    </tr>\n    <tr>\n      <th>4</th>\n      <td>188313</td>\n      <td>6</td>\n      <td>3</td>\n      <td>0.500000</td>\n    </tr>\n    <tr>\n      <th>...</th>\n      <td>...</td>\n      <td>...</td>\n      <td>...</td>\n      <td>...</td>\n    </tr>\n    <tr>\n      <th>95</th>\n      <td>102313</td>\n      <td>6</td>\n      <td>1</td>\n      <td>0.166667</td>\n    </tr>\n    <tr>\n      <th>96</th>\n      <td>5799</td>\n      <td>4</td>\n      <td>1</td>\n      <td>0.250000</td>\n    </tr>\n    <tr>\n      <th>97</th>\n      <td>170654</td>\n      <td>2</td>\n      <td>1</td>\n      <td>0.500000</td>\n    </tr>\n    <tr>\n      <th>98</th>\n      <td>181758</td>\n      <td>53</td>\n      <td>1</td>\n      <td>0.018868</td>\n    </tr>\n    <tr>\n      <th>99</th>\n      <td>36870</td>\n      <td>98</td>\n      <td>1</td>\n      <td>0.010204</td>\n    </tr>\n  </tbody>\n</table>\n<p>100 rows × 4 columns</p>\n</div>"
     },
     "execution_count": 18,
     "metadata": {},
     "output_type": "execute_result"
    }
   ],
   "source": [
    "print(\"Louvain Communities Ordered by count of Flagged Users\")\n",
    "gds.run_cypher('''\n",
    "    MATCH (u:User)\n",
    "    WITH u.louvainCommunityId AS communityId,\n",
    "        count(u) AS userCount,\n",
    "        sum(u.fraudMoneyTransfer) as flaggedCount\n",
    "    RETURN communityId,\n",
    "        userCount,\n",
    "        flaggedCount,\n",
    "        toFloat(flaggedCount)/toFloat(userCount) AS flaggedRatio\n",
    "    ORDER BY flaggedCount DESC LIMIT 100\n",
    "''')"
   ]
  },
  {
   "cell_type": "markdown",
   "metadata": {
    "id": "f0Yxr0cOxcT-"
   },
   "source": [
    "### Exploring Louvain Communities\n",
    "We can view communities of users and connecting identifiers in [Neo4j Bloom](https://neo4j.com/docs/bloom-user-guide/current/) or Neo4j Browser with queries of the form:\n",
    "\n",
    "```cypher\n",
    "MATCH(u1:User{louvainCommunityId: $id})-[r1:HAS_CC|HAS_IP|USED]->(n)<-[r2:HAS_CC|HAS_IP|USED]-(u2:User{louvainCommunityId: $id})\n",
    "WITH *\n",
    "OPTIONAL MATCH (u1)-[r3:P2P]-(u2)\n",
    "RETURN *\n",
    "```\n",
    "OR\n",
    "\n",
    "```cypher\n",
    "MATCH(n1 {louvainCommunityId: $id})\n",
    "MATCH(n2 {louvainCommunityId: $id})\n",
    "WITH *\n",
    "OPTIONAL MATCH (n1)-[r]-(n2)\n",
    "RETURN *\n",
    "```\n",
    "Below are a couple examples of these communities. Flagged users are colored red with caption=0 with other users colored orange and caption=1. We will see an interesting pattern of flagged users sending money to non-flagged users with which they share devices, cards, and IPs. This behavior is suspicious because it suggests that the same individual or group of individuals may be using multiple accounts to withdraw cash from credit transactions prior to a chargeback being executed on the cards. The shared credit card examples (such as example 2 below) are some of the most indicative.\n",
    "\n",
    "Example 1:\n",
    "<img src=\"https://github.com/neo4j-product-examples/training-graph-data-science/blob/main/img/louvain-community-11.png?raw=1\" width=\"900\" >\n",
    "\n",
    "Example 2:\n",
    "<img src=\"https://github.com/neo4j-product-examples/training-graph-data-science/blob/main/img/louvain-community-12.png?raw=1\" width=\"900\" >"
   ]
  },
  {
   "cell_type": "markdown",
   "metadata": {
    "id": "fR7Gis3fxcT-"
   },
   "source": [
    "## Resolve Fraud Communities using Entity Resolution and Community Detection\n"
   ]
  },
  {
   "cell_type": "markdown",
   "metadata": {
    "id": "8aa0SuUdxcT-"
   },
   "source": [
    "### Entity Resolution Business Rules\n",
    "\n",
    "For this analysis, we will use some pretty straightforward ER business logic: If one user sent money to another user that shares the same credit card, we will resolve the two user accounts by linking them together with a new relationship type.\n",
    "\n",
    "You could switch out or add different rules, this is just an example. In a real-world scenario these business rules would pass by SMEs and possibly be backed by further supervised machine learning on manually labeled data. More advanced techniques for this type of ER are possible in graph and we describe them in [this whitepaper](https://neo4j.com/whitepapers/graph-data-science-use-cases-entity-resolution/) and [this blog](https://neo4j.com/developer-blog/exploring-supervised-entity-resolution-in-neo4j/).\n",
    "\n",
    "For this P2P dataset, we do not necessarily want to label all senders/receivers of flagged user transactions as fraudulent since some fraud schemes involve transactions with victims. Furthermore, additional identifiers such as IP may be inexact and cards + devices can be fraudulently controlled/used without the owners permission. Hence I am using a somewhat stringent rule that aligned with the patterns noted above. \n",
    "\n",
    "\n",
    "We can apply relationships to reflect these business rules using cypher:\n"
   ]
  },
  {
   "cell_type": "code",
   "execution_count": 19,
   "metadata": {
    "colab": {
     "base_uri": "https://localhost:8080/",
     "height": 81
    },
    "id": "XWdgNWRyxcT-",
    "outputId": "bb3f5443-1061-43a8-b7df-0d5f075a34b4"
   },
   "outputs": [
    {
     "data": {
      "text/plain": "    cnt\n0  6240",
      "text/html": "<div>\n<style scoped>\n    .dataframe tbody tr th:only-of-type {\n        vertical-align: middle;\n    }\n\n    .dataframe tbody tr th {\n        vertical-align: top;\n    }\n\n    .dataframe thead th {\n        text-align: right;\n    }\n</style>\n<table border=\"1\" class=\"dataframe\">\n  <thead>\n    <tr style=\"text-align: right;\">\n      <th></th>\n      <th>cnt</th>\n    </tr>\n  </thead>\n  <tbody>\n    <tr>\n      <th>0</th>\n      <td>6240</td>\n    </tr>\n  </tbody>\n</table>\n</div>"
     },
     "execution_count": 19,
     "metadata": {},
     "output_type": "execute_result"
    }
   ],
   "source": [
    "# P2P with shared card rule\n",
    "gds.run_cypher('''\n",
    "    MATCH (u1:User)-[r:P2P]->(u2)\n",
    "    WITH u1, u2, count(r) AS cnt\n",
    "    MATCH (u1)-[:HAS_CC]->(n)<-[:HAS_CC]-(u2)\n",
    "    WITH u1, u2, count(DISTINCT n) AS cnt\n",
    "    MERGE(u1)-[s:P2P_WITH_SHARED_CARD]->(u2)\n",
    "    RETURN count(DISTINCT s) AS cnt\n",
    "''')"
   ]
  },
  {
   "cell_type": "markdown",
   "metadata": {
    "id": "vTXCxmZgxcT-"
   },
   "source": [
    "### Using Weakly Connected Components (WCC) to Resolve Communities\n",
    "\n"
   ]
  },
  {
   "cell_type": "code",
   "execution_count": 20,
   "metadata": {
    "colab": {
     "base_uri": "https://localhost:8080/"
    },
    "id": "DYLcNyGQxcT-",
    "outputId": "9fd4b77d-afe9-4810-a78a-586bcadc163c"
   },
   "outputs": [
    {
     "data": {
      "text/plain": "writeMillis                                                                                                                                                                                                                                                                                     134\nnodePropertiesWritten                                                                                                                                                                                                                                                                         33732\ncomponentCount                                                                                                                                                                                                                                                                                29329\ncomponentDistribution                                                                                                                                                                 {'p99': 3, 'min': 1, 'max': 36, 'mean': 1.150124450202871, 'p90': 2, 'p50': 1, 'p999': 6, 'p95': 2, 'p75': 1}\npostProcessingMillis                                                                                                                                                                                                                                                                             22\npreProcessingMillis                                                                                                                                                                                                                                                                               0\ncomputeMillis                                                                                                                                                                                                                                                                                    19\nconfiguration            {'jobId': '1396887c-8398-44cd-b8ed-2bc24234259d', 'writeConcurrency': 4, 'seedProperty': None, 'consecutiveIds': False, 'writeProperty': 'wccId', 'threshold': 0.0, 'logProgress': True, 'nodeLabels': ['*'], 'sudo': False, 'relationshipTypes': ['*'], 'concurrency': 4}\nName: 0, dtype: object"
     },
     "execution_count": 20,
     "metadata": {},
     "output_type": "execute_result"
    }
   ],
   "source": [
    "# write WCC ids to the graph\n",
    "clear_graph_by_name('proj')\n",
    "\n",
    "g, _ = gds.graph.project('proj', ['User'], {\n",
    "    'P2P_WITH_SHARED_CARD': {'orientation': 'UNDIRECTED'}\n",
    "})\n",
    "\n",
    "df = gds.wcc.write(g, writeProperty='wccId')\n",
    "g.drop()\n",
    "df"
   ]
  },
  {
   "cell_type": "markdown",
   "metadata": {
    "id": "dvHx9wAexcT-"
   },
   "source": [
    "### Labeling Fraud Risk User Accounts\n",
    "\n",
    "As these communities are meant to label underlying groups of individuals, if even one flagged account is in the community, we will label all user accounts in the group as fraud risks:\n"
   ]
  },
  {
   "cell_type": "code",
   "execution_count": 21,
   "metadata": {
    "colab": {
     "base_uri": "https://localhost:8080/",
     "height": 81
    },
    "id": "-CKr2kdFxcT-",
    "outputId": "17b168a9-f108-4b9c-a4ed-34fd6efbc8f3"
   },
   "outputs": [
    {
     "data": {
      "text/plain": "   count(u)\n0       399",
      "text/html": "<div>\n<style scoped>\n    .dataframe tbody tr th:only-of-type {\n        vertical-align: middle;\n    }\n\n    .dataframe tbody tr th {\n        vertical-align: top;\n    }\n\n    .dataframe thead th {\n        text-align: right;\n    }\n</style>\n<table border=\"1\" class=\"dataframe\">\n  <thead>\n    <tr style=\"text-align: right;\">\n      <th></th>\n      <th>count(u)</th>\n    </tr>\n  </thead>\n  <tbody>\n    <tr>\n      <th>0</th>\n      <td>399</td>\n    </tr>\n  </tbody>\n</table>\n</div>"
     },
     "execution_count": 21,
     "metadata": {},
     "output_type": "execute_result"
    }
   ],
   "source": [
    "\n",
    "gds.run_cypher('''\n",
    "    MATCH (f:FlaggedUser)\n",
    "    WITH collect(DISTINCT f.wccId) AS flaggedCommunities\n",
    "    MATCH(u:User) WHERE u.wccId IN flaggedCommunities\n",
    "    SET u:FraudRiskUser\n",
    "    SET u.fraudRisk=1\n",
    "    RETURN count(u)\n",
    "''')"
   ]
  },
  {
   "cell_type": "code",
   "execution_count": 22,
   "metadata": {
    "colab": {
     "base_uri": "https://localhost:8080/",
     "height": 49
    },
    "id": "GTVUCJGGxcT-",
    "outputId": "bf675aeb-6888-4d13-9e61-e94dfda2639d"
   },
   "outputs": [
    {
     "data": {
      "text/plain": "Empty DataFrame\nColumns: []\nIndex: []",
      "text/html": "<div>\n<style scoped>\n    .dataframe tbody tr th:only-of-type {\n        vertical-align: middle;\n    }\n\n    .dataframe tbody tr th {\n        vertical-align: top;\n    }\n\n    .dataframe thead th {\n        text-align: right;\n    }\n</style>\n<table border=\"1\" class=\"dataframe\">\n  <thead>\n    <tr style=\"text-align: right;\">\n      <th></th>\n    </tr>\n  </thead>\n  <tbody>\n  </tbody>\n</table>\n</div>"
     },
     "execution_count": 22,
     "metadata": {},
     "output_type": "execute_result"
    }
   ],
   "source": [
    "gds.run_cypher('''\n",
    "    MATCH (u:User) WHERE NOT u:FraudRiskUser\n",
    "    SET u.fraudRisk=0\n",
    "''')"
   ]
  },
  {
   "cell_type": "markdown",
   "metadata": {
    "id": "-nqLH5W2xcT_"
   },
   "source": [
    "### Exploring WCC Communities"
   ]
  },
  {
   "cell_type": "markdown",
   "metadata": {
    "id": "ylphaWe-xcT_"
   },
   "source": [
    "Similar to Louvain we can view communities of users and connecting identifiers in [Neo4j Bloom](https://neo4j.com/docs/bloom-user-guide/current/) or Browser with queries of the form:\n",
    "\n",
    "```cypher\n",
    "MATCH(u1:User{wccId: $id})-[r1:HAS_CC|HAS_IP|USED]->(n)<-[r2:HAS_CC|HAS_IP|USED]-(u2:User{wccId: $id})\n",
    "WITH *\n",
    "OPTIONAL MATCH (u1)-[r3:P2P]-(u2)\n",
    "RETURN *\n",
    "```\n",
    "Below are a couple examples. Users that were flagged via initial chargeback logic are colored red with caption=1, while other users are colored orange with caption=0. Overall, you will notice a high degree of overlapping connectivity of identifiers and P2P transactions between users, which we should expect given our ER rules.\n",
    "\n",
    "Example 1:\n",
    "<img src=\"https://github.com/neo4j-product-examples/training-graph-data-science/blob/main/img/wcc-community-12.png?raw=1\" width=\"900\" >\n",
    "\n",
    "Example 2:\n",
    "<img src=\"https://github.com/neo4j-product-examples/training-graph-data-science/blob/main/img/wcc-community-11.png?raw=1\" width=\"900\" >"
   ]
  },
  {
   "cell_type": "markdown",
   "metadata": {
    "id": "fNt9kQxHxcT_"
   },
   "source": [
    "### Outcomes of Fraud Risk Labeling\n",
    "Fraud Risk labeling helped identify an additional 158 new fraud risk user accounts, a 65% increase . We also see that 60% of the money going to/from previously flagged accounts and other users can be attributed to the newly identified risk accounts:"
   ]
  },
  {
   "cell_type": "code",
   "execution_count": 23,
   "metadata": {
    "colab": {
     "base_uri": "https://localhost:8080/"
    },
    "id": "Z-sBXAgvxcT_",
    "outputId": "02d6c8be-2930-43ee-bb44-cf0d2dcea0d6"
   },
   "outputs": [
    {
     "data": {
      "text/plain": "0.603"
     },
     "execution_count": 23,
     "metadata": {},
     "output_type": "execute_result"
    }
   ],
   "source": [
    "gds.run_cypher('''\n",
    "   MATCH (:FlaggedUser)-[r:P2P]-(u)  WHERE NOT u:FlaggedUser\n",
    "   WITH toFloat(sum(r.totalAmount)) AS p2pTotal\n",
    "   MATCH (u:FraudRiskUser)-[r:P2P]-(:FlaggedUser) WHERE NOT u:FlaggedUser\n",
    "   WITH p2pTotal,  toFloat(sum(r.totalAmount)) AS fraudRiskP2pTotal\n",
    "   RETURN round((fraudRiskP2pTotal)/p2pTotal,3) AS p\n",
    "''').p[0]"
   ]
  },
  {
   "cell_type": "markdown",
   "metadata": {
    "id": "a5acaV54xcT_"
   },
   "source": [
    "Additionally, while the newly identified 158 accounts represents less than 1% of total users in the sample, 11.9% of the total P2P amount in the sample involved the newly identified accounts as senders or receivers:"
   ]
  },
  {
   "cell_type": "code",
   "execution_count": 24,
   "metadata": {
    "colab": {
     "base_uri": "https://localhost:8080/"
    },
    "id": "J4lDFlZUxcT_",
    "outputId": "57588406-c6ba-4f01-8bc2-58a1b64e291d"
   },
   "outputs": [
    {
     "data": {
      "text/plain": "0.119"
     },
     "execution_count": 24,
     "metadata": {},
     "output_type": "execute_result"
    }
   ],
   "source": [
    "gds.run_cypher('''\n",
    "   MATCH (:User)-[r:P2P]->()\n",
    "   WITH toFloat(sum(r.totalAmount)) AS p2pTotal\n",
    "   MATCH (u:FraudRiskUser)-[r:P2P]-() WHERE NOT u:FlaggedUser\n",
    "   WITH p2pTotal, toFloat(sum(r.totalAmount)) AS fraudRiskP2pTotal\n",
    "   RETURN round((fraudRiskP2pTotal)/p2pTotal,3) AS p\n",
    "''').p[0]"
   ]
  },
  {
   "cell_type": "markdown",
   "metadata": {
    "id": "nn79dUg3xcUA"
   },
   "source": [
    "## Part 4: Predict Fraud Risk Accounts with Machine Learning\n"
   ]
  },
  {
   "cell_type": "markdown",
   "metadata": {
    "id": "IUx0VQTSxcUA"
   },
   "source": [
    "### Feature Engineering\n",
    "If we want a machine learning model to successfully classify fraud risk user accounts, we need to supply features that will be informative for the task. The below commands engineer graph features using GDS.  This includes features from [WCC](https://neo4j.com/docs/graph-data-science/current/algorithms/wcc/) community sizes, [PageRank](https://neo4j.com/docs/graph-data-science/current/algorithms/page-rank/), and [Degree Centrality](https://neo4j.com/docs/graph-data-science/current/algorithms/degree-centrality/)."
   ]
  },
  {
   "cell_type": "markdown",
   "metadata": {
    "id": "BGKh59NaxcUA"
   },
   "source": [
    "#### Community Features"
   ]
  },
  {
   "cell_type": "code",
   "execution_count": 25,
   "metadata": {
    "colab": {
     "base_uri": "https://localhost:8080/",
     "height": 49
    },
    "id": "j7k3cqRwxcUA",
    "outputId": "02a97f6a-e880-4b59-a192-951de1634f0c"
   },
   "outputs": [
    {
     "data": {
      "text/plain": "Empty DataFrame\nColumns: []\nIndex: []",
      "text/html": "<div>\n<style scoped>\n    .dataframe tbody tr th:only-of-type {\n        vertical-align: middle;\n    }\n\n    .dataframe tbody tr th {\n        vertical-align: top;\n    }\n\n    .dataframe thead th {\n        text-align: right;\n    }\n</style>\n<table border=\"1\" class=\"dataframe\">\n  <thead>\n    <tr style=\"text-align: right;\">\n      <th></th>\n    </tr>\n  </thead>\n  <tbody>\n  </tbody>\n</table>\n</div>"
     },
     "execution_count": 25,
     "metadata": {},
     "output_type": "execute_result"
    }
   ],
   "source": [
    "gds.run_cypher('''\n",
    "    MATCH (u:User)\n",
    "    WITH u.wccId AS componentId, count(*) AS communitySize, collect(u) AS users\n",
    "    WITH communitySize, toInteger(communitySize > 1) AS partOfCommunity, users\n",
    "    UNWIND users as u\n",
    "    SET u.communitySize = communitySize\n",
    "    SET u.partOfCommunity = partOfCommunity;\n",
    "''')"
   ]
  },
  {
   "cell_type": "markdown",
   "metadata": {
    "id": "Styd8cBLxcUA"
   },
   "source": [
    "#### P2P With Cards and Id Sharing Centrality Features"
   ]
  },
  {
   "cell_type": "code",
   "execution_count": 26,
   "metadata": {
    "colab": {
     "base_uri": "https://localhost:8080/"
    },
    "id": "wM-TjnA7xcUB",
    "outputId": "4707c7d3-6910-424e-8c68-2f1613c40b9e"
   },
   "outputs": [
    {
     "data": {
      "text/plain": "PageRank:   0%|          | 0/100 [00:00<?, ?%/s]",
      "application/vnd.jupyter.widget-view+json": {
       "version_major": 2,
       "version_minor": 0,
       "model_id": "2bcc9fe87b2343119f0ad6597506a269"
      }
     },
     "metadata": {},
     "output_type": "display_data"
    },
    {
     "data": {
      "text/plain": "graphName                                                                                                                                                                                                                                                                                                                                                                                                                                                                                                                       p2p-features\ndatabase                                                                                                                                                                                                                                                                                                                                                                                                                                                                                                                               neo4j\nmemoryUsage                                                                                                                                                                                                                                                                                                                                                                                                                                                                                                                                 \nsizeInBytes                                                                                                                                                                                                                                                                                                                                                                                                                                                                                                                               -1\nnodeCount                                                                                                                                                                                                                                                                                                                                                                                                                                                                                                                              33732\nrelationshipCount                                                                                                                                                                                                                                                                                                                                                                                                                                                                                                                      92510\nconfiguration            {'relationshipProjection': {'P2P_WITH_SHARED_CARD': {'orientation': 'NATURAL', 'indexInverse': False, 'aggregation': 'DEFAULT', 'type': 'P2P_WITH_SHARED_CARD', 'properties': {}}, 'P2P_REVERSE': {'orientation': 'REVERSE', 'indexInverse': False, 'aggregation': 'SUM', 'type': 'P2P', 'properties': {'totalAmount': {'defaultValue': None, 'property': 'totalAmount', 'aggregation': 'SUM'}}}, 'P2P': {'orientation': 'NATURAL', 'indexInverse': False, 'aggregation': 'SUM', 'type': 'P2P', 'properties': {'...\ndensity                                                                                                                                                                                                                                                                                                                                                                                                                                                                                                                             0.000081\ncreationTime                                                                                                                                                                                                                                                                                                                                                                                                                                                                                             2023-04-14T13:56:49.226720311+00:00\nmodificationTime                                                                                                                                                                                                                                                                                                                                                                                                                                                                                         2023-04-14T13:56:49.318209631+00:00\nschema                                                                                                                                                                                                                                                             {'graphProperties': {}, 'relationships': {'P2P_WITH_SHARED_CARD': {}, 'P2P_REVERSE': {'totalAmount': 'Float (DefaultValue(NaN), PERSISTENT, Aggregation.SUM)'}, 'P2P': {'totalAmount': 'Float (DefaultValue(NaN), PERSISTENT, Aggregation.SUM)'}}, 'nodes': {'User': {}}}\nschemaWithOrientation                                                                                                                   {'graphProperties': {}, 'relationships': {'P2P_WITH_SHARED_CARD': {'properties': {}, 'direction': 'DIRECTED'}, 'P2P_REVERSE': {'properties': {'totalAmount': 'Float (DefaultValue(NaN), PERSISTENT, Aggregation.SUM)'}, 'direction': 'DIRECTED'}, 'P2P': {'properties': {'totalAmount': 'Float (DefaultValue(NaN), PERSISTENT, Aggregation.SUM)'}, 'direction': 'DIRECTED'}}, 'nodes': {'User': {}}}\nName: 0, dtype: object"
     },
     "execution_count": 26,
     "metadata": {},
     "output_type": "execute_result"
    }
   ],
   "source": [
    "# clear the graph if it exists beforehand\n",
    "clear_graph_by_name('p2p-features')\n",
    "\n",
    "#project\n",
    "g, _ = gds.graph.project('p2p-features', ['User'], {\n",
    "    'P2P': {'type': 'P2P', 'orientation': 'NATURAL', 'aggregation': 'SUM', 'properties': ['totalAmount']},\n",
    "    'P2P_REVERSE': {'type': 'P2P', 'orientation': 'REVERSE', 'aggregation': 'SUM', 'properties': ['totalAmount']},\n",
    "    'P2P_WITH_SHARED_CARD': {'type': 'P2P_WITH_SHARED_CARD', 'orientation': 'NATURAL'}\n",
    "})\n",
    "\n",
    "# shared card pageRank/influence\n",
    "gds.pageRank.write(g, relationshipTypes=['P2P_WITH_SHARED_CARD'], maxIterations=1000,\n",
    "                   writeProperty='p2pSharedCardPageRank')\n",
    "\n",
    "# P2P sender pageRank/influence\n",
    "gds.pageRank.write(g, relationshipTypes=['P2P'], maxIterations=1000, writeProperty='p2pSentPageRank')\n",
    "\n",
    "# P2P receiver pageRank/influence\n",
    "gds.pageRank.write(g, relationshipTypes=['P2P_REVERSE'], maxIterations=1000, relationshipWeightProperty='totalAmount',\n",
    "                   writeProperty='p2pReceivedWeightedPageRank')\n",
    "\n",
    "# P2P receiver weighted degree centrality\n",
    "gds.degree.write(g, relationshipTypes=['P2P_REVERSE'], relationshipWeightProperty='totalAmount',\n",
    "                 writeProperty='p2pReceivedWeightedDegree')\n",
    "g.drop()"
   ]
  },
  {
   "cell_type": "markdown",
   "metadata": {
    "id": "V8nX7bl7xcUB"
   },
   "source": [
    "#### ID Centrality Features"
   ]
  },
  {
   "cell_type": "code",
   "execution_count": 27,
   "metadata": {
    "colab": {
     "base_uri": "https://localhost:8080/"
    },
    "id": "vULmBZ7PxcUB",
    "outputId": "bfb88ef2-f594-41b0-cdba-1de5f388b2ba"
   },
   "outputs": [
    {
     "data": {
      "text/plain": "graphName                                                                                                                                                                                                                                                                                                                                                                                                                                                                                                           user-centrality-features\ndatabase                                                                                                                                                                                                                                                                                                                                                                                                                                                                                                                               neo4j\nmemoryUsage                                                                                                                                                                                                                                                                                                                                                                                                                                                                                                                                 \nsizeInBytes                                                                                                                                                                                                                                                                                                                                                                                                                                                                                                                               -1\nnodeCount                                                                                                                                                                                                                                                                                                                                                                                                                                                                                                                             789856\nrelationshipCount                                                                                                                                                                                                                                                                                                                                                                                                                                                                                                                    1672041\nconfiguration            {'relationshipProjection': {'HAS_IP': {'orientation': 'NATURAL', 'indexInverse': False, 'aggregation': 'DEFAULT', 'type': 'HAS_IP', 'properties': {}}, 'USED': {'orientation': 'NATURAL', 'indexInverse': False, 'aggregation': 'DEFAULT', 'type': 'USED', 'properties': {}}, 'HAS_CC': {'orientation': 'NATURAL', 'indexInverse': False, 'aggregation': 'DEFAULT', 'type': 'HAS_CC', 'properties': {}}}, 'jobId': 'f29de31f-3458-4160-bedb-fbbf041c76d7', 'nodeProjection': {'User': {'label': 'User', 'propert...\ndensity                                                                                                                                                                                                                                                                                                                                                                                                                                                                                                                             0.000003\ncreationTime                                                                                                                                                                                                                                                                                                                                                                                                                                                                                             2023-04-14T13:56:53.215565272+00:00\nmodificationTime                                                                                                                                                                                                                                                                                                                                                                                                                                                                                         2023-04-14T13:56:54.259803863+00:00\nschema                                                             {'graphProperties': {}, 'relationships': {'HAS_IP': {}, 'USED': {}, 'HAS_CC': {}}, 'nodes': {'User': {'ipDegree': 'Float (DefaultValue(NaN), TRANSIENT)', 'cardDegree': 'Float (DefaultValue(NaN), TRANSIENT)', 'deviceDegree': 'Float (DefaultValue(NaN), TRANSIENT)'}, 'Device': {'deviceDegree': 'Float (DefaultValue(NaN), TRANSIENT)'}, 'IP': {'ipDegree': 'Float (DefaultValue(NaN), TRANSIENT)'}, 'Card': {'cardDegree': 'Float (DefaultValue(NaN), TRANSIENT)'}}}\nschemaWithOrientation    {'graphProperties': {}, 'relationships': {'HAS_IP': {'properties': {}, 'direction': 'DIRECTED'}, 'USED': {'properties': {}, 'direction': 'DIRECTED'}, 'HAS_CC': {'properties': {}, 'direction': 'DIRECTED'}}, 'nodes': {'User': {'ipDegree': 'Float (DefaultValue(NaN), TRANSIENT)', 'cardDegree': 'Float (DefaultValue(NaN), TRANSIENT)', 'deviceDegree': 'Float (DefaultValue(NaN), TRANSIENT)'}, 'Device': {'deviceDegree': 'Float (DefaultValue(NaN), TRANSIENT)'}, 'IP': {'ipDegree': 'Float (DefaultValue(...\nName: 0, dtype: object"
     },
     "execution_count": 27,
     "metadata": {},
     "output_type": "execute_result"
    }
   ],
   "source": [
    "# clear the graph if it exists beforehand\n",
    "clear_graph_by_name('p2p-features')\n",
    "\n",
    "#project\n",
    "g, _ = gds.graph.project('user-centrality-features', ['User', 'Card', 'Device', 'IP'], ['HAS_CC', 'HAS_IP', 'USED'])\n",
    "\n",
    "# card count/degree\n",
    "gds.degree.mutate(g, nodeLabels=['User', 'Card'], relationshipTypes=['HAS_CC'], mutateProperty='cardDegree')\n",
    "\n",
    "# device count/degree\n",
    "gds.degree.mutate(g, nodeLabels=['User', 'Device'], relationshipTypes=['USED'], mutateProperty='deviceDegree')\n",
    "\n",
    "# IP count/degree\n",
    "gds.degree.mutate(g, nodeLabels=['User', 'IP'], relationshipTypes=['HAS_IP'], mutateProperty='ipDegree')\n",
    "\n",
    "# write node properties\n",
    "gds.graph.writeNodeProperties(g, ['cardDegree', 'deviceDegree', 'ipDegree'], ['User'])\n",
    "\n",
    "g.drop()"
   ]
  },
  {
   "cell_type": "markdown",
   "metadata": {
    "id": "BQXWSZqbxcUB"
   },
   "source": [
    "### Machine Learning Training & Evaluation"
   ]
  },
  {
   "cell_type": "markdown",
   "metadata": {
    "id": "Cb9fUIK5xcUB"
   },
   "source": [
    "#### Get and Prepare Data"
   ]
  },
  {
   "cell_type": "code",
   "execution_count": 28,
   "metadata": {
    "colab": {
     "base_uri": "https://localhost:8080/",
     "height": 488
    },
    "id": "-GxuXXywxcUB",
    "outputId": "1c6fc280-fa84-4e39-a55e-8eb26aff20a8"
   },
   "outputs": [
    {
     "data": {
      "text/plain": "                                   guid  wccId  fraudRisk  fraudMoneyTransfer  \\\n0      be0222d26897046dc92ae2929d3427e7      0          0                   0   \n1      59515432f0e2e79b83e9524c94f7f86e      1          0                   0   \n2      ba1f4324c66ee093478d41a6826a3649      2          0                   0   \n3      8a18e1625e35a9f66abfd7bd2d04f0b3      3          0                   0   \n4      9f705a0107acc25a57f9e6aa8436a08e      4          0                   0   \n...                                 ...    ...        ...                 ...   \n33727  f3693169dcc9064114a171c5c2f485b5  33727          0                   0   \n33728  10f7f048645c602de3fae7c2cf81b254  27913          0                   0   \n33729  d3a4469957800636802a8de4874af1bc  33729          0                   0   \n33730  4698ccb2e4b07b1974741f634115e49b  33730          0                   0   \n33731  8eea038c1a3408651f5980631768deaf  33731          0                   0   \n\n       p2pSharedCardPageRank  p2pSentPageRank  p2pReceivedWeightedPageRank  \\\n0                   0.150000         0.175456                     0.414277   \n1                   0.150000         0.310548                     0.150422   \n2                   0.150000         0.277500                     0.150000   \n3                   0.150000         0.230174                     0.319779   \n4                   0.150000         0.391426                     0.150000   \n...                      ...              ...                          ...   \n33727               0.150000         0.297005                     0.451011   \n33728               0.999999         0.371382                     1.632799   \n33729               0.150000         0.150000                     0.277500   \n33730               0.150000         0.181054                     0.170451   \n33731               0.150000         0.185296                     0.401513   \n\n       p2pReceivedWeightedDegree  p2pSentWeightedDegree  ipDegree  cardDegree  \\\n0                           10.0                   10.0      21.0         3.0   \n1                           10.0                   10.0       7.0         1.0   \n2                          160.0                  160.0       8.0         2.0   \n3                          100.0                  100.0     135.0        12.0   \n4                         2703.6                 2703.6     169.0         9.0   \n...                          ...                    ...       ...         ...   \n33727                        5.0                    5.0      14.0         2.0   \n33728                      150.0                  150.0       5.0         4.0   \n33729                        0.0                    0.0      38.0         2.0   \n33730                       10.0                   10.0       1.0         1.0   \n33731                        5.0                    5.0       2.0         1.0   \n\n       deviceDegree  communitySize  partOfCommunity  \n0               4.0              1                0  \n1               1.0              1                0  \n2               1.0              1                0  \n3               2.0              1                0  \n4               2.0              1                0  \n...             ...            ...              ...  \n33727           2.0              1                0  \n33728           4.0              2                1  \n33729           0.0              1                0  \n33730           0.0              1                0  \n33731           0.0              1                0  \n\n[33732 rows x 14 columns]",
      "text/html": "<div>\n<style scoped>\n    .dataframe tbody tr th:only-of-type {\n        vertical-align: middle;\n    }\n\n    .dataframe tbody tr th {\n        vertical-align: top;\n    }\n\n    .dataframe thead th {\n        text-align: right;\n    }\n</style>\n<table border=\"1\" class=\"dataframe\">\n  <thead>\n    <tr style=\"text-align: right;\">\n      <th></th>\n      <th>guid</th>\n      <th>wccId</th>\n      <th>fraudRisk</th>\n      <th>fraudMoneyTransfer</th>\n      <th>p2pSharedCardPageRank</th>\n      <th>p2pSentPageRank</th>\n      <th>p2pReceivedWeightedPageRank</th>\n      <th>p2pReceivedWeightedDegree</th>\n      <th>p2pSentWeightedDegree</th>\n      <th>ipDegree</th>\n      <th>cardDegree</th>\n      <th>deviceDegree</th>\n      <th>communitySize</th>\n      <th>partOfCommunity</th>\n    </tr>\n  </thead>\n  <tbody>\n    <tr>\n      <th>0</th>\n      <td>be0222d26897046dc92ae2929d3427e7</td>\n      <td>0</td>\n      <td>0</td>\n      <td>0</td>\n      <td>0.150000</td>\n      <td>0.175456</td>\n      <td>0.414277</td>\n      <td>10.0</td>\n      <td>10.0</td>\n      <td>21.0</td>\n      <td>3.0</td>\n      <td>4.0</td>\n      <td>1</td>\n      <td>0</td>\n    </tr>\n    <tr>\n      <th>1</th>\n      <td>59515432f0e2e79b83e9524c94f7f86e</td>\n      <td>1</td>\n      <td>0</td>\n      <td>0</td>\n      <td>0.150000</td>\n      <td>0.310548</td>\n      <td>0.150422</td>\n      <td>10.0</td>\n      <td>10.0</td>\n      <td>7.0</td>\n      <td>1.0</td>\n      <td>1.0</td>\n      <td>1</td>\n      <td>0</td>\n    </tr>\n    <tr>\n      <th>2</th>\n      <td>ba1f4324c66ee093478d41a6826a3649</td>\n      <td>2</td>\n      <td>0</td>\n      <td>0</td>\n      <td>0.150000</td>\n      <td>0.277500</td>\n      <td>0.150000</td>\n      <td>160.0</td>\n      <td>160.0</td>\n      <td>8.0</td>\n      <td>2.0</td>\n      <td>1.0</td>\n      <td>1</td>\n      <td>0</td>\n    </tr>\n    <tr>\n      <th>3</th>\n      <td>8a18e1625e35a9f66abfd7bd2d04f0b3</td>\n      <td>3</td>\n      <td>0</td>\n      <td>0</td>\n      <td>0.150000</td>\n      <td>0.230174</td>\n      <td>0.319779</td>\n      <td>100.0</td>\n      <td>100.0</td>\n      <td>135.0</td>\n      <td>12.0</td>\n      <td>2.0</td>\n      <td>1</td>\n      <td>0</td>\n    </tr>\n    <tr>\n      <th>4</th>\n      <td>9f705a0107acc25a57f9e6aa8436a08e</td>\n      <td>4</td>\n      <td>0</td>\n      <td>0</td>\n      <td>0.150000</td>\n      <td>0.391426</td>\n      <td>0.150000</td>\n      <td>2703.6</td>\n      <td>2703.6</td>\n      <td>169.0</td>\n      <td>9.0</td>\n      <td>2.0</td>\n      <td>1</td>\n      <td>0</td>\n    </tr>\n    <tr>\n      <th>...</th>\n      <td>...</td>\n      <td>...</td>\n      <td>...</td>\n      <td>...</td>\n      <td>...</td>\n      <td>...</td>\n      <td>...</td>\n      <td>...</td>\n      <td>...</td>\n      <td>...</td>\n      <td>...</td>\n      <td>...</td>\n      <td>...</td>\n      <td>...</td>\n    </tr>\n    <tr>\n      <th>33727</th>\n      <td>f3693169dcc9064114a171c5c2f485b5</td>\n      <td>33727</td>\n      <td>0</td>\n      <td>0</td>\n      <td>0.150000</td>\n      <td>0.297005</td>\n      <td>0.451011</td>\n      <td>5.0</td>\n      <td>5.0</td>\n      <td>14.0</td>\n      <td>2.0</td>\n      <td>2.0</td>\n      <td>1</td>\n      <td>0</td>\n    </tr>\n    <tr>\n      <th>33728</th>\n      <td>10f7f048645c602de3fae7c2cf81b254</td>\n      <td>27913</td>\n      <td>0</td>\n      <td>0</td>\n      <td>0.999999</td>\n      <td>0.371382</td>\n      <td>1.632799</td>\n      <td>150.0</td>\n      <td>150.0</td>\n      <td>5.0</td>\n      <td>4.0</td>\n      <td>4.0</td>\n      <td>2</td>\n      <td>1</td>\n    </tr>\n    <tr>\n      <th>33729</th>\n      <td>d3a4469957800636802a8de4874af1bc</td>\n      <td>33729</td>\n      <td>0</td>\n      <td>0</td>\n      <td>0.150000</td>\n      <td>0.150000</td>\n      <td>0.277500</td>\n      <td>0.0</td>\n      <td>0.0</td>\n      <td>38.0</td>\n      <td>2.0</td>\n      <td>0.0</td>\n      <td>1</td>\n      <td>0</td>\n    </tr>\n    <tr>\n      <th>33730</th>\n      <td>4698ccb2e4b07b1974741f634115e49b</td>\n      <td>33730</td>\n      <td>0</td>\n      <td>0</td>\n      <td>0.150000</td>\n      <td>0.181054</td>\n      <td>0.170451</td>\n      <td>10.0</td>\n      <td>10.0</td>\n      <td>1.0</td>\n      <td>1.0</td>\n      <td>0.0</td>\n      <td>1</td>\n      <td>0</td>\n    </tr>\n    <tr>\n      <th>33731</th>\n      <td>8eea038c1a3408651f5980631768deaf</td>\n      <td>33731</td>\n      <td>0</td>\n      <td>0</td>\n      <td>0.150000</td>\n      <td>0.185296</td>\n      <td>0.401513</td>\n      <td>5.0</td>\n      <td>5.0</td>\n      <td>2.0</td>\n      <td>1.0</td>\n      <td>0.0</td>\n      <td>1</td>\n      <td>0</td>\n    </tr>\n  </tbody>\n</table>\n<p>33732 rows × 14 columns</p>\n</div>"
     },
     "execution_count": 28,
     "metadata": {},
     "output_type": "execute_result"
    }
   ],
   "source": [
    "df = gds.run_cypher('''\n",
    "    MATCH(u:User)\n",
    "    RETURN u.guid AS guid,\n",
    "        u.wccId AS wccId,\n",
    "        u.fraudRisk AS fraudRisk,\n",
    "        u.fraudMoneyTransfer AS fraudMoneyTransfer,\n",
    "        u.p2pSharedCardPageRank AS p2pSharedCardPageRank,\n",
    "        u.p2pSentPageRank AS p2pSentPageRank,\n",
    "        u.p2pReceivedWeightedPageRank AS p2pReceivedWeightedPageRank,\n",
    "        u.p2pReceivedWeightedDegree AS p2pReceivedWeightedDegree,\n",
    "        u.ipDegree AS ipDegree,\n",
    "        u.cardDegree AS cardDegree,\n",
    "        u.deviceDegree AS deviceDegree,\n",
    "        u.communitySize AS communitySize,\n",
    "        u.partOfCommunity AS partOfCommunity\n",
    "''')\n",
    "df"
   ]
  },
  {
   "cell_type": "code",
   "execution_count": 29,
   "metadata": {
    "id": "lVvr6lQAxcUB"
   },
   "outputs": [],
   "source": [
    "X = df.drop(columns=['fraudRisk', 'fraudMoneyTransfer', 'wccId', 'guid'])\n",
    "y = df.fraudRisk - df.fraudMoneyTransfer"
   ]
  },
  {
   "cell_type": "code",
   "execution_count": 30,
   "metadata": {
    "colab": {
     "base_uri": "https://localhost:8080/",
     "height": 488
    },
    "id": "j4E4kjghxcUB",
    "outputId": "0eee3ab8-706c-44e0-cfc8-dacdedc2489f"
   },
   "outputs": [
    {
     "data": {
      "text/plain": "       p2pSharedCardPageRank  p2pSentPageRank  p2pReceivedWeightedPageRank  \\\n0                   0.150000         0.175456                     0.414277   \n1                   0.150000         0.310548                     0.150422   \n2                   0.150000         0.277500                     0.150000   \n3                   0.150000         0.230174                     0.319779   \n4                   0.150000         0.391426                     0.150000   \n...                      ...              ...                          ...   \n33727               0.150000         0.297005                     0.451011   \n33728               0.999999         0.371382                     1.632799   \n33729               0.150000         0.150000                     0.277500   \n33730               0.150000         0.181054                     0.170451   \n33731               0.150000         0.185296                     0.401513   \n\n       p2pReceivedWeightedDegree  p2pSentWeightedDegree  ipDegree  cardDegree  \\\n0                           10.0                   10.0      21.0         3.0   \n1                           10.0                   10.0       7.0         1.0   \n2                          160.0                  160.0       8.0         2.0   \n3                          100.0                  100.0     135.0        12.0   \n4                         2703.6                 2703.6     169.0         9.0   \n...                          ...                    ...       ...         ...   \n33727                        5.0                    5.0      14.0         2.0   \n33728                      150.0                  150.0       5.0         4.0   \n33729                        0.0                    0.0      38.0         2.0   \n33730                       10.0                   10.0       1.0         1.0   \n33731                        5.0                    5.0       2.0         1.0   \n\n       deviceDegree  communitySize  partOfCommunity  \n0               4.0              1                0  \n1               1.0              1                0  \n2               1.0              1                0  \n3               2.0              1                0  \n4               2.0              1                0  \n...             ...            ...              ...  \n33727           2.0              1                0  \n33728           4.0              2                1  \n33729           0.0              1                0  \n33730           0.0              1                0  \n33731           0.0              1                0  \n\n[33732 rows x 10 columns]",
      "text/html": "<div>\n<style scoped>\n    .dataframe tbody tr th:only-of-type {\n        vertical-align: middle;\n    }\n\n    .dataframe tbody tr th {\n        vertical-align: top;\n    }\n\n    .dataframe thead th {\n        text-align: right;\n    }\n</style>\n<table border=\"1\" class=\"dataframe\">\n  <thead>\n    <tr style=\"text-align: right;\">\n      <th></th>\n      <th>p2pSharedCardPageRank</th>\n      <th>p2pSentPageRank</th>\n      <th>p2pReceivedWeightedPageRank</th>\n      <th>p2pReceivedWeightedDegree</th>\n      <th>p2pSentWeightedDegree</th>\n      <th>ipDegree</th>\n      <th>cardDegree</th>\n      <th>deviceDegree</th>\n      <th>communitySize</th>\n      <th>partOfCommunity</th>\n    </tr>\n  </thead>\n  <tbody>\n    <tr>\n      <th>0</th>\n      <td>0.150000</td>\n      <td>0.175456</td>\n      <td>0.414277</td>\n      <td>10.0</td>\n      <td>10.0</td>\n      <td>21.0</td>\n      <td>3.0</td>\n      <td>4.0</td>\n      <td>1</td>\n      <td>0</td>\n    </tr>\n    <tr>\n      <th>1</th>\n      <td>0.150000</td>\n      <td>0.310548</td>\n      <td>0.150422</td>\n      <td>10.0</td>\n      <td>10.0</td>\n      <td>7.0</td>\n      <td>1.0</td>\n      <td>1.0</td>\n      <td>1</td>\n      <td>0</td>\n    </tr>\n    <tr>\n      <th>2</th>\n      <td>0.150000</td>\n      <td>0.277500</td>\n      <td>0.150000</td>\n      <td>160.0</td>\n      <td>160.0</td>\n      <td>8.0</td>\n      <td>2.0</td>\n      <td>1.0</td>\n      <td>1</td>\n      <td>0</td>\n    </tr>\n    <tr>\n      <th>3</th>\n      <td>0.150000</td>\n      <td>0.230174</td>\n      <td>0.319779</td>\n      <td>100.0</td>\n      <td>100.0</td>\n      <td>135.0</td>\n      <td>12.0</td>\n      <td>2.0</td>\n      <td>1</td>\n      <td>0</td>\n    </tr>\n    <tr>\n      <th>4</th>\n      <td>0.150000</td>\n      <td>0.391426</td>\n      <td>0.150000</td>\n      <td>2703.6</td>\n      <td>2703.6</td>\n      <td>169.0</td>\n      <td>9.0</td>\n      <td>2.0</td>\n      <td>1</td>\n      <td>0</td>\n    </tr>\n    <tr>\n      <th>...</th>\n      <td>...</td>\n      <td>...</td>\n      <td>...</td>\n      <td>...</td>\n      <td>...</td>\n      <td>...</td>\n      <td>...</td>\n      <td>...</td>\n      <td>...</td>\n      <td>...</td>\n    </tr>\n    <tr>\n      <th>33727</th>\n      <td>0.150000</td>\n      <td>0.297005</td>\n      <td>0.451011</td>\n      <td>5.0</td>\n      <td>5.0</td>\n      <td>14.0</td>\n      <td>2.0</td>\n      <td>2.0</td>\n      <td>1</td>\n      <td>0</td>\n    </tr>\n    <tr>\n      <th>33728</th>\n      <td>0.999999</td>\n      <td>0.371382</td>\n      <td>1.632799</td>\n      <td>150.0</td>\n      <td>150.0</td>\n      <td>5.0</td>\n      <td>4.0</td>\n      <td>4.0</td>\n      <td>2</td>\n      <td>1</td>\n    </tr>\n    <tr>\n      <th>33729</th>\n      <td>0.150000</td>\n      <td>0.150000</td>\n      <td>0.277500</td>\n      <td>0.0</td>\n      <td>0.0</td>\n      <td>38.0</td>\n      <td>2.0</td>\n      <td>0.0</td>\n      <td>1</td>\n      <td>0</td>\n    </tr>\n    <tr>\n      <th>33730</th>\n      <td>0.150000</td>\n      <td>0.181054</td>\n      <td>0.170451</td>\n      <td>10.0</td>\n      <td>10.0</td>\n      <td>1.0</td>\n      <td>1.0</td>\n      <td>0.0</td>\n      <td>1</td>\n      <td>0</td>\n    </tr>\n    <tr>\n      <th>33731</th>\n      <td>0.150000</td>\n      <td>0.185296</td>\n      <td>0.401513</td>\n      <td>5.0</td>\n      <td>5.0</td>\n      <td>2.0</td>\n      <td>1.0</td>\n      <td>0.0</td>\n      <td>1</td>\n      <td>0</td>\n    </tr>\n  </tbody>\n</table>\n<p>33732 rows × 10 columns</p>\n</div>"
     },
     "execution_count": 30,
     "metadata": {},
     "output_type": "execute_result"
    }
   ],
   "source": [
    "X"
   ]
  },
  {
   "cell_type": "code",
   "execution_count": 31,
   "metadata": {
    "colab": {
     "base_uri": "https://localhost:8080/"
    },
    "id": "VHTJyJ-8xcUB",
    "outputId": "1389b749-74f7-4373-9093-742f514a2304"
   },
   "outputs": [
    {
     "data": {
      "text/plain": "0        0\n1        0\n2        0\n3        0\n4        0\n        ..\n33727    0\n33728    0\n33729    0\n33730    0\n33731    0\nLength: 33732, dtype: int64"
     },
     "execution_count": 31,
     "metadata": {},
     "output_type": "execute_result"
    }
   ],
   "source": [
    "y"
   ]
  },
  {
   "cell_type": "code",
   "execution_count": 32,
   "metadata": {
    "id": "VVIElU8vxcUB"
   },
   "outputs": [],
   "source": [
    "from sklearn.model_selection import train_test_split\n",
    "\n",
    "X_train, X_test, y_train, y_test = train_test_split(X, y, test_size=0.2, random_state=0)"
   ]
  },
  {
   "cell_type": "markdown",
   "metadata": {
    "id": "sKdx1hW5xcUB"
   },
   "source": [
    "#### Model Training and Evaluation\n",
    "\n",
    "For purposes of this demo I am going to use a random forest classifier. Other classifiers including logistic regression, SVM, Neural Nets, and Boosting variants could work as well. Going into the exact pros and cons of these models is out of scope here. Overall, random forest can be relatively accomidating for initial exploration since the approach is relatively robust to feature scaling and collinearity issues while often only requiring only minimal tuning to get working well."
   ]
  },
  {
   "cell_type": "markdown",
   "metadata": {
    "id": "ZIOSX3BoxcUB"
   },
   "source": [
    "#### Fit sklearn random forest model\n",
    "Generate Community Based Features using Cypher.  Lets write these to the database for now."
   ]
  },
  {
   "cell_type": "code",
   "execution_count": 33,
   "metadata": {
    "colab": {
     "base_uri": "https://localhost:8080/"
    },
    "id": "vIVQTPbVxcUB",
    "outputId": "a476e639-c222-4979-9cbc-13dedd35ad34"
   },
   "outputs": [
    {
     "data": {
      "text/plain": "RandomForestClassifier(class_weight='balanced', max_depth=5, n_estimators=500,\n                       random_state=0)",
      "text/html": "<style>#sk-container-id-1 {color: black;background-color: white;}#sk-container-id-1 pre{padding: 0;}#sk-container-id-1 div.sk-toggleable {background-color: white;}#sk-container-id-1 label.sk-toggleable__label {cursor: pointer;display: block;width: 100%;margin-bottom: 0;padding: 0.3em;box-sizing: border-box;text-align: center;}#sk-container-id-1 label.sk-toggleable__label-arrow:before {content: \"▸\";float: left;margin-right: 0.25em;color: #696969;}#sk-container-id-1 label.sk-toggleable__label-arrow:hover:before {color: black;}#sk-container-id-1 div.sk-estimator:hover label.sk-toggleable__label-arrow:before {color: black;}#sk-container-id-1 div.sk-toggleable__content {max-height: 0;max-width: 0;overflow: hidden;text-align: left;background-color: #f0f8ff;}#sk-container-id-1 div.sk-toggleable__content pre {margin: 0.2em;color: black;border-radius: 0.25em;background-color: #f0f8ff;}#sk-container-id-1 input.sk-toggleable__control:checked~div.sk-toggleable__content {max-height: 200px;max-width: 100%;overflow: auto;}#sk-container-id-1 input.sk-toggleable__control:checked~label.sk-toggleable__label-arrow:before {content: \"▾\";}#sk-container-id-1 div.sk-estimator input.sk-toggleable__control:checked~label.sk-toggleable__label {background-color: #d4ebff;}#sk-container-id-1 div.sk-label input.sk-toggleable__control:checked~label.sk-toggleable__label {background-color: #d4ebff;}#sk-container-id-1 input.sk-hidden--visually {border: 0;clip: rect(1px 1px 1px 1px);clip: rect(1px, 1px, 1px, 1px);height: 1px;margin: -1px;overflow: hidden;padding: 0;position: absolute;width: 1px;}#sk-container-id-1 div.sk-estimator {font-family: monospace;background-color: #f0f8ff;border: 1px dotted black;border-radius: 0.25em;box-sizing: border-box;margin-bottom: 0.5em;}#sk-container-id-1 div.sk-estimator:hover {background-color: #d4ebff;}#sk-container-id-1 div.sk-parallel-item::after {content: \"\";width: 100%;border-bottom: 1px solid gray;flex-grow: 1;}#sk-container-id-1 div.sk-label:hover label.sk-toggleable__label {background-color: #d4ebff;}#sk-container-id-1 div.sk-serial::before {content: \"\";position: absolute;border-left: 1px solid gray;box-sizing: border-box;top: 0;bottom: 0;left: 50%;z-index: 0;}#sk-container-id-1 div.sk-serial {display: flex;flex-direction: column;align-items: center;background-color: white;padding-right: 0.2em;padding-left: 0.2em;position: relative;}#sk-container-id-1 div.sk-item {position: relative;z-index: 1;}#sk-container-id-1 div.sk-parallel {display: flex;align-items: stretch;justify-content: center;background-color: white;position: relative;}#sk-container-id-1 div.sk-item::before, #sk-container-id-1 div.sk-parallel-item::before {content: \"\";position: absolute;border-left: 1px solid gray;box-sizing: border-box;top: 0;bottom: 0;left: 50%;z-index: -1;}#sk-container-id-1 div.sk-parallel-item {display: flex;flex-direction: column;z-index: 1;position: relative;background-color: white;}#sk-container-id-1 div.sk-parallel-item:first-child::after {align-self: flex-end;width: 50%;}#sk-container-id-1 div.sk-parallel-item:last-child::after {align-self: flex-start;width: 50%;}#sk-container-id-1 div.sk-parallel-item:only-child::after {width: 0;}#sk-container-id-1 div.sk-dashed-wrapped {border: 1px dashed gray;margin: 0 0.4em 0.5em 0.4em;box-sizing: border-box;padding-bottom: 0.4em;background-color: white;}#sk-container-id-1 div.sk-label label {font-family: monospace;font-weight: bold;display: inline-block;line-height: 1.2em;}#sk-container-id-1 div.sk-label-container {text-align: center;}#sk-container-id-1 div.sk-container {/* jupyter's `normalize.less` sets `[hidden] { display: none; }` but bootstrap.min.css set `[hidden] { display: none !important; }` so we also need the `!important` here to be able to override the default hidden behavior on the sphinx rendered scikit-learn.org. See: https://github.com/scikit-learn/scikit-learn/issues/21755 */display: inline-block !important;position: relative;}#sk-container-id-1 div.sk-text-repr-fallback {display: none;}</style><div id=\"sk-container-id-1\" class=\"sk-top-container\"><div class=\"sk-text-repr-fallback\"><pre>RandomForestClassifier(class_weight=&#x27;balanced&#x27;, max_depth=5, n_estimators=500,\n                       random_state=0)</pre><b>In a Jupyter environment, please rerun this cell to show the HTML representation or trust the notebook. <br />On GitHub, the HTML representation is unable to render, please try loading this page with nbviewer.org.</b></div><div class=\"sk-container\" hidden><div class=\"sk-item\"><div class=\"sk-estimator sk-toggleable\"><input class=\"sk-toggleable__control sk-hidden--visually\" id=\"sk-estimator-id-1\" type=\"checkbox\" checked><label for=\"sk-estimator-id-1\" class=\"sk-toggleable__label sk-toggleable__label-arrow\">RandomForestClassifier</label><div class=\"sk-toggleable__content\"><pre>RandomForestClassifier(class_weight=&#x27;balanced&#x27;, max_depth=5, n_estimators=500,\n                       random_state=0)</pre></div></div></div></div></div>"
     },
     "execution_count": 33,
     "metadata": {},
     "output_type": "execute_result"
    }
   ],
   "source": [
    "from sklearn.ensemble import RandomForestClassifier\n",
    "\n",
    "clf = RandomForestClassifier(n_estimators=500, random_state=0, max_depth=5, bootstrap=True, class_weight='balanced')\n",
    "clf.fit(X_train, y_train)"
   ]
  },
  {
   "cell_type": "code",
   "execution_count": 34,
   "metadata": {
    "colab": {
     "base_uri": "https://localhost:8080/",
     "height": 332
    },
    "id": "Wn_U9mV8xcUB",
    "outputId": "8ddc7c34-231e-48ef-e796-2ea9a2b83de6"
   },
   "outputs": [
    {
     "name": "stdout",
     "output_type": "stream",
     "text": [
      "Accuracy of random forrest classifier on test set: 0.88\n",
      "\n",
      "Confusion Matrix: \n"
     ]
    },
    {
     "data": {
      "text/plain": "<Figure size 640x480 with 1 Axes>",
      "image/png": "[encoded data removed]"
     },
     "metadata": {},
     "output_type": "display_data"
    }
   ],
   "source": [
    "from sklearn.metrics import ConfusionMatrixDisplay\n",
    "print('Accuracy of random forrest classifier on test set: {:.2f}'.format(clf.score(X_test, y_test)))\n",
    "print('\\nConfusion Matrix: ')\n",
    "disp = ConfusionMatrixDisplay.from_predictions(y_test, clf.predict(X_test), display_labels=clf.classes_,\n",
    "                                               normalize='true', cmap='Greys', colorbar=False)"
   ]
  },
  {
   "cell_type": "code",
   "execution_count": 35,
   "metadata": {
    "colab": {
     "base_uri": "https://localhost:8080/",
     "height": 295
    },
    "id": "kkcwXRPDxcUB",
    "outputId": "b394148c-1b00-465e-9412-d171340325c7"
   },
   "outputs": [
    {
     "data": {
      "text/plain": "<Figure size 640x480 with 1 Axes>",
      "image/png": "[encoded data removed]"
     },
     "metadata": {},
     "output_type": "display_data"
    }
   ],
   "source": [
    "from sklearn.metrics import RocCurveDisplay\n",
    "\n",
    "display = RocCurveDisplay.from_estimator(clf, X_test, y_test, name=\"RF Model\")\n",
    "_ = display.ax_.set_title(\"ROC Curve\")"
   ]
  },
  {
   "cell_type": "code",
   "execution_count": 36,
   "metadata": {
    "colab": {
     "base_uri": "https://localhost:8080/",
     "height": 295
    },
    "id": "WmfiSbO7xcUC",
    "outputId": "7f81a81f-56f4-4bf3-ab6e-748041041e0c"
   },
   "outputs": [
    {
     "data": {
      "text/plain": "<Figure size 640x480 with 1 Axes>",
      "image/png": "[encoded data removed]"
     },
     "metadata": {},
     "output_type": "display_data"
    }
   ],
   "source": [
    "from sklearn.metrics import PrecisionRecallDisplay\n",
    "\n",
    "y_prob = clf.predict_proba(X_test)\n",
    "display = PrecisionRecallDisplay.from_predictions(y_test, y_prob[:, 1], name=\"RF Model\")\n",
    "_ = display.ax_.set_title(\"Precision-Recall Curve\")"
   ]
  },
  {
   "cell_type": "markdown",
   "metadata": {
    "id": "Lx0GJmWpxcUC"
   },
   "source": [
    "Below is a ranked list of the most influential features. Among the most important are the community sizes and the shared ids degree and p2p shared card pageRank."
   ]
  },
  {
   "cell_type": "code",
   "execution_count": 52,
   "outputs": [
    {
     "data": {
      "text/plain": "                       feature  importance\n0                communitySize    0.360066\n1              partOfCommunity    0.306585\n2        p2pSharedCardPageRank    0.155495\n3        p2pSentWeightedDegree    0.042124\n4    p2pReceivedWeightedDegree    0.036486\n5                     ipDegree    0.030726\n6              p2pSentPageRank    0.020776\n7                 deviceDegree    0.019083\n8                   cardDegree    0.014332\n9  p2pReceivedWeightedPageRank    0.014327",
      "text/html": "<div>\n<style scoped>\n    .dataframe tbody tr th:only-of-type {\n        vertical-align: middle;\n    }\n\n    .dataframe tbody tr th {\n        vertical-align: top;\n    }\n\n    .dataframe thead th {\n        text-align: right;\n    }\n</style>\n<table border=\"1\" class=\"dataframe\">\n  <thead>\n    <tr style=\"text-align: right;\">\n      <th></th>\n      <th>feature</th>\n      <th>importance</th>\n    </tr>\n  </thead>\n  <tbody>\n    <tr>\n      <th>0</th>\n      <td>communitySize</td>\n      <td>0.360066</td>\n    </tr>\n    <tr>\n      <th>1</th>\n      <td>partOfCommunity</td>\n      <td>0.306585</td>\n    </tr>\n    <tr>\n      <th>2</th>\n      <td>p2pSharedCardPageRank</td>\n      <td>0.155495</td>\n    </tr>\n    <tr>\n      <th>3</th>\n      <td>p2pSentWeightedDegree</td>\n      <td>0.042124</td>\n    </tr>\n    <tr>\n      <th>4</th>\n      <td>p2pReceivedWeightedDegree</td>\n      <td>0.036486</td>\n    </tr>\n    <tr>\n      <th>5</th>\n      <td>ipDegree</td>\n      <td>0.030726</td>\n    </tr>\n    <tr>\n      <th>6</th>\n      <td>p2pSentPageRank</td>\n      <td>0.020776</td>\n    </tr>\n    <tr>\n      <th>7</th>\n      <td>deviceDegree</td>\n      <td>0.019083</td>\n    </tr>\n    <tr>\n      <th>8</th>\n      <td>cardDegree</td>\n      <td>0.014332</td>\n    </tr>\n    <tr>\n      <th>9</th>\n      <td>p2pReceivedWeightedPageRank</td>\n      <td>0.014327</td>\n    </tr>\n  </tbody>\n</table>\n</div>"
     },
     "execution_count": 52,
     "metadata": {},
     "output_type": "execute_result"
    }
   ],
   "source": [
    "def feature_importance(columns, classifier):\n",
    "    features = list(zip(columns, classifier.feature_importances_))\n",
    "    sorted_features = sorted(features, key = lambda x: x[1]*-1)\n",
    "\n",
    "    keys = [value[0] for value in sorted_features]\n",
    "    values = [value[1] for value in sorted_features]\n",
    "    return pd.DataFrame(data={'feature': keys, 'importance': values})\n",
    "\n",
    "feature_importance(X_train.columns, clf)"
   ],
   "metadata": {
    "collapsed": false
   }
  },
  {
   "cell_type": "markdown",
   "metadata": {
    "id": "AYf0bDmgxcUC"
   },
   "source": [
    "### Investigating Unlabeled High-Probability Fraud Risk Predictions\n",
    "The labeling from part 2 wasn't perfect. Now that we have trained a machine learning model, investigating user accounts that were predicted as high probability fraud risks despite not being labeled as such by us (ostensible false positives), will bring further insights.\n",
    "\n",
    "The below commands will isolate some cases from the test set so we can visualize in [Neo4j Bloom](https://neo4j.com/product/bloom/)"
   ]
  },
  {
   "cell_type": "code",
   "execution_count": 100,
   "metadata": {
    "colab": {
     "base_uri": "https://localhost:8080/",
     "height": 143
    },
    "id": "DR6ovDAhxcUC",
    "outputId": "bb0337c1-1e87-478b-d016-6d0a318f7b0d"
   },
   "outputs": [
    {
     "data": {
      "text/html": [
       "<div>\n",
       "<style scoped>\n",
       "    .dataframe tbody tr th:only-of-type {\n",
       "        vertical-align: middle;\n",
       "    }\n",
       "\n",
       "    .dataframe tbody tr th {\n",
       "        vertical-align: top;\n",
       "    }\n",
       "\n",
       "    .dataframe thead th {\n",
       "        text-align: right;\n",
       "    }\n",
       "</style>\n",
       "<table border=\"1\" class=\"dataframe\">\n",
       "  <thead>\n",
       "    <tr style=\"text-align: right;\">\n",
       "      <th></th>\n",
       "      <th>cls</th>\n",
       "      <th>predictedProbability</th>\n",
       "      <th>guid</th>\n",
       "      <th>wccId</th>\n",
       "      <th>communitySize</th>\n",
       "    </tr>\n",
       "  </thead>\n",
       "  <tbody>\n",
       "    <tr>\n",
       "      <th>10344</th>\n",
       "      <td>0</td>\n",
       "      <td>0.945875</td>\n",
       "      <td>bf39047c8f385a0a6657217c1b052858</td>\n",
       "      <td>363</td>\n",
       "      <td>7</td>\n",
       "    </tr>\n",
       "    <tr>\n",
       "      <th>30348</th>\n",
       "      <td>0</td>\n",
       "      <td>0.901191</td>\n",
       "      <td>008cc9b3a7a3f5706654dd9993889578</td>\n",
       "      <td>5193</td>\n",
       "      <td>5</td>\n",
       "    </tr>\n",
       "    <tr>\n",
       "      <th>31053</th>\n",
       "      <td>0</td>\n",
       "      <td>0.900124</td>\n",
       "      <td>1726639c416c87f3ba18b2dad78b8ad3</td>\n",
       "      <td>23868</td>\n",
       "      <td>2</td>\n",
       "    </tr>\n",
       "  </tbody>\n",
       "</table>\n",
       "</div>"
      ],
      "text/plain": [
       "       cls  predictedProbability                              guid  wccId  \\\n",
       "10344    0              0.945875  bf39047c8f385a0a6657217c1b052858    363   \n",
       "30348    0              0.901191  008cc9b3a7a3f5706654dd9993889578   5193   \n",
       "31053    0              0.900124  1726639c416c87f3ba18b2dad78b8ad3  23868   \n",
       "\n",
       "       communitySize  \n",
       "10344              7  \n",
       "30348              5  \n",
       "31053              2  "
      ]
     },
     "execution_count": 100,
     "metadata": {},
     "output_type": "execute_result"
    }
   ],
   "source": [
    "# Retrieve High Probability predictions for non-fraud risk labeled data in the testset\n",
    "y_test_df = y_test.to_frame(name='cls')\n",
    "y_test_df['predictedProbability']=y_prob[:, 1]\n",
    "test_prob_df = y_test_df[(y_test_df.predictedProbability > 0.9) & (y_test_df.cls == 0)]\\\n",
    "    .join(df[['guid','wccId', 'communitySize']]).sort_values('predictedProbability', ascending=False)\n",
    "test_prob_df"
   ]
  },
  {
   "cell_type": "code",
   "execution_count": 101,
   "metadata": {
    "colab": {
     "base_uri": "https://localhost:8080/",
     "height": 49
    },
    "id": "NAWm7u23xcUC",
    "outputId": "4ababeb8-ec12-45b6-b3d7-4499925058e3"
   },
   "outputs": [
    {
     "data": {
      "text/html": [
       "<div>\n",
       "<style scoped>\n",
       "    .dataframe tbody tr th:only-of-type {\n",
       "        vertical-align: middle;\n",
       "    }\n",
       "\n",
       "    .dataframe tbody tr th {\n",
       "        vertical-align: top;\n",
       "    }\n",
       "\n",
       "    .dataframe thead th {\n",
       "        text-align: right;\n",
       "    }\n",
       "</style>\n",
       "<table border=\"1\" class=\"dataframe\">\n",
       "  <thead>\n",
       "    <tr style=\"text-align: right;\">\n",
       "      <th></th>\n",
       "    </tr>\n",
       "  </thead>\n",
       "  <tbody>\n",
       "  </tbody>\n",
       "</table>\n",
       "</div>"
      ],
      "text/plain": [
       "Empty DataFrame\n",
       "Columns: []\n",
       "Index: []"
      ]
     },
     "execution_count": 101,
     "metadata": {},
     "output_type": "execute_result"
    }
   ],
   "source": [
    "#Write back to database for investigation in Bloom\n",
    "gds.run_cypher('''\n",
    "    UNWIND $predictRecords AS p\n",
    "    MATCH(u:User) WHERE u.guid = p.guid\n",
    "    SET u.predictedProbability = p.predictedProbability\n",
    "    SET u:PredictedFraudRisk\n",
    "''', params = {'predictRecords':test_prob_df.to_dict(orient='records')})"
   ]
  },
  {
   "cell_type": "markdown",
   "metadata": {
    "id": "maNqKbArxcUC"
   },
   "source": [
    "Below are a couple examples from the test set visualized in [Bloom](https://neo4j.com/docs/bloom-user-guide/current/) . The larger, leftmost, green nodes with user icons represent the high probability nodes of interest.\n",
    "You can use the below query to explore yourself:\n",
    "```cypher\n",
    "MATCH(p:PredictedFraudRisk)\n",
    "WITH COLLECT(p.wccId) AS wccIds\n",
    "MATCH(u1:User) WHERE u1.wccId IN wccIds\n",
    "MATCH(u2:User) WHERE u2.wccId IN wccIds\n",
    "WITH u1, u2\n",
    "MATCH(u1)-[r1:HAS_CC|HAS_IP|USED]->(n)<-[r2:HAS_CC|HAS_IP|USED]-(u2)\n",
    "WITH *\n",
    "OPTIONAL MATCH (u1)-[r3:P2P]-(u2)\n",
    "RETURN *\n",
    "```\n",
    "Example 1\n",
    "<img src=\"https://github.com/neo4j-product-examples/training-graph-data-science/blob/main/img/predictions-in-bloom-1.png?raw=1\" width=\"700\" >\n",
    "\n",
    "Example 2\n",
    "<img src=\"https://github.com/neo4j-product-examples/training-graph-data-science/blob/main/img/predictions-in-bloom-2.png?raw=1\" width=\"700\" >\n"
   ]
  },
  {
   "cell_type": "markdown",
   "metadata": {
    "id": "oZEx-HwGxcUC"
   },
   "source": [
    "## Clean Up\n",
    "This section will help clean all the additional graph elements and properties created in the above workflow."
   ]
  },
  {
   "cell_type": "code",
   "execution_count": 102,
   "metadata": {
    "colab": {
     "base_uri": "https://localhost:8080/",
     "height": 49
    },
    "id": "r7SxLj5_xcUC",
    "outputId": "844594cf-e6ba-46ed-8ec3-d234a3a5bd3d",
    "pycharm": {
     "is_executing": true
    }
   },
   "outputs": [
    {
     "data": {
      "text/html": [
       "<div>\n",
       "<style scoped>\n",
       "    .dataframe tbody tr th:only-of-type {\n",
       "        vertical-align: middle;\n",
       "    }\n",
       "\n",
       "    .dataframe tbody tr th {\n",
       "        vertical-align: top;\n",
       "    }\n",
       "\n",
       "    .dataframe thead th {\n",
       "        text-align: right;\n",
       "    }\n",
       "</style>\n",
       "<table border=\"1\" class=\"dataframe\">\n",
       "  <thead>\n",
       "    <tr style=\"text-align: right;\">\n",
       "      <th></th>\n",
       "    </tr>\n",
       "  </thead>\n",
       "  <tbody>\n",
       "  </tbody>\n",
       "</table>\n",
       "</div>"
      ],
      "text/plain": [
       "Empty DataFrame\n",
       "Columns: []\n",
       "Index: []"
      ]
     },
     "execution_count": 102,
     "metadata": {},
     "output_type": "execute_result"
    }
   ],
   "source": [
    "# delete created relationships\n",
    "gds.run_cypher('MATCH (:User)-[r:P2P_WITH_SHARED_CARD]->() DELETE r')\n",
    "gds.run_cypher('MATCH (:User)-[r:AGGREGATED_P2P]->() DELETE r')"
   ]
  },
  {
   "cell_type": "code",
   "execution_count": 103,
   "metadata": {
    "colab": {
     "base_uri": "https://localhost:8080/",
     "height": 49
    },
    "id": "NjmNjJDqQ-9Q",
    "outputId": "9feb89a2-11e2-4d76-fe67-d8cfbd6e1caf"
   },
   "outputs": [
    {
     "data": {
      "text/html": [
       "<div>\n",
       "<style scoped>\n",
       "    .dataframe tbody tr th:only-of-type {\n",
       "        vertical-align: middle;\n",
       "    }\n",
       "\n",
       "    .dataframe tbody tr th {\n",
       "        vertical-align: top;\n",
       "    }\n",
       "\n",
       "    .dataframe thead th {\n",
       "        text-align: right;\n",
       "    }\n",
       "</style>\n",
       "<table border=\"1\" class=\"dataframe\">\n",
       "  <thead>\n",
       "    <tr style=\"text-align: right;\">\n",
       "      <th></th>\n",
       "    </tr>\n",
       "  </thead>\n",
       "  <tbody>\n",
       "  </tbody>\n",
       "</table>\n",
       "</div>"
      ],
      "text/plain": [
       "Empty DataFrame\n",
       "Columns: []\n",
       "Index: []"
      ]
     },
     "execution_count": 103,
     "metadata": {},
     "output_type": "execute_result"
    }
   ],
   "source": [
    "gds.run_cypher('MATCH (:User)-[r:AGGREGATED_P2P]->() DELETE r')"
   ]
  },
  {
   "cell_type": "code",
   "execution_count": 104,
   "metadata": {
    "colab": {
     "base_uri": "https://localhost:8080/",
     "height": 49
    },
    "id": "dpGS0h5cxcUC",
    "outputId": "c7325236-a27c-41d6-ce2c-3d7aec510e61",
    "pycharm": {
     "is_executing": true
    }
   },
   "outputs": [
    {
     "data": {
      "text/html": [
       "<div>\n",
       "<style scoped>\n",
       "    .dataframe tbody tr th:only-of-type {\n",
       "        vertical-align: middle;\n",
       "    }\n",
       "\n",
       "    .dataframe tbody tr th {\n",
       "        vertical-align: top;\n",
       "    }\n",
       "\n",
       "    .dataframe thead th {\n",
       "        text-align: right;\n",
       "    }\n",
       "</style>\n",
       "<table border=\"1\" class=\"dataframe\">\n",
       "  <thead>\n",
       "    <tr style=\"text-align: right;\">\n",
       "      <th></th>\n",
       "    </tr>\n",
       "  </thead>\n",
       "  <tbody>\n",
       "  </tbody>\n",
       "</table>\n",
       "</div>"
      ],
      "text/plain": [
       "Empty DataFrame\n",
       "Columns: []\n",
       "Index: []"
      ]
     },
     "execution_count": 104,
     "metadata": {},
     "output_type": "execute_result"
    }
   ],
   "source": [
    "# remove created node Labels\n",
    "gds.run_cypher('MATCH (u:FlaggedUser) REMOVE u:FlaggedUser')\n",
    "gds.run_cypher('MATCH (u:FraudRiskUser) REMOVE u:FraudRiskUser')\n",
    "gds.run_cypher('MATCH (u:FraudSharedId) REMOVE u:FraudSharedId')\n",
    "gds.run_cypher('MATCH (u:PredictedFraudRisk) REMOVE u:PredictedFraudRisk')"
   ]
  },
  {
   "cell_type": "code",
   "execution_count": 105,
   "metadata": {
    "colab": {
     "base_uri": "https://localhost:8080/",
     "height": 49
    },
    "id": "9SMA9eUZxcUC",
    "outputId": "0ee9cc8a-4ffa-4caf-fbf8-c7fdad1c63ef",
    "pycharm": {
     "is_executing": true
    }
   },
   "outputs": [
    {
     "data": {
      "text/html": [
       "<div>\n",
       "<style scoped>\n",
       "    .dataframe tbody tr th:only-of-type {\n",
       "        vertical-align: middle;\n",
       "    }\n",
       "\n",
       "    .dataframe tbody tr th {\n",
       "        vertical-align: top;\n",
       "    }\n",
       "\n",
       "    .dataframe thead th {\n",
       "        text-align: right;\n",
       "    }\n",
       "</style>\n",
       "<table border=\"1\" class=\"dataframe\">\n",
       "  <thead>\n",
       "    <tr style=\"text-align: right;\">\n",
       "      <th></th>\n",
       "    </tr>\n",
       "  </thead>\n",
       "  <tbody>\n",
       "  </tbody>\n",
       "</table>\n",
       "</div>"
      ],
      "text/plain": [
       "Empty DataFrame\n",
       "Columns: []\n",
       "Index: []"
      ]
     },
     "execution_count": 105,
     "metadata": {},
     "output_type": "execute_result"
    }
   ],
   "source": [
    "# remove created node properties\n",
    "gds.run_cypher('''\n",
    "    MATCH (n)\n",
    "    REMOVE n.wccId,\n",
    "        n.sharedIdsDegree,\n",
    "        n.predictedProbability,\n",
    "        n.partOfCommunity,\n",
    "        n.p2pSharedCardPageRank,\n",
    "        n.p2pSharedCardDegree,\n",
    "        n.p2pSentWeightedPageRank,\n",
    "        n.p2pSentPageRank,\n",
    "        n.p2pSentDegree,\n",
    "        n.p2pReversedSharedCardPageRank,\n",
    "        n.p2pReversedSharedCardDegree,\n",
    "        n.p2pReceivedWeightedPageRank,\n",
    "        n.p2pReceivedWeightedDegree,\n",
    "        n.p2pReceivedPageRank,\n",
    "        n.p2pReceivedDegree,\n",
    "        n.louvainCommunityId,\n",
    "        n.ipDegree,\n",
    "        n.fraudRiskRatio,\n",
    "        n.fraudRiskDegree,\n",
    "        n.fraudRisk,\n",
    "        n.flaggedRatio,\n",
    "        n.flaggedDegree,\n",
    "        n.deviceDegree,\n",
    "        n.degree,\n",
    "        n.communitySize,\n",
    "        n.cardDegree\n",
    "''')"
   ]
  },
  {
   "cell_type": "code",
   "execution_count": null,
   "metadata": {},
   "outputs": [],
   "source": []
  }
 ],
 "metadata": {
  "colab": {
   "provenance": []
  },
  "environment": {
   "kernel": "python3",
   "name": "pytorch-gpu.1-13.m103",
   "type": "gcloud",
   "uri": "gcr.io/deeplearning-platform-release/pytorch-gpu.1-13:m103"
  },
  "kernelspec": {
   "display_name": "Python 3 (ipykernel)",
   "language": "python",
   "name": "python3"
  },
  "language_info": {
   "codemirror_mode": {
    "name": "ipython",
    "version": 3
   },
   "file_extension": ".py",
   "mimetype": "text/x-python",
   "name": "python",
   "nbconvert_exporter": "python",
   "pygments_lexer": "ipython3",
   "version": "3.10.10"
  },
  "widgets": {
   "application/vnd.jupyter.widget-state+json": {
    "1a3bd3a5924f4e79a94721c320f6acf0": {
     "model_module": "@jupyter-widgets/controls",
     "model_module_version": "1.5.0",
     "model_name": "HBoxModel",
     "state": {
      "_dom_classes": [],
      "_model_module": "@jupyter-widgets/controls",
      "_model_module_version": "1.5.0",
      "_model_name": "HBoxModel",
      "_view_count": null,
      "_view_module": "@jupyter-widgets/controls",
      "_view_module_version": "1.5.0",
      "_view_name": "HBoxView",
      "box_style": "",
      "children": [
       "IPY_MODEL_4f4b8543266a4669af47d847c238c782",
       "IPY_MODEL_7338d9b87c1b4e83957c43a4bca12c2b",
       "IPY_MODEL_a088135c732f45cfacedbefd710cc81b"
      ],
      "layout": "IPY_MODEL_dcf0665be4a64c4caaa466c542b8689a"
     }
    },
    "4f4b8543266a4669af47d847c238c782": {
     "model_module": "@jupyter-widgets/controls",
     "model_module_version": "1.5.0",
     "model_name": "HTMLModel",
     "state": {
      "_dom_classes": [],
      "_model_module": "@jupyter-widgets/controls",
      "_model_module_version": "1.5.0",
      "_model_name": "HTMLModel",
      "_view_count": null,
      "_view_module": "@jupyter-widgets/controls",
      "_view_module_version": "1.5.0",
      "_view_name": "HTMLView",
      "description": "",
      "description_tooltip": null,
      "layout": "IPY_MODEL_f287f0b6ef2943ffa2f73124eaa8ba90",
      "placeholder": "​",
      "style": "IPY_MODEL_c414cd43373a461486a62ee3819397f2",
      "value": "Louvain: 100%"
     }
    },
    "5bf44880ce2c43239141ef65861bd7e0": {
     "model_module": "@jupyter-widgets/controls",
     "model_module_version": "1.5.0",
     "model_name": "DescriptionStyleModel",
     "state": {
      "_model_module": "@jupyter-widgets/controls",
      "_model_module_version": "1.5.0",
      "_model_name": "DescriptionStyleModel",
      "_view_count": null,
      "_view_module": "@jupyter-widgets/base",
      "_view_module_version": "1.2.0",
      "_view_name": "StyleView",
      "description_width": ""
     }
    },
    "7338d9b87c1b4e83957c43a4bca12c2b": {
     "model_module": "@jupyter-widgets/controls",
     "model_module_version": "1.5.0",
     "model_name": "FloatProgressModel",
     "state": {
      "_dom_classes": [],
      "_model_module": "@jupyter-widgets/controls",
      "_model_module_version": "1.5.0",
      "_model_name": "FloatProgressModel",
      "_view_count": null,
      "_view_module": "@jupyter-widgets/controls",
      "_view_module_version": "1.5.0",
      "_view_name": "ProgressView",
      "bar_style": "success",
      "description": "",
      "description_tooltip": null,
      "layout": "IPY_MODEL_b2d1e17f953e4d62bdfe11a3cf152653",
      "max": 100,
      "min": 0,
      "orientation": "horizontal",
      "style": "IPY_MODEL_b0ac46fa266948989e3a80ddf73989ef",
      "value": 100
     }
    },
    "9cb3e6832b6d4b17b55e3ce1de128d25": {
     "model_module": "@jupyter-widgets/base",
     "model_module_version": "1.2.0",
     "model_name": "LayoutModel",
     "state": {
      "_model_module": "@jupyter-widgets/base",
      "_model_module_version": "1.2.0",
      "_model_name": "LayoutModel",
      "_view_count": null,
      "_view_module": "@jupyter-widgets/base",
      "_view_module_version": "1.2.0",
      "_view_name": "LayoutView",
      "align_content": null,
      "align_items": null,
      "align_self": null,
      "border": null,
      "bottom": null,
      "display": null,
      "flex": null,
      "flex_flow": null,
      "grid_area": null,
      "grid_auto_columns": null,
      "grid_auto_flow": null,
      "grid_auto_rows": null,
      "grid_column": null,
      "grid_gap": null,
      "grid_row": null,
      "grid_template_areas": null,
      "grid_template_columns": null,
      "grid_template_rows": null,
      "height": null,
      "justify_content": null,
      "justify_items": null,
      "left": null,
      "margin": null,
      "max_height": null,
      "max_width": null,
      "min_height": null,
      "min_width": null,
      "object_fit": null,
      "object_position": null,
      "order": null,
      "overflow": null,
      "overflow_x": null,
      "overflow_y": null,
      "padding": null,
      "right": null,
      "top": null,
      "visibility": null,
      "width": null
     }
    },
    "a088135c732f45cfacedbefd710cc81b": {
     "model_module": "@jupyter-widgets/controls",
     "model_module_version": "1.5.0",
     "model_name": "HTMLModel",
     "state": {
      "_dom_classes": [],
      "_model_module": "@jupyter-widgets/controls",
      "_model_module_version": "1.5.0",
      "_model_name": "HTMLModel",
      "_view_count": null,
      "_view_module": "@jupyter-widgets/controls",
      "_view_module_version": "1.5.0",
      "_view_name": "HTMLView",
      "description": "",
      "description_tooltip": null,
      "layout": "IPY_MODEL_9cb3e6832b6d4b17b55e3ce1de128d25",
      "placeholder": "​",
      "style": "IPY_MODEL_5bf44880ce2c43239141ef65861bd7e0",
      "value": " 100.0/100 [06:33&lt;00:00, 61.48%/s]"
     }
    },
    "b0ac46fa266948989e3a80ddf73989ef": {
     "model_module": "@jupyter-widgets/controls",
     "model_module_version": "1.5.0",
     "model_name": "ProgressStyleModel",
     "state": {
      "_model_module": "@jupyter-widgets/controls",
      "_model_module_version": "1.5.0",
      "_model_name": "ProgressStyleModel",
      "_view_count": null,
      "_view_module": "@jupyter-widgets/base",
      "_view_module_version": "1.2.0",
      "_view_name": "StyleView",
      "bar_color": null,
      "description_width": ""
     }
    },
    "b2d1e17f953e4d62bdfe11a3cf152653": {
     "model_module": "@jupyter-widgets/base",
     "model_module_version": "1.2.0",
     "model_name": "LayoutModel",
     "state": {
      "_model_module": "@jupyter-widgets/base",
      "_model_module_version": "1.2.0",
      "_model_name": "LayoutModel",
      "_view_count": null,
      "_view_module": "@jupyter-widgets/base",
      "_view_module_version": "1.2.0",
      "_view_name": "LayoutView",
      "align_content": null,
      "align_items": null,
      "align_self": null,
      "border": null,
      "bottom": null,
      "display": null,
      "flex": null,
      "flex_flow": null,
      "grid_area": null,
      "grid_auto_columns": null,
      "grid_auto_flow": null,
      "grid_auto_rows": null,
      "grid_column": null,
      "grid_gap": null,
      "grid_row": null,
      "grid_template_areas": null,
      "grid_template_columns": null,
      "grid_template_rows": null,
      "height": null,
      "justify_content": null,
      "justify_items": null,
      "left": null,
      "margin": null,
      "max_height": null,
      "max_width": null,
      "min_height": null,
      "min_width": null,
      "object_fit": null,
      "object_position": null,
      "order": null,
      "overflow": null,
      "overflow_x": null,
      "overflow_y": null,
      "padding": null,
      "right": null,
      "top": null,
      "visibility": null,
      "width": null
     }
    },
    "c414cd43373a461486a62ee3819397f2": {
     "model_module": "@jupyter-widgets/controls",
     "model_module_version": "1.5.0",
     "model_name": "DescriptionStyleModel",
     "state": {
      "_model_module": "@jupyter-widgets/controls",
      "_model_module_version": "1.5.0",
      "_model_name": "DescriptionStyleModel",
      "_view_count": null,
      "_view_module": "@jupyter-widgets/base",
      "_view_module_version": "1.2.0",
      "_view_name": "StyleView",
      "description_width": ""
     }
    },
    "dcf0665be4a64c4caaa466c542b8689a": {
     "model_module": "@jupyter-widgets/base",
     "model_module_version": "1.2.0",
     "model_name": "LayoutModel",
     "state": {
      "_model_module": "@jupyter-widgets/base",
      "_model_module_version": "1.2.0",
      "_model_name": "LayoutModel",
      "_view_count": null,
      "_view_module": "@jupyter-widgets/base",
      "_view_module_version": "1.2.0",
      "_view_name": "LayoutView",
      "align_content": null,
      "align_items": null,
      "align_self": null,
      "border": null,
      "bottom": null,
      "display": null,
      "flex": null,
      "flex_flow": null,
      "grid_area": null,
      "grid_auto_columns": null,
      "grid_auto_flow": null,
      "grid_auto_rows": null,
      "grid_column": null,
      "grid_gap": null,
      "grid_row": null,
      "grid_template_areas": null,
      "grid_template_columns": null,
      "grid_template_rows": null,
      "height": null,
      "justify_content": null,
      "justify_items": null,
      "left": null,
      "margin": null,
      "max_height": null,
      "max_width": null,
      "min_height": null,
      "min_width": null,
      "object_fit": null,
      "object_position": null,
      "order": null,
      "overflow": null,
      "overflow_x": null,
      "overflow_y": null,
      "padding": null,
      "right": null,
      "top": null,
      "visibility": null,
      "width": null
     }
    },
    "f287f0b6ef2943ffa2f73124eaa8ba90": {
     "model_module": "@jupyter-widgets/base",
     "model_module_version": "1.2.0",
     "model_name": "LayoutModel",
     "state": {
      "_model_module": "@jupyter-widgets/base",
      "_model_module_version": "1.2.0",
      "_model_name": "LayoutModel",
      "_view_count": null,
      "_view_module": "@jupyter-widgets/base",
      "_view_module_version": "1.2.0",
      "_view_name": "LayoutView",
      "align_content": null,
      "align_items": null,
      "align_self": null,
      "border": null,
      "bottom": null,
      "display": null,
      "flex": null,
      "flex_flow": null,
      "grid_area": null,
      "grid_auto_columns": null,
      "grid_auto_flow": null,
      "grid_auto_rows": null,
      "grid_column": null,
      "grid_gap": null,
      "grid_row": null,
      "grid_template_areas": null,
      "grid_template_columns": null,
      "grid_template_rows": null,
      "height": null,
      "justify_content": null,
      "justify_items": null,
      "left": null,
      "margin": null,
      "max_height": null,
      "max_width": null,
      "min_height": null,
      "min_width": null,
      "object_fit": null,
      "object_position": null,
      "order": null,
      "overflow": null,
      "overflow_x": null,
      "overflow_y": null,
      "padding": null,
      "right": null,
      "top": null,
      "visibility": null,
      "width": null
     }
    }
   }
  }
 },
 "nbformat": 4,
 "nbformat_minor": 4
}
